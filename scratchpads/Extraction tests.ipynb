{
 "cells": [
  {
   "cell_type": "code",
   "execution_count": 1,
   "metadata": {},
   "outputs": [],
   "source": [
    "%load_ext autoreload\n",
    "%autoreload 2"
   ]
  },
  {
   "cell_type": "code",
   "execution_count": 2,
   "metadata": {},
   "outputs": [],
   "source": [
    "import sys; sys.path.append('..')\n",
    "import random, math, os\n",
    "import pyzx as zx\n",
    "from fractions import Fraction\n",
    "import numpy as np\n",
    "%config InlineBackend.figure_format = 'svg'\n",
    "zx.quantomatic.quantomatic_location = r'C:\\Users\\John\\Desktop\\Quantomatic.jar'\n",
    "zx.tikz.tikzit_location = r'C:\\Users\\John\\Documents\\tikzit\\tikzit.exe'"
   ]
  },
  {
   "cell_type": "code",
   "execution_count": 3,
   "metadata": {},
   "outputs": [],
   "source": [
    "def generate_clifford_circuit(qubits, depth, p_cnot=0.3, p_t=0):\n",
    "    p_s = 0.5*(1.0-p_cnot-p_t)\n",
    "    p_had = 0.5*(1.0-p_cnot-p_t)\n",
    "    c = zx.Circuit(qubits)\n",
    "    for _ in range(depth):\n",
    "        r = random.random()\n",
    "        if r > 1-p_had:\n",
    "            c.add_gate(\"HAD\",random.randrange(qubits))\n",
    "        elif r > 1-p_had-p_s:\n",
    "            c.add_gate(\"S\",random.randrange(qubits))\n",
    "        elif r > 1-p_had-p_s-p_t:\n",
    "            c.add_gate(\"T\",random.randrange(qubits))\n",
    "        else:\n",
    "            tgt = random.randrange(qubits)\n",
    "            while True:\n",
    "                ctrl = random.randrange(qubits)\n",
    "                if ctrl!=tgt: break\n",
    "            c.add_gate(\"CNOT\",tgt,ctrl)\n",
    "    return c"
   ]
  },
  {
   "cell_type": "code",
   "execution_count": 118,
   "metadata": {
    "scrolled": false
   },
   "outputs": [
    {
     "name": "stdout",
     "output_type": "stream",
     "text": [
      "Circuit H2_UCCSD_JW_631g.qasm on 8 qubits with 5236 gates.\n",
      "        84 is the T-count\n",
      "        5152 Cliffords among which \n",
      "        768 2-qubit gates and 1880 Hadamard gates.\n",
      "Circuit  on 8 qubits with 1042 gates.\n",
      "        84 is the T-count\n",
      "        958 Cliffords among which \n",
      "        526 2-qubit gates and 213 Hadamard gates.\n"
     ]
    }
   ],
   "source": [
    "c = zx.Circuit.load(r'..\\..\\pytket\\examples\\benchmarking\\ChemistrySet\\H2_UCCSD_JW_631g.qasm').split_phase_gates().to_basic_gates()\n",
    "#c = zx.Circuit.load(r'..\\circuits\\Fast\\barenco_tof_5_before').to_basic_gates()\n",
    "print(c.stats())\n",
    "c_opt = zx.optimize.basic_optimization(c).to_basic_gates()\n",
    "print(c_opt.stats())"
   ]
  },
  {
   "cell_type": "code",
   "execution_count": 130,
   "metadata": {},
   "outputs": [],
   "source": [
    "architecture = zx.routing.architecture.create_rigetti_16q_aspen_architecture()\n",
    "#architecture.visualize()"
   ]
  },
  {
   "cell_type": "code",
   "execution_count": 94,
   "metadata": {},
   "outputs": [],
   "source": [
    "architecture = zx.cnot_mapper.create_architecture('square',n_qubits=9)\n",
    "#architecture.visualize()"
   ]
  },
  {
   "cell_type": "code",
   "execution_count": 131,
   "metadata": {},
   "outputs": [
    {
     "name": "stdout",
     "output_type": "stream",
     "text": [
      "[2, 3, 1, 0, 6, 12, 5, 14, 9, 8, 15, 7, 10, 13, 4, 11] 2907\n",
      "[0, 9, 12, 5, 15, 10, 13, 2, 4, 14, 8, 3, 7, 11, 1, 6] 2457\n",
      "[13, 6, 9, 1, 8, 12, 14, 10, 0, 15, 5, 3, 2, 7, 4, 11] 2711\n",
      "[10, 8, 11, 0, 5, 4, 6, 3, 12, 7, 2, 1, 15, 13, 14, 9] 1616\n",
      "[9, 12, 7, 0, 15, 10, 5, 2, 3, 13, 4, 14, 6, 11, 8, 1] 2532\n",
      "[3, 13, 14, 6, 4, 0, 15, 2, 1, 12, 5, 10, 11, 7, 8, 9] 2674\n",
      "[10, 2, 8, 0, 4, 1, 14, 7, 15, 12, 3, 9, 6, 13, 5, 11] 3053\n",
      "[10, 15, 0, 4, 2, 3, 9, 13, 7, 12, 8, 5, 11, 14, 6, 1] 3075\n",
      "[1, 0, 13, 10, 6, 11, 12, 7, 14, 15, 3, 9, 2, 5, 4, 8] 2557\n",
      "10.[6, 5, 15, 14, 8, 1, 4, 2, 13, 10, 7, 11, 0, 12, 9, 3] 2482\n",
      "[7, 4, 10, 13, 11, 8, 1, 0, 12, 15, 3, 9, 5, 14, 6, 2] 2556\n",
      "[1, 8, 15, 9, 7, 4, 3, 5, 10, 13, 0, 6, 11, 2, 14, 12] 2074\n",
      "[7, 14, 15, 4, 9, 10, 0, 3, 8, 12, 1, 6, 11, 13, 5, 2] 1965\n",
      "[7, 15, 6, 9, 13, 5, 4, 14, 8, 10, 11, 3, 1, 12, 0, 2] 2159\n",
      "[9, 11, 0, 6, 15, 8, 13, 4, 12, 1, 5, 2, 10, 3, 7, 14] 1890\n",
      "[1, 15, 0, 5, 9, 7, 12, 8, 13, 2, 6, 4, 10, 11, 14, 3] 2719\n",
      "[7, 2, 6, 15, 5, 8, 12, 3, 0, 11, 14, 13, 10, 9, 4, 1] 2594\n",
      "[6, 9, 1, 8, 2, 11, 12, 0, 14, 5, 10, 13, 15, 4, 3, 7] 2680\n",
      "[11, 12, 0, 2, 10, 4, 8, 13, 1, 3, 5, 15, 7, 6, 14, 9] 2514\n",
      "20.[10, 3, 6, 4, 5, 14, 0, 7, 1, 15, 12, 2, 9, 8, 13, 11] 2160\n",
      "Circuit  on 16 qubits with 1042 gates.\n",
      "        84 is the T-count\n",
      "        958 Cliffords among which \n",
      "        526 2-qubit gates and 213 Hadamard gates.\n",
      "2468.75\n"
     ]
    }
   ],
   "source": [
    "seed = 1338\n",
    "random.seed(seed)\n",
    "reps = 20\n",
    "qubits = 20\n",
    "depth = 800\n",
    "\n",
    "method1 = 0\n",
    "method2 = 0\n",
    "method3 = 0\n",
    "\n",
    "for i in range(1,reps+1):\n",
    "    if i%10 == 0: print(i, end='.')\n",
    "    #c = generate_clifford_circuit(qubits, depth, p_cnot=0.3, p_t=0.2)\n",
    "    c = zx.Circuit.load(r'..\\..\\pytket\\examples\\benchmarking\\ChemistrySet\\H2_UCCSD_JW_631g.qasm')\n",
    "    perm = list(range(16))\n",
    "    random.shuffle(perm)\n",
    "    c.gates = [g.reposition(perm) for g in c.gates]\n",
    "    c.qubits = len(perm)\n",
    "    c_opt = zx.optimize.basic_optimization(c.split_phase_gates().to_basic_gates()).to_basic_gates()\n",
    "    g = c.to_graph()\n",
    "    zx.full_reduce(g)\n",
    "    g.normalise()\n",
    "    #c2 = zx.extract.streaming_extract(g2,quiet=True).to_basic_gates()\n",
    "    #c2 = zx.optimize.basic_optimization(c2.to_basic_gates()).to_basic_gates()\n",
    "    #g2 = g.copy()\n",
    "    #c3 = zx.extract.modified_extract(g2).to_basic_gates()\n",
    "    #c3 = zx.optimize.basic_optimization(c3.to_basic_gates()).to_basic_gates()\n",
    "    g2 = g.copy()\n",
    "    c2 = mapped_extract(g2,architecture,quiet=True)\n",
    "    #c2 = zx.extract.modified_extract(g2,optimize_czs=True,optimize_cnots=1,quiet=False).to_basic_gates()\n",
    "    c2 = zx.optimize.basic_optimization(c2.to_basic_gates(),do_swaps=False).to_basic_gates()\n",
    "    \n",
    "    #g2 = g.copy()\n",
    "    #c2 = zx.extract.modified_extract(g2,optimize_czs=True,optimize_cnots=2,quiet=True).to_basic_gates()\n",
    "    #c2 = zx.optimize.basic_optimization(c2.to_basic_gates()).to_basic_gates()\n",
    "    #print()\n",
    "    #g2 = g.copy()\n",
    "    #c4 = extract_better(g2,optimize_czs=True,optimize_cnots=3,quiet=False).to_basic_gates()\n",
    "    #c4 = zx.optimize.basic_optimization(c4.to_basic_gates()).to_basic_gates()\n",
    "    print(perm, c2.twoqubitcount())\n",
    "    method1 += c2.twoqubitcount()\n",
    "    #method2 += c3.twoqubitcount()\n",
    "    #method3 += c4.twoqubitcount()\n",
    "\n",
    "print(c_opt.to_basic_gates().stats())\n",
    "print(method1/reps)#, method2/reps)#, method3/reps)"
   ]
  },
  {
   "cell_type": "code",
   "execution_count": 108,
   "metadata": {},
   "outputs": [
    {
     "name": "stdout",
     "output_type": "stream",
     "text": [
      "> \u001b[1;32m<ipython-input-105-c56f3abf77e8>\u001b[0m(197)\u001b[0;36mmapped_extract\u001b[1;34m()\u001b[0m\n",
      "\u001b[1;32m    195 \u001b[1;33m                \u001b[0mgood_verts\u001b[0m\u001b[1;33m[\u001b[0m\u001b[0mv\u001b[0m\u001b[1;33m]\u001b[0m \u001b[1;33m=\u001b[0m \u001b[0mw\u001b[0m\u001b[1;33m\u001b[0m\u001b[1;33m\u001b[0m\u001b[0m\n",
      "\u001b[0m\u001b[1;32m    196 \u001b[1;33m        \u001b[1;32mif\u001b[0m \u001b[0mlen\u001b[0m\u001b[1;33m(\u001b[0m\u001b[0mgood_verts\u001b[0m\u001b[1;33m)\u001b[0m \u001b[1;33m<=\u001b[0m \u001b[0mlen\u001b[0m\u001b[1;33m(\u001b[0m\u001b[0mfinished\u001b[0m\u001b[1;33m)\u001b[0m\u001b[1;33m:\u001b[0m\u001b[1;31m# and len(finished) != len(frontier):\u001b[0m\u001b[1;33m\u001b[0m\u001b[1;33m\u001b[0m\u001b[0m\n",
      "\u001b[0m\u001b[1;32m--> 197 \u001b[1;33m            \u001b[1;32mraise\u001b[0m \u001b[0mException\u001b[0m\u001b[1;33m(\u001b[0m\u001b[1;34m\"No extractable vertex found. Something went wrong\"\u001b[0m\u001b[1;33m)\u001b[0m\u001b[1;33m\u001b[0m\u001b[1;33m\u001b[0m\u001b[0m\n",
      "\u001b[0m\u001b[1;32m    198 \u001b[1;33m        \u001b[0mhads\u001b[0m \u001b[1;33m=\u001b[0m \u001b[1;33m[\u001b[0m\u001b[1;33m]\u001b[0m\u001b[1;33m\u001b[0m\u001b[1;33m\u001b[0m\u001b[0m\n",
      "\u001b[0m\u001b[1;32m    199 \u001b[1;33m        \u001b[1;32mfor\u001b[0m \u001b[0mv\u001b[0m\u001b[1;33m,\u001b[0m\u001b[0mw\u001b[0m \u001b[1;32min\u001b[0m \u001b[0mgood_verts\u001b[0m\u001b[1;33m.\u001b[0m\u001b[0mitems\u001b[0m\u001b[1;33m(\u001b[0m\u001b[1;33m)\u001b[0m\u001b[1;33m:\u001b[0m \u001b[1;31m# Update frontier vertices\u001b[0m\u001b[1;33m\u001b[0m\u001b[1;33m\u001b[0m\u001b[0m\n",
      "\u001b[0m\n",
      "ipdb> m2\n",
      "[ 1  0  0  0  0  0  0  0  0  0  0  0  0  1  0  0  0 ]\n",
      "[ 0  1  0  0  0  0  0  0  1  0  0  0  0  0  0  0  0 ]\n",
      "[ 0  0  1  0  0  0  0  0  0  0  0  0  1  0  0  0  0 ]\n",
      "[ 0  0  0  1  1  0  0  0  0  0  0  0  1  1  1  0  1 ]\n",
      "[ 0  0  0  0  0  0  1  0  0  0  0  0  0  0  0  0  0 ]\n",
      "[ 0  0  0  0  1  1  0  0  0  1  0  1  1  0  1  1  1 ]\n",
      "[ 0  0  0  0  0  1  0  0  0  1  0  1  0  0  0  1  0 ]\n",
      "[ 0  0  0  0  0  0  0  1  0  0  0  1  0  0  0  0  0 ]\n",
      "[ 0  0  0  0  0  0  0  0  1  0  1  0  0  0  0  0  0 ]\n",
      "ipdb> q\n"
     ]
    }
   ],
   "source": [
    "%debug"
   ]
  },
  {
   "cell_type": "code",
   "execution_count": 109,
   "metadata": {},
   "outputs": [
    {
     "name": "stdout",
     "output_type": "stream",
     "text": [
      "0 2\n",
      "1 3\n",
      "2 4\n"
     ]
    }
   ],
   "source": [
    "for i, r in enumerate(range(2,5)):\n",
    "    print(i,r)"
   ]
  },
  {
   "cell_type": "code",
   "execution_count": 97,
   "metadata": {},
   "outputs": [
    {
     "data": {
      "text/html": [
       "\n",
       "        <div style=\"overflow:auto\" id=\"graph-output-15\"></div>\n",
       "        <script type=\"text/javascript\">\n",
       "        require.config({ baseUrl: \"../js\",\n",
       "                         paths: {d3: \"d3.v4.min\"} });\n",
       "        require(['pyzx'], function(pyzx) {\n",
       "            pyzx.showGraph('#graph-output-15',\n",
       "            JSON.parse('{\"nodes\": [{\"name\": \"0\", \"x\": 20, \"y\": 40, \"t\": 0, \"phase\": \"\"}, {\"name\": \"1\", \"x\": 20, \"y\": 60, \"t\": 0, \"phase\": \"\"}, {\"name\": \"2\", \"x\": 20, \"y\": 80, \"t\": 0, \"phase\": \"\"}, {\"name\": \"3\", \"x\": 20, \"y\": 100, \"t\": 0, \"phase\": \"\"}, {\"name\": \"4\", \"x\": 20, \"y\": 120, \"t\": 0, \"phase\": \"\"}, {\"name\": \"5\", \"x\": 20, \"y\": 140, \"t\": 0, \"phase\": \"\"}, {\"name\": \"6\", \"x\": 20, \"y\": 160, \"t\": 0, \"phase\": \"\"}, {\"name\": \"7\", \"x\": 20, \"y\": 180, \"t\": 0, \"phase\": \"\"}, {\"name\": \"8\", \"x\": 20, \"y\": 200, \"t\": 0, \"phase\": \"\"}, {\"name\": \"9\", \"x\": 40, \"y\": 140, \"t\": 1, \"phase\": \"\\u03c0/4\"}, {\"name\": \"10\", \"x\": 60, \"y\": 20, \"t\": 1, \"phase\": \"\"}, {\"name\": \"12\", \"x\": 80, \"y\": 20, \"t\": 1, \"phase\": \"\"}, {\"name\": \"13\", \"x\": 40, \"y\": 120, \"t\": 1, \"phase\": \"\\u03c0/4\"}, {\"name\": \"15\", \"x\": 120, \"y\": 20, \"t\": 1, \"phase\": \"\"}, {\"name\": \"16\", \"x\": 140, \"y\": 20, \"t\": 1, \"phase\": \"\"}, {\"name\": \"17\", \"x\": 40, \"y\": 160, \"t\": 1, \"phase\": \"5\\u03c0/4\"}, {\"name\": \"19\", \"x\": 180, \"y\": 20, \"t\": 1, \"phase\": \"\"}, {\"name\": \"21\", \"x\": 200, \"y\": 20, \"t\": 1, \"phase\": \"\"}, {\"name\": \"23\", \"x\": 220, \"y\": 160, \"t\": 1, \"phase\": \"\\u03c0/4\"}, {\"name\": \"24\", \"x\": 240, \"y\": 20, \"t\": 1, \"phase\": \"\"}, {\"name\": \"25\", \"x\": 260, \"y\": 20, \"t\": 1, \"phase\": \"\"}, {\"name\": \"26\", \"x\": 280, \"y\": 20, \"t\": 1, \"phase\": \"\"}, {\"name\": \"27\", \"x\": 300, \"y\": 20, \"t\": 1, \"phase\": \"\"}, {\"name\": \"28\", \"x\": 340, \"y\": 20, \"t\": 1, \"phase\": \"\"}, {\"name\": \"29\", \"x\": 360, \"y\": 20, \"t\": 1, \"phase\": \"\"}, {\"name\": \"30\", \"x\": 380, \"y\": 140, \"t\": 1, \"phase\": \"\\u03c0/4\"}, {\"name\": \"31\", \"x\": 400, \"y\": 140, \"t\": 1, \"phase\": \"\\u03c0/4\"}, {\"name\": \"32\", \"x\": 420, \"y\": 20, \"t\": 1, \"phase\": \"\"}, {\"name\": \"33\", \"x\": 440, \"y\": 20, \"t\": 1, \"phase\": \"\"}, {\"name\": \"34\", \"x\": 460, \"y\": 20, \"t\": 1, \"phase\": \"\"}, {\"name\": \"36\", \"x\": 480, \"y\": 20, \"t\": 1, \"phase\": \"\"}, {\"name\": \"37\", \"x\": 500, \"y\": 20, \"t\": 1, \"phase\": \"\"}, {\"name\": \"38\", \"x\": 520, \"y\": 20, \"t\": 1, \"phase\": \"\"}, {\"name\": \"40\", \"x\": 560, \"y\": 20, \"t\": 1, \"phase\": \"\"}, {\"name\": \"41\", \"x\": 600, \"y\": 20, \"t\": 1, \"phase\": \"\"}, {\"name\": \"43\", \"x\": 640, \"y\": 20, \"t\": 1, \"phase\": \"\"}, {\"name\": \"52\", \"x\": 800, \"y\": 40, \"t\": 0, \"phase\": \"\"}, {\"name\": \"53\", \"x\": 800, \"y\": 60, \"t\": 0, \"phase\": \"\"}, {\"name\": \"54\", \"x\": 800, \"y\": 80, \"t\": 0, \"phase\": \"\"}, {\"name\": \"55\", \"x\": 800, \"y\": 100, \"t\": 0, \"phase\": \"\"}, {\"name\": \"56\", \"x\": 800, \"y\": 120, \"t\": 0, \"phase\": \"\"}, {\"name\": \"57\", \"x\": 800, \"y\": 140, \"t\": 0, \"phase\": \"\"}, {\"name\": \"58\", \"x\": 800, \"y\": 160, \"t\": 0, \"phase\": \"\"}, {\"name\": \"59\", \"x\": 800, \"y\": 180, \"t\": 0, \"phase\": \"\"}, {\"name\": \"60\", \"x\": 800, \"y\": 200, \"t\": 0, \"phase\": \"\"}, {\"name\": \"61\", \"x\": 320, \"y\": 0, \"t\": 1, \"phase\": \"7\\u03c0/4\"}, {\"name\": \"62\", \"x\": 520, \"y\": 0, \"t\": 1, \"phase\": \"\\u03c0/4\"}, {\"name\": \"63\", \"x\": 200, \"y\": 0, \"t\": 1, \"phase\": \"7\\u03c0/4\"}, {\"name\": \"64\", \"x\": 80, \"y\": 0, \"t\": 1, \"phase\": \"7\\u03c0/4\"}, {\"name\": \"65\", \"x\": 540, \"y\": 0, \"t\": 1, \"phase\": \"\\u03c0/4\"}, {\"name\": \"66\", \"x\": 160, \"y\": 0, \"t\": 1, \"phase\": \"7\\u03c0/4\"}, {\"name\": \"67\", \"x\": 720, \"y\": 0, \"t\": 1, \"phase\": \"\"}, {\"name\": \"68\", \"x\": 120, \"y\": 0, \"t\": 1, \"phase\": \"5\\u03c0/4\"}, {\"name\": \"71\", \"x\": 640, \"y\": 0, \"t\": 1, \"phase\": \"7\\u03c0/4\"}, {\"name\": \"72\", \"x\": 600, \"y\": 0, \"t\": 1, \"phase\": \"7\\u03c0/4\"}, {\"name\": \"73\", \"x\": 60, \"y\": 0, \"t\": 1, \"phase\": \"7\\u03c0/4\"}, {\"name\": \"74\", \"x\": 480, \"y\": 0, \"t\": 1, \"phase\": \"7\\u03c0/4\"}, {\"name\": \"75\", \"x\": 240, \"y\": 0, \"t\": 1, \"phase\": \"7\\u03c0/4\"}, {\"name\": \"76\", \"x\": 440, \"y\": 0, \"t\": 1, \"phase\": \"7\\u03c0/4\"}, {\"name\": \"78\", \"x\": 360, \"y\": 0, \"t\": 1, \"phase\": \"7\\u03c0/4\"}, {\"name\": \"79\", \"x\": 460, \"y\": 0, \"t\": 1, \"phase\": \"\\u03c0/4\"}, {\"name\": \"81\", \"x\": 560, \"y\": 0, \"t\": 1, \"phase\": \"7\\u03c0/4\"}, {\"name\": \"82\", \"x\": 140, \"y\": 0, \"t\": 1, \"phase\": \"7\\u03c0/4\"}, {\"name\": \"83\", \"x\": 260, \"y\": 0, \"t\": 1, \"phase\": \"\\u03c0/4\"}, {\"name\": \"84\", \"x\": 180, \"y\": 0, \"t\": 1, \"phase\": \"7\\u03c0/4\"}, {\"name\": \"85\", \"x\": 100, \"y\": 0, \"t\": 1, \"phase\": \"7\\u03c0/4\"}, {\"name\": \"87\", \"x\": 420, \"y\": 0, \"t\": 1, \"phase\": \"\\u03c0/4\"}, {\"name\": \"88\", \"x\": 300, \"y\": 0, \"t\": 1, \"phase\": \"\\u03c0/4\"}, {\"name\": \"89\", \"x\": 280, \"y\": 0, \"t\": 1, \"phase\": \"\\u03c0/4\"}, {\"name\": \"90\", \"x\": 500, \"y\": 0, \"t\": 1, \"phase\": \"7\\u03c0/4\"}, {\"name\": \"91\", \"x\": 340, \"y\": 0, \"t\": 1, \"phase\": \"\\u03c0/4\"}, {\"name\": \"98\", \"x\": 40, \"y\": 40, \"t\": 1, \"phase\": \"\"}, {\"name\": \"99\", \"x\": 40, \"y\": 60, \"t\": 1, \"phase\": \"\"}, {\"name\": \"100\", \"x\": 40, \"y\": 80, \"t\": 1, \"phase\": \"\"}, {\"name\": \"101\", \"x\": 40, \"y\": 100, \"t\": 1, \"phase\": \"\"}, {\"name\": \"102\", \"x\": 40, \"y\": 180, \"t\": 1, \"phase\": \"\"}, {\"name\": \"103\", \"x\": 40, \"y\": 200, \"t\": 1, \"phase\": \"\"}], \"links\": [{\"source\": \"0\", \"target\": \"98\", \"t\": 2}, {\"source\": \"1\", \"target\": \"99\", \"t\": 2}, {\"source\": \"2\", \"target\": \"100\", \"t\": 2}, {\"source\": \"3\", \"target\": \"101\", \"t\": 2}, {\"source\": \"4\", \"target\": \"13\", \"t\": 1}, {\"source\": \"5\", \"target\": \"9\", \"t\": 1}, {\"source\": \"6\", \"target\": \"17\", \"t\": 1}, {\"source\": \"7\", \"target\": \"102\", \"t\": 2}, {\"source\": \"8\", \"target\": \"103\", \"t\": 1}, {\"source\": \"9\", \"target\": \"12\", \"t\": 2}, {\"source\": \"9\", \"target\": \"10\", \"t\": 2}, {\"source\": \"9\", \"target\": \"13\", \"t\": 2}, {\"source\": \"9\", \"target\": \"85\", \"t\": 2}, {\"source\": \"9\", \"target\": \"33\", \"t\": 2}, {\"source\": \"9\", \"target\": \"103\", \"t\": 2}, {\"source\": \"9\", \"target\": \"32\", \"t\": 2}, {\"source\": \"9\", \"target\": \"99\", \"t\": 2}, {\"source\": \"9\", \"target\": \"36\", \"t\": 2}, {\"source\": \"10\", \"target\": \"73\", \"t\": 2}, {\"source\": \"10\", \"target\": \"60\", \"t\": 1}, {\"source\": \"12\", \"target\": \"64\", \"t\": 2}, {\"source\": \"12\", \"target\": \"53\", \"t\": 1}, {\"source\": \"13\", \"target\": \"16\", \"t\": 2}, {\"source\": \"13\", \"target\": \"37\", \"t\": 2}, {\"source\": \"13\", \"target\": \"85\", \"t\": 2}, {\"source\": \"13\", \"target\": \"68\", \"t\": 2}, {\"source\": \"13\", \"target\": \"24\", \"t\": 2}, {\"source\": \"13\", \"target\": \"65\", \"t\": 2}, {\"source\": \"13\", \"target\": \"66\", \"t\": 2}, {\"source\": \"13\", \"target\": \"84\", \"t\": 2}, {\"source\": \"13\", \"target\": \"61\", \"t\": 2}, {\"source\": \"15\", \"target\": \"68\", \"t\": 2}, {\"source\": \"15\", \"target\": \"85\", \"t\": 2}, {\"source\": \"15\", \"target\": \"54\", \"t\": 1}, {\"source\": \"16\", \"target\": \"82\", \"t\": 2}, {\"source\": \"16\", \"target\": \"68\", \"t\": 2}, {\"source\": \"16\", \"target\": \"85\", \"t\": 2}, {\"source\": \"17\", \"target\": \"19\", \"t\": 2}, {\"source\": \"17\", \"target\": \"68\", \"t\": 2}, {\"source\": \"17\", \"target\": \"65\", \"t\": 2}, {\"source\": \"17\", \"target\": \"66\", \"t\": 2}, {\"source\": \"17\", \"target\": \"102\", \"t\": 2}, {\"source\": \"17\", \"target\": \"40\", \"t\": 2}, {\"source\": \"17\", \"target\": \"27\", \"t\": 2}, {\"source\": \"17\", \"target\": \"28\", \"t\": 2}, {\"source\": \"17\", \"target\": \"30\", \"t\": 2}, {\"source\": \"17\", \"target\": \"84\", \"t\": 2}, {\"source\": \"17\", \"target\": \"75\", \"t\": 2}, {\"source\": \"17\", \"target\": \"63\", \"t\": 2}, {\"source\": \"19\", \"target\": \"84\", \"t\": 2}, {\"source\": \"19\", \"target\": \"59\", \"t\": 1}, {\"source\": \"21\", \"target\": \"23\", \"t\": 2}, {\"source\": \"21\", \"target\": \"63\", \"t\": 2}, {\"source\": \"21\", \"target\": \"52\", \"t\": 1}, {\"source\": \"23\", \"target\": \"24\", \"t\": 2}, {\"source\": \"23\", \"target\": \"98\", \"t\": 2}, {\"source\": \"23\", \"target\": \"41\", \"t\": 2}, {\"source\": \"23\", \"target\": \"66\", \"t\": 2}, {\"source\": \"23\", \"target\": \"101\", \"t\": 2}, {\"source\": \"23\", \"target\": \"43\", \"t\": 2}, {\"source\": \"23\", \"target\": \"25\", \"t\": 2}, {\"source\": \"23\", \"target\": \"61\", \"t\": 2}, {\"source\": \"24\", \"target\": \"75\", \"t\": 2}, {\"source\": \"24\", \"target\": \"55\", \"t\": 1}, {\"source\": \"24\", \"target\": \"30\", \"t\": 2}, {\"source\": \"24\", \"target\": \"85\", \"t\": 2}, {\"source\": \"24\", \"target\": \"90\", \"t\": 2}, {\"source\": \"25\", \"target\": \"83\", \"t\": 2}, {\"source\": \"25\", \"target\": \"63\", \"t\": 2}, {\"source\": \"25\", \"target\": \"75\", \"t\": 2}, {\"source\": \"26\", \"target\": \"58\", \"t\": 1}, {\"source\": \"26\", \"target\": \"65\", \"t\": 2}, {\"source\": \"26\", \"target\": \"66\", \"t\": 2}, {\"source\": \"26\", \"target\": \"84\", \"t\": 2}, {\"source\": \"26\", \"target\": \"61\", \"t\": 2}, {\"source\": \"27\", \"target\": \"88\", \"t\": 2}, {\"source\": \"27\", \"target\": \"66\", \"t\": 2}, {\"source\": \"27\", \"target\": \"84\", \"t\": 2}, {\"source\": \"28\", \"target\": \"91\", \"t\": 2}, {\"source\": \"28\", \"target\": \"61\", \"t\": 2}, {\"source\": \"28\", \"target\": \"84\", \"t\": 2}, {\"source\": \"29\", \"target\": \"30\", \"t\": 2}, {\"source\": \"29\", \"target\": \"78\", \"t\": 2}, {\"source\": \"29\", \"target\": \"68\", \"t\": 2}, {\"source\": \"29\", \"target\": \"85\", \"t\": 2}, {\"source\": \"30\", \"target\": \"37\", \"t\": 2}, {\"source\": \"30\", \"target\": \"31\", \"t\": 2}, {\"source\": \"30\", \"target\": \"65\", \"t\": 2}, {\"source\": \"30\", \"target\": \"84\", \"t\": 2}, {\"source\": \"30\", \"target\": \"61\", \"t\": 2}, {\"source\": \"31\", \"target\": \"36\", \"t\": 2}, {\"source\": \"31\", \"target\": \"34\", \"t\": 2}, {\"source\": \"31\", \"target\": \"33\", \"t\": 2}, {\"source\": \"31\", \"target\": \"85\", \"t\": 2}, {\"source\": \"31\", \"target\": \"90\", \"t\": 2}, {\"source\": \"31\", \"target\": \"68\", \"t\": 2}, {\"source\": \"32\", \"target\": \"87\", \"t\": 2}, {\"source\": \"32\", \"target\": \"73\", \"t\": 2}, {\"source\": \"32\", \"target\": \"64\", \"t\": 2}, {\"source\": \"33\", \"target\": \"76\", \"t\": 2}, {\"source\": \"33\", \"target\": \"73\", \"t\": 2}, {\"source\": \"34\", \"target\": \"79\", \"t\": 2}, {\"source\": \"34\", \"target\": \"73\", \"t\": 2}, {\"source\": \"34\", \"target\": \"64\", \"t\": 2}, {\"source\": \"36\", \"target\": \"74\", \"t\": 2}, {\"source\": \"36\", \"target\": \"64\", \"t\": 2}, {\"source\": \"37\", \"target\": \"90\", \"t\": 2}, {\"source\": \"37\", \"target\": \"56\", \"t\": 1}, {\"source\": \"37\", \"target\": \"85\", \"t\": 2}, {\"source\": \"37\", \"target\": \"65\", \"t\": 2}, {\"source\": \"37\", \"target\": \"66\", \"t\": 2}, {\"source\": \"37\", \"target\": \"84\", \"t\": 2}, {\"source\": \"37\", \"target\": \"61\", \"t\": 2}, {\"source\": \"38\", \"target\": \"62\", \"t\": 2}, {\"source\": \"38\", \"target\": \"85\", \"t\": 2}, {\"source\": \"38\", \"target\": \"90\", \"t\": 2}, {\"source\": \"38\", \"target\": \"68\", \"t\": 2}, {\"source\": \"40\", \"target\": \"81\", \"t\": 2}, {\"source\": \"40\", \"target\": \"65\", \"t\": 2}, {\"source\": \"40\", \"target\": \"84\", \"t\": 2}, {\"source\": \"41\", \"target\": \"72\", \"t\": 2}, {\"source\": \"41\", \"target\": \"89\", \"t\": 2}, {\"source\": \"41\", \"target\": \"75\", \"t\": 2}, {\"source\": \"43\", \"target\": \"71\", \"t\": 2}, {\"source\": \"43\", \"target\": \"89\", \"t\": 2}, {\"source\": \"43\", \"target\": \"63\", \"t\": 2}, {\"source\": \"57\", \"target\": \"67\", \"t\": 1}, {\"source\": \"61\", \"target\": \"67\", \"t\": 2}, {\"source\": \"61\", \"target\": \"68\", \"t\": 2}, {\"source\": \"61\", \"target\": \"89\", \"t\": 2}, {\"source\": \"61\", \"target\": \"75\", \"t\": 2}, {\"source\": \"61\", \"target\": \"63\", \"t\": 2}, {\"source\": \"63\", \"target\": \"98\", \"t\": 2}, {\"source\": \"63\", \"target\": \"66\", \"t\": 2}, {\"source\": \"63\", \"target\": \"84\", \"t\": 2}, {\"source\": \"63\", \"target\": \"67\", \"t\": 2}, {\"source\": \"64\", \"target\": \"99\", \"t\": 2}, {\"source\": \"65\", \"target\": \"84\", \"t\": 2}, {\"source\": \"65\", \"target\": \"67\", \"t\": 2}, {\"source\": \"65\", \"target\": \"68\", \"t\": 2}, {\"source\": \"66\", \"target\": \"84\", \"t\": 2}, {\"source\": \"66\", \"target\": \"67\", \"t\": 2}, {\"source\": \"66\", \"target\": \"89\", \"t\": 2}, {\"source\": \"66\", \"target\": \"75\", \"t\": 2}, {\"source\": \"67\", \"target\": \"84\", \"t\": 2}, {\"source\": \"67\", \"target\": \"75\", \"t\": 2}, {\"source\": \"67\", \"target\": \"89\", \"t\": 2}, {\"source\": \"68\", \"target\": \"100\", \"t\": 2}, {\"source\": \"68\", \"target\": \"85\", \"t\": 2}, {\"source\": \"68\", \"target\": \"90\", \"t\": 2}, {\"source\": \"68\", \"target\": \"84\", \"t\": 2}, {\"source\": \"73\", \"target\": \"103\", \"t\": 2}, {\"source\": \"75\", \"target\": \"101\", \"t\": 2}, {\"source\": \"75\", \"target\": \"84\", \"t\": 2}, {\"source\": \"84\", \"target\": \"102\", \"t\": 2}, {\"source\": \"84\", \"target\": \"89\", \"t\": 2}, {\"source\": \"85\", \"target\": \"100\", \"t\": 2}, {\"source\": \"85\", \"target\": \"90\", \"t\": 2}]}'), 820, 240, 20, 4.0, true, false);\n",
       "        });\n",
       "        </script>\n",
       "        "
      ],
      "text/plain": [
       "<IPython.core.display.HTML object>"
      ]
     },
     "metadata": {},
     "output_type": "display_data"
    }
   ],
   "source": [
    "zx.d3.draw(g2)"
   ]
  },
  {
   "cell_type": "code",
   "execution_count": 84,
   "metadata": {},
   "outputs": [
    {
     "data": {
      "text/plain": [
       "True"
      ]
     },
     "execution_count": 84,
     "metadata": {},
     "output_type": "execute_result"
    }
   ],
   "source": [
    "zx.compare_tensors(c2,c_opt,False)"
   ]
  },
  {
   "cell_type": "code",
   "execution_count": 25,
   "metadata": {},
   "outputs": [
    {
     "data": {
      "text/plain": [
       "[1, 2, 3]"
      ]
     },
     "execution_count": 25,
     "metadata": {},
     "output_type": "execute_result"
    }
   ],
   "source": [
    "l = [2,3,1]\n",
    "l.sort()\n",
    "l"
   ]
  },
  {
   "cell_type": "code",
   "execution_count": 112,
   "metadata": {},
   "outputs": [],
   "source": [
    "from pyzx.extract import max_overlap, bi_adj, connectivity_from_biadj, apply_rule, pivot, permutation_as_swaps\n",
    "from pyzx.extract import filter_duplicate_cnots\n",
    "from pyzx.circuit import Circuit, CNOT\n",
    "from pyzx.simplify import id_simp\n",
    "from pyzx.linalg import Mat2, greedy_reduction, CNOTMaker, column_optimal_swap\n",
    "from pyzx.routing.steiner import steiner_gauss\n",
    "\n",
    "def steiner_cnots(m, architecture):\n",
    "    cn = CNOTMaker()\n",
    "    steiner_gauss(m.copy(),architecture, full_reduce=True, x=cn)\n",
    "    return cn.cnots\n",
    "\n",
    "def mapped_extract(g, architecture, quiet=True):\n",
    "    \"\"\"Given a graph put into semi-normal form by :func:`simplify.full_reduce`, \n",
    "    it extracts its equivalent set of gates into an instance of :class:`circuit.Circuit`,\n",
    "    mapped to the given architecture.\n",
    "\n",
    "    :param g: The ZX-diagram graph to be extracted into a Circuit.\n",
    "    :param optimize_czs: Whether to try to optimize the CZ-subcircuits by exploiting overlap between the CZ gates\n",
    "    :param optimize_cnots: (0,1,2,3) Level of CNOT optimization to apply.\n",
    "    :param quiet: Whether to print detailed output of the extraction process.\n",
    "    \"\"\"\n",
    "    g.normalise()\n",
    "    qs = g.qubits() # We are assuming that these are objects that update...\n",
    "    rs = g.rows()   # ...to reflect changes to the graph, so that when...\n",
    "    ty = g.types()  # ... g.set_row/g.set_qubit is called, these things update directly to reflect that\n",
    "    phases = g.phases()\n",
    "    c = Circuit(g.qubit_count())\n",
    "    czs_saved = 0\n",
    "\n",
    "    gadgets = {}\n",
    "    for v in g.vertices():\n",
    "        if g.vertex_degree(v) == 1 and v not in g.inputs and v not in g.outputs:\n",
    "            n = list(g.neighbours(v))[0]\n",
    "            gadgets[n] = v\n",
    "    \n",
    "    qubit_map = dict()\n",
    "    frontier = []\n",
    "    for o in g.outputs:\n",
    "        v = list(g.neighbours(o))[0]\n",
    "        frontier.append(v)\n",
    "        qubit_map[v] = qs[o]\n",
    "#         if len(list(g.neighbours(v))) == 2:\n",
    "#             for w in g.neighbours(v):\n",
    "#                 if len(list(g.neighbours(w))) == 2 and any(i in g.inputs for i in g.neighbours(w)) and phases[w] == 0:\n",
    "#                     finished.add(qubit_map[v])\n",
    "    \n",
    "    frontier.sort(key=lambda v: qubit_map[v])\n",
    "    \n",
    "    while True:\n",
    "        # preprocessing\n",
    "        for v in frontier: # First removing single qubit gates\n",
    "            q = qubit_map[v]\n",
    "            b = [w for w in g.neighbours(v) if w in g.outputs][0]\n",
    "            e = g.edge(v,b)\n",
    "            if g.edge_type(e) == 2: # Hadamard edge\n",
    "                c.add_gate(\"HAD\",q)\n",
    "                g.set_edge_type(e,1)\n",
    "            if phases[v]: \n",
    "                c.add_gate(\"ZPhase\", q, phases[v])\n",
    "                g.set_phase(v,0)\n",
    "        # And now on to CZ gates\n",
    "        cz_mat = Mat2([[0 for i in range(g.qubit_count())] for j in range(g.qubit_count())])\n",
    "        for v in frontier:\n",
    "            for w in list(g.neighbours(v)):\n",
    "                if w in frontier:\n",
    "                    cz_mat.data[qubit_map[v]][qubit_map[w]] = 1\n",
    "                    cz_mat.data[qubit_map[w]][qubit_map[v]] = 1\n",
    "                    g.remove_edge(g.edge(v,w))\n",
    "        \n",
    "        # TODO map CZs\n",
    "        for i in range(g.qubit_count()):\n",
    "            for j in range(i+1,g.qubit_count()):\n",
    "                if cz_mat.data[i][j]==1:\n",
    "                    c.add_gate(\"CZ\",i,j)\n",
    "        \n",
    "        # Now we can proceed with the actual extraction\n",
    "        # First make sure that frontier is connected in correct way to inputs\n",
    "        neighbours = set()\n",
    "        finished = set()\n",
    "        for v in frontier.copy():\n",
    "            d = [w for w in g.neighbours(v) if w not in g.outputs]\n",
    "            if any(w in g.inputs for w in d): #frontier vertex v is connected to an input\n",
    "                if len(d) == 1: # Only connected to input, remove from frontier\n",
    "                    finished.add(qubit_map[v])\n",
    "                    #frontier.remove(v)\n",
    "                    #continue\n",
    "                # We disconnect v from the input b via a new spider\n",
    "                b = [w for w in d if w in g.inputs][0]\n",
    "                q = qs[b]\n",
    "                r = rs[b]\n",
    "                w = g.add_vertex(1,q,r+1)\n",
    "                e = g.edge(v,b)\n",
    "                et = g.edge_type(e)\n",
    "                g.remove_edge(e)\n",
    "                g.add_edge((v,w),2)\n",
    "                g.add_edge((w,b),3-et)\n",
    "                d.remove(b)\n",
    "                d.append(w)\n",
    "            else:\n",
    "                if len(d) == 1:\n",
    "                    w = d[0]\n",
    "                    if len(g.neighbours(w)) == 2 and phases[w] == 0 and any(i in g.inputs for i in g.neighbours(w)):\n",
    "                        finished.add(qubit_map[v])\n",
    "            neighbours.update(d)\n",
    "        \n",
    "        if len(frontier) == len(finished): break # No more vertices to be processed. We are done.\n",
    "        \n",
    "        # First we check if there is a phase gadget in the way\n",
    "        removed_gadget = False\n",
    "        for w in neighbours:\n",
    "            if w not in gadgets: continue\n",
    "            for v in g.neighbours(w):\n",
    "                if v in frontier:\n",
    "                    apply_rule(g,pivot,[(w,v,[],[o for o in g.neighbours(v) if o in g.outputs])])\n",
    "                    i = frontier.index(v)\n",
    "                    frontier[i] = w\n",
    "                    del gadgets[w]\n",
    "                    #frontier.append(w)\n",
    "                    qubit_map[w] = qubit_map[v]\n",
    "                    removed_gadget = True\n",
    "                    break\n",
    "        if removed_gadget: # There was indeed a gadget in the way. Go back to the top\n",
    "            continue\n",
    "            \n",
    "        neighbours = list(neighbours)\n",
    "        m = bi_adj(g,neighbours,frontier)\n",
    "        if all(sum(row)!=1 for i, row in enumerate(m.data) if i not in finished): # No easy vertex\n",
    "            perm = column_optimal_swap(m)\n",
    "            perm = {v:k for k,v in perm.items()}\n",
    "            neighbours = [neighbours[perm[i]] for i in range(len(neighbours))]\n",
    "            m = bi_adj(g, neighbours, frontier)\n",
    "            cnots = steiner_cnots(m, architecture)\n",
    "            cnots = filter_duplicate_cnots(cnots) # Since the matrix is not square, the algorithm sometimes introduces duplicates\n",
    "            if not quiet: print(\"Gaussian elimination with\", len(cnots), \"CNOTs\")\n",
    "            # We now have a set of CNOTs that suffice to extract at least one vertex.\n",
    "            m2 = m.copy()\n",
    "            for cnot in cnots:\n",
    "                m2.row_add(cnot.target,cnot.control)\n",
    "            extractable = set()\n",
    "            for i, row in enumerate(m2.data):\n",
    "                if sum(row) == 1:\n",
    "                    extractable.add(i)\n",
    "            # We now know which vertices are extractable, and hence the CNOTs on qubits that do not involved\n",
    "            # these vertices aren't necessary.\n",
    "            # So first, we get rid of all the CNOTs that happen in the Gaussian elimination after \n",
    "            # all the extractable vertices have become extractable\n",
    "            m2 = m.copy()\n",
    "            for count, cnot in enumerate(cnots):\n",
    "                if sum(1 for row in m2.data if sum(row)==1) == len(extractable): #extractable rows equal to maximum\n",
    "                    cnots = cnots[:count] # So we do not need the remainder of the CNOTs\n",
    "                    break\n",
    "                m2.row_add(cnot.target, cnot.control)\n",
    "            # We now recalculate which vertices were extractable, because the deleted cnots\n",
    "            # might have acted to swap this vertex around some.\n",
    "            extractable = set() \n",
    "            for i, row in enumerate(m2.data):\n",
    "                if sum(row) == 1:\n",
    "                    extractable.add(i)\n",
    "            # And now we try to get rid of some more CNOTs, that can be commuted to the end of the CNOT circuit\n",
    "            # without changing extractability.\n",
    "            necessary_cnots = []\n",
    "            blocked = {i:'A' for i in extractable} # 'A' stands for \"blocked for All\".\n",
    "            for cnot in reversed(cnots):\n",
    "                if cnot.target not in blocked and cnot.control not in blocked: continue #CNOT not needed\n",
    "                should_add = False\n",
    "                if cnot.target in blocked and blocked[cnot.target] != 'R': \n",
    "                    should_add = True\n",
    "                    blocked[cnot.target] = 'A'\n",
    "                if cnot.control in blocked and blocked[cnot.control] != 'G':\n",
    "                    should_add = True\n",
    "                    blocked[cnot.control] = 'A'\n",
    "                if cnot.control in extractable: should_add = True\n",
    "                if cnot.target in extractable: should_add = True\n",
    "                if not should_add: continue\n",
    "                necessary_cnots.append(cnot)\n",
    "                if cnot.control not in blocked: blocked[cnot.control] = 'G' # 'G' stands for Green\n",
    "                if cnot.target not in blocked: blocked[cnot.target] = 'R' # 'R' stands for Red\n",
    "            if not quiet: print(\"Actual realization required\", len(necessary_cnots), \"CNOTs\")\n",
    "            cnots = []\n",
    "            for cnot in reversed(necessary_cnots):\n",
    "                m.row_add(cnot.target,cnot.control)\n",
    "                cnots.append(CNOT(qubit_map[frontier[cnot.control]],qubit_map[frontier[cnot.target]]))\n",
    "            connectivity_from_biadj(g,m,neighbours,frontier)\n",
    "        else:\n",
    "            if not quiet: print(\"Simple vertex\")\n",
    "            cnots = []\n",
    "        good_verts = dict()\n",
    "        \n",
    "        for i, row in enumerate(m.data):\n",
    "            if sum(row) == 1:\n",
    "                v = frontier[i]\n",
    "                w = neighbours[[j for j in range(len(row)) if row[j]][0]]\n",
    "                #if len(list(g.neighbours(w))) == 2 and any(z in g.inputs for z in g.neighbours(w)) and phases[w] == 0:\n",
    "                #    finished.add(qubit_map[v])\n",
    "                #else: \n",
    "                good_verts[v] = w\n",
    "        if len(good_verts) <= len(finished):# and len(finished) != len(frontier): \n",
    "            raise Exception(\"No extractable vertex found. Something went wrong\")\n",
    "        hads = []\n",
    "        for v,w in good_verts.items(): # Update frontier vertices\n",
    "            if len(list(g.neighbours(w))) == 2 and phases[w] == 0 and any(i in g.inputs for i in g.neighbours(w)): continue\n",
    "            hads.append(qubit_map[v])\n",
    "            #c.add_gate(\"HAD\",qubit_map[v])\n",
    "            i = frontier.index(v)\n",
    "            frontier[i] = w\n",
    "            qubit_map[w] = qubit_map[v]\n",
    "            b = [o for o in g.neighbours(v) if o in g.outputs][0]\n",
    "            g.remove_vertex(v)\n",
    "            g.add_edge((w,b))\n",
    "            #frontier.remove(v)\n",
    "            #frontier.append(w)\n",
    "        if not quiet: print(\"Vertices extracted:\", len(good_verts))\n",
    "        for cnot in cnots: c.add_gate(cnot)\n",
    "        for h in hads: c.add_gate(\"HAD\",h)\n",
    "\n",
    "    # Outside of loop. Finish up the permutation\n",
    "    id_simp(g,quiet=True) # Now the graph should only contain inputs and outputs\n",
    "    swap_map = {}\n",
    "    leftover_swaps = False\n",
    "    for v in g.outputs: # Finally, check for the last layer of Hadamards, and see if swap gates need to be applied.\n",
    "        q = qs[v]\n",
    "        i = list(g.neighbours(v))[0]\n",
    "        if i not in g.inputs: \n",
    "            raise TypeError(\"Algorithm failed: Not fully reducable\")\n",
    "            return c\n",
    "        if g.edge_type(g.edge(v,i)) == 2:\n",
    "            c.add_gate(\"HAD\", q)\n",
    "            g.set_edge_type(g.edge(v,i),1)\n",
    "        if qs[i] != q: leftover_swaps = True\n",
    "        swap_map[q] = qs[i]\n",
    "    if leftover_swaps: \n",
    "        for t1, t2 in permutation_as_swaps(swap_map):\n",
    "            c.add_gate(\"SWAP\", t1, t2)\n",
    "    # Since we were extracting from right to left, we reverse the order of the gates\n",
    "    c.gates = list(reversed(c.gates))\n",
    "    return c"
   ]
  },
  {
   "cell_type": "code",
   "execution_count": null,
   "metadata": {},
   "outputs": [],
   "source": []
  }
 ],
 "metadata": {
  "kernelspec": {
   "display_name": "Python 3",
   "language": "python",
   "name": "python3"
  },
  "language_info": {
   "codemirror_mode": {
    "name": "ipython",
    "version": 3
   },
   "file_extension": ".py",
   "mimetype": "text/x-python",
   "name": "python",
   "nbconvert_exporter": "python",
   "pygments_lexer": "ipython3",
   "version": "3.7.4"
  }
 },
 "nbformat": 4,
 "nbformat_minor": 2
}
