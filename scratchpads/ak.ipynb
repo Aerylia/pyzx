{
 "cells": [
  {
   "cell_type": "code",
   "execution_count": 1,
   "metadata": {},
   "outputs": [],
   "source": [
    "import sys; sys.path.append('..')\n",
    "import pyzx as zx\n",
    "import random\n",
    "zx.todd.TOPT_LOCATION = ['wsl', '/home/aleks/src/TOpt/bin/TOpt']"
   ]
  },
  {
   "cell_type": "code",
   "execution_count": 4,
   "metadata": {},
   "outputs": [
    {
     "data": {
      "text/html": [
       "\n",
       "        <div style=\"overflow:auto\" id=\"graph-output-3\"></div>\n",
       "        <script type=\"text/javascript\">\n",
       "        require.config({ baseUrl: \"../js\",\n",
       "                         paths: {d3: \"d3.v4.min\"} });\n",
       "        require(['pyzx'], function(pyzx) {\n",
       "            pyzx.showGraph('#graph-output-3',\n",
       "            JSON.parse('{\"nodes\": [{\"name\": \"0\", \"x\": 50, \"y\": 100, \"t\": 0, \"phase\": \"\"}, {\"name\": \"1\", \"x\": 50, \"y\": 150, \"t\": 0, \"phase\": \"\"}, {\"name\": \"2\", \"x\": 50, \"y\": 200, \"t\": 0, \"phase\": \"\"}, {\"name\": \"3\", \"x\": 100, \"y\": 200, \"t\": 1, \"phase\": \"\"}, {\"name\": \"4\", \"x\": 100, \"y\": 100, \"t\": 1, \"phase\": \"\"}, {\"name\": \"5\", \"x\": 100, \"y\": 150, \"t\": 1, \"phase\": \"\"}, {\"name\": \"6\", \"x\": 150, \"y\": 125.0, \"t\": 3, \"phase\": \"\"}, {\"name\": \"7\", \"x\": 200, \"y\": 100, \"t\": 0, \"phase\": \"\"}, {\"name\": \"8\", \"x\": 200, \"y\": 150, \"t\": 0, \"phase\": \"\"}, {\"name\": \"9\", \"x\": 200, \"y\": 200, \"t\": 0, \"phase\": \"\"}], \"links\": [{\"source\": \"0\", \"target\": \"4\", \"t\": 1}, {\"source\": \"1\", \"target\": \"5\", \"t\": 1}, {\"source\": \"2\", \"target\": \"3\", \"t\": 1}, {\"source\": \"3\", \"target\": \"6\", \"t\": 1}, {\"source\": \"3\", \"target\": \"9\", \"t\": 1}, {\"source\": \"4\", \"target\": \"6\", \"t\": 1}, {\"source\": \"4\", \"target\": \"7\", \"t\": 1}, {\"source\": \"5\", \"target\": \"6\", \"t\": 1}, {\"source\": \"5\", \"target\": \"8\", \"t\": 1}]}'), 250, 300, 10.0, true);\n",
       "        });\n",
       "        </script>\n",
       "        "
      ],
      "text/plain": [
       "<IPython.core.display.HTML object>"
      ]
     },
     "metadata": {},
     "output_type": "display_data"
    }
   ],
   "source": [
    "c = zx.sqasm(\"\"\"\n",
    "qreg q[3];\n",
    "\n",
    "ccz q[0],q[1],q[2];\n",
    "\"\"\")\n",
    "zx.d3.draw(c, auto_hbox=True)"
   ]
  },
  {
   "cell_type": "code",
   "execution_count": null,
   "metadata": {},
   "outputs": [],
   "source": []
  }
 ],
 "metadata": {
  "kernelspec": {
   "display_name": "Python 3",
   "language": "python",
   "name": "python3"
  },
  "language_info": {
   "codemirror_mode": {
    "name": "ipython",
    "version": 3
   },
   "file_extension": ".py",
   "mimetype": "text/x-python",
   "name": "python",
   "nbconvert_exporter": "python",
   "pygments_lexer": "ipython3",
   "version": "3.6.4"
  }
 },
 "nbformat": 4,
 "nbformat_minor": 2
}
