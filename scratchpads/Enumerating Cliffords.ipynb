{
 "cells": [
  {
   "cell_type": "code",
   "execution_count": 1,
   "metadata": {},
   "outputs": [],
   "source": [
    "import sys; sys.path.append('..')\n",
    "import random, math, os\n",
    "import pyzx as zx\n",
    "from fractions import Fraction\n",
    "from functools import reduce\n",
    "import numpy as np\n",
    "%config InlineBackend.figure_format = 'svg'\n",
    "zx.quantomatic.quantomatic_location = r'C:\\Users\\John\\Desktop\\Quantomatic.jar'\n",
    "zx.tikz.tikzit_location = r'C:\\Users\\John\\Documents\\tikzit\\tikzit.exe'"
   ]
  },
  {
   "cell_type": "code",
   "execution_count": 174,
   "metadata": {},
   "outputs": [],
   "source": [
    "def make_stabilizer_tableau(c):\n",
    "    q = c.qubits\n",
    "    m = zx.Mat2.id(2*q)\n",
    "    def add_PHASE(i):\n",
    "        m.col_add(i,q+i)\n",
    "    def add_HAD(i):\n",
    "        m.col_swap(i,q+i)\n",
    "    def add_CNOT(i,j):\n",
    "        m.col_add(i,j)\n",
    "        m.col_add(q+j,q+i)\n",
    "    for g in c.gates:\n",
    "        if isinstance(g, zx.gates.ZPhase) and g.phase not in (0,1):\n",
    "            add_PHASE(g.target)\n",
    "        if isinstance(g, zx.gates.XPhase) and g.phase not in (0,1):\n",
    "            add_HAD(g.target)\n",
    "            add_PHASE(g.target)\n",
    "            add_HAD(g.target)\n",
    "        if g.name == \"HAD\":\n",
    "            add_HAD(g.target)\n",
    "        if g.name == \"CNOT\":\n",
    "            add_CNOT(g.control,g.target)\n",
    "        if g.name == \"CZ\":\n",
    "            add_HAD(g.target)\n",
    "            add_CNOT(g.control,g.target)\n",
    "            add_HAD(g.target)\n",
    "    return m"
   ]
  },
  {
   "cell_type": "code",
   "execution_count": 3,
   "metadata": {},
   "outputs": [],
   "source": [
    "def generate_clifford_circuit(qubits, depth, p_cnot=0.3, p_t=0):\n",
    "    p_s = 0.5*(1.0-p_cnot-p_t)\n",
    "    p_had = 0.5*(1.0-p_cnot-p_t)\n",
    "    c = zx.Circuit(qubits)\n",
    "    for _ in range(depth):\n",
    "        r = random.random()\n",
    "        if r > 1-p_had:\n",
    "            c.add_gate(\"HAD\",random.randrange(qubits))\n",
    "        elif r > 1-p_had-p_s:\n",
    "            c.add_gate(\"S\",random.randrange(qubits))\n",
    "        elif r > 1-p_had-p_s-p_t:\n",
    "            c.add_gate(\"T\",random.randrange(qubits))\n",
    "        else:\n",
    "            tgt = random.randrange(qubits)\n",
    "            while True:\n",
    "                ctrl = random.randrange(qubits)\n",
    "                if ctrl!=tgt: break\n",
    "            c.add_gate(\"CNOT\",tgt,ctrl)\n",
    "    return c"
   ]
  },
  {
   "cell_type": "code",
   "execution_count": 15,
   "metadata": {
    "collapsed": true
   },
   "outputs": [
    {
     "data": {
      "text/html": [
       "\n",
       "        <div style=\"overflow:auto\" id=\"graph-output-8\"></div>\n",
       "        <script type=\"text/javascript\">\n",
       "        require.config({ baseUrl: \"../js\",\n",
       "                         paths: {d3: \"d3.v4.min\"} });\n",
       "        require(['pyzx'], function(pyzx) {\n",
       "            pyzx.showGraph('#graph-output-8',\n",
       "            JSON.parse('{\"nodes\": [{\"name\": \"0\", \"x\": 50, \"y\": 100, \"t\": 0, \"phase\": \"\"}, {\"name\": \"1\", \"x\": 50, \"y\": 150, \"t\": 0, \"phase\": \"\"}, {\"name\": \"2\", \"x\": 50, \"y\": 200, \"t\": 0, \"phase\": \"\"}, {\"name\": \"3\", \"x\": 100, \"y\": 200, \"t\": 2, \"phase\": \"\"}, {\"name\": \"4\", \"x\": 100, \"y\": 100, \"t\": 1, \"phase\": \"\"}, {\"name\": \"5\", \"x\": 150, \"y\": 200, \"t\": 2, \"phase\": \"\"}, {\"name\": \"6\", \"x\": 150, \"y\": 100, \"t\": 1, \"phase\": \"\"}, {\"name\": \"7\", \"x\": 200, \"y\": 100, \"t\": 1, \"phase\": \"\\u03c0/2\"}, {\"name\": \"8\", \"x\": 100, \"y\": 150, \"t\": 1, \"phase\": \"\"}, {\"name\": \"9\", \"x\": 250, \"y\": 100, \"t\": 2, \"phase\": \"\"}, {\"name\": \"10\", \"x\": 250, \"y\": 200, \"t\": 1, \"phase\": \"\"}, {\"name\": \"11\", \"x\": 150, \"y\": 150, \"t\": 1, \"phase\": \"\\u03c0/2\"}, {\"name\": \"12\", \"x\": 200, \"y\": 150, \"t\": 1, \"phase\": \"\\u03c0/2\"}, {\"name\": \"13\", \"x\": 250, \"y\": 150, \"t\": 1, \"phase\": \"\"}, {\"name\": \"14\", \"x\": 300, \"y\": 100, \"t\": 0, \"phase\": \"\"}, {\"name\": \"15\", \"x\": 300, \"y\": 150, \"t\": 0, \"phase\": \"\"}, {\"name\": \"16\", \"x\": 300, \"y\": 200, \"t\": 0, \"phase\": \"\"}], \"links\": [{\"source\": \"0\", \"target\": \"4\", \"t\": 1}, {\"source\": \"1\", \"target\": \"8\", \"t\": 2}, {\"source\": \"2\", \"target\": \"3\", \"t\": 1}, {\"source\": \"3\", \"target\": \"4\", \"t\": 1}, {\"source\": \"3\", \"target\": \"5\", \"t\": 1}, {\"source\": \"4\", \"target\": \"6\", \"t\": 1}, {\"source\": \"5\", \"target\": \"6\", \"t\": 1}, {\"source\": \"5\", \"target\": \"10\", \"t\": 1}, {\"source\": \"6\", \"target\": \"7\", \"t\": 1}, {\"source\": \"7\", \"target\": \"9\", \"t\": 1}, {\"source\": \"8\", \"target\": \"11\", \"t\": 1}, {\"source\": \"9\", \"target\": \"10\", \"t\": 1}, {\"source\": \"9\", \"target\": \"14\", \"t\": 1}, {\"source\": \"10\", \"target\": \"16\", \"t\": 1}, {\"source\": \"11\", \"target\": \"12\", \"t\": 1}, {\"source\": \"12\", \"target\": \"13\", \"t\": 2}, {\"source\": \"13\", \"target\": \"15\", \"t\": 1}]}'), 350, 300, 10.0);\n",
       "        });\n",
       "        </script>\n",
       "        "
      ],
      "text/plain": [
       "<IPython.core.display.HTML object>"
      ]
     },
     "metadata": {},
     "output_type": "display_data"
    },
    {
     "name": "stdout",
     "output_type": "stream",
     "text": [
      "[ 1  0  0  1  0  1 ]\n",
      "[ 0  1  0  0  0  0 ]\n",
      "[ 1  0  1  0  0  0 ]\n",
      "[ 0  0  0  1  0  1 ]\n",
      "[ 0  0  0  0  1  0 ]\n",
      "[ 0  0  0  0  0  1 ]\n"
     ]
    }
   ],
   "source": [
    "c = generate_clifford_circuit(3,8)\n",
    "zx.d3.draw(c)\n",
    "print(make_stabilizer_tableau(c))"
   ]
  },
  {
   "cell_type": "code",
   "execution_count": 4,
   "metadata": {},
   "outputs": [],
   "source": [
    "def make_hash(c):\n",
    "    return hash(tuple(sum(make_stabilizer_tableau(c).data,[])))\n",
    "\n",
    "def find_hit(c, checks):\n",
    "    for labelling in [(0,1,2),(0,2,1),(1,2,0),(1,0,2),(2,0,1),(2,1,0)]:\n",
    "        cp = c.copy()\n",
    "        for g in cp.gates:\n",
    "            g.target = labelling[g.target]\n",
    "            if g.name == 'CNOT': g.control = labelling[g.control]\n",
    "        h = make_hash(cp)\n",
    "        if any(h in l for l in checks): return True\n",
    "    return False"
   ]
  },
  {
   "cell_type": "code",
   "execution_count": 90,
   "metadata": {},
   "outputs": [],
   "source": [
    "# Generate layers by minimal number of Clifford gates needed\n",
    "q = 3\n",
    "id_circuit = zx.Circuit(q)\n",
    "layers = [{make_hash(id_circuit):id_circuit}]\n",
    "previous = layers[0]\n",
    "previous2 = layers[0]"
   ]
  },
  {
   "cell_type": "code",
   "execution_count": 143,
   "metadata": {},
   "outputs": [
    {
     "name": "stdout",
     "output_type": "stream",
     "text": [
      "There are 4243 circuits of size 11\n"
     ]
    }
   ],
   "source": [
    "while len(layers)<12:\n",
    "    newlayer = dict()\n",
    "    for c in previous.values():\n",
    "        for g in [\"S\",\"HAD\"]:\n",
    "            for i in range(q):\n",
    "                cp = c.copy()\n",
    "                cp.add_gate(g,i)\n",
    "                if not find_hit(cp,(previous,previous2,newlayer)):\n",
    "                    h = make_hash(cp)\n",
    "                    newlayer[h] = cp\n",
    "                    if len(newlayer) % 10000 == 0: print(len(newlayer))\n",
    "        for i in range(q):\n",
    "            for j in range(q):\n",
    "                if i == j: continue\n",
    "                cp = c.copy()\n",
    "                cp.add_gate(\"CNOT\",i,j)\n",
    "                if not find_hit(cp,(previous,previous2,newlayer)):\n",
    "                    h = make_hash(cp)\n",
    "                    newlayer[h] = cp\n",
    "                    if len(newlayer) % 10000 == 0: print(len(newlayer))\n",
    "    print(\"There are\", len(newlayer), \"circuits of size\", len(layers))\n",
    "    previous2 = previous\n",
    "    previous = newlayer\n",
    "    layers.append(previous)"
   ]
  },
  {
   "cell_type": "code",
   "execution_count": 225,
   "metadata": {},
   "outputs": [],
   "source": [
    "def find_representative(c, layers):\n",
    "    for labelling in [(0,1,2),(0,2,1),(1,2,0),(1,0,2),(2,0,1),(2,1,0)]:\n",
    "        cp = c.copy()\n",
    "        for g in cp.gates:\n",
    "            g.target = labelling[g.target]\n",
    "            if g.name == 'CNOT': g.control = labelling[g.control]\n",
    "        h = make_hash(cp)\n",
    "        for l in layers:\n",
    "            if h in l: \n",
    "                inverse_labelling = tuple(labelling.index(i) for i in range(3))\n",
    "                cp = l[h].copy()\n",
    "                for g in cp.gates:\n",
    "                    g.target = inverse_labelling[g.target]\n",
    "                    if g.name == 'CNOT': g.control = inverse_labelling[g.control]\n",
    "                return cp\n",
    "    raise ValueError(\"No match found\")\n",
    "\n",
    "def correct_representative(c1,c2):\n",
    "    c = c1.copy()\n",
    "    c.add_circuit(c2.adjoint())\n",
    "    g = c.to_graph()\n",
    "    zx.clifford_simp(g,quiet=True)\n",
    "    g.normalise()\n",
    "    zx.id_simp(g,quiet=True)\n",
    "    zx.to_rg(g)\n",
    "    try:\n",
    "        paulis = zx.Circuit.from_graph(g)\n",
    "    except:\n",
    "        print(zx.compare_tensors(g,c,False))\n",
    "        zx.d3.draw(g)\n",
    "        raise\n",
    "    paulis.add_circuit(c2)\n",
    "    return paulis\n",
    "\n",
    "# random.seed(1370)\n",
    "# c = generate_clifford_circuit(3,70)\n",
    "# zx.d3.draw(c)\n",
    "# c_opt = find_representative(c, layers)\n",
    "# #zx.d3.draw(c_opt)\n",
    "# c2 = correct_representative(c,c_opt)\n",
    "# zx.d3.draw(c2)\n",
    "# print(zx.compare_tensors(c,c2,False))"
   ]
  },
  {
   "cell_type": "code",
   "execution_count": 27,
   "metadata": {},
   "outputs": [
    {
     "name": "stdout",
     "output_type": "stream",
     "text": [
      "There are 56 circuits with 0 CNOT gates\n"
     ]
    }
   ],
   "source": [
    "# Layers by 2-qubit gates\n",
    "q = 3\n",
    "id_circuit = zx.Circuit(q)\n",
    "layers = [{make_hash(id_circuit):id_circuit}]\n",
    "current = layers[0]\n",
    "to_check = current\n",
    "\n",
    "while True:\n",
    "    new_ones = dict()\n",
    "    for c in to_check.values():\n",
    "        for g in (\"S\",\"HAD\"):\n",
    "            for i in range(q):\n",
    "                cp = c.copy()\n",
    "                cp.add_gate(g,i)\n",
    "                if not find_hit(cp, layers+[new_ones]):\n",
    "                    h = make_hash(cp)\n",
    "                    new_ones[h] = cp\n",
    "    if new_ones: \n",
    "        current.update(new_ones)\n",
    "        to_check = new_ones\n",
    "    else: \n",
    "        print(\"There are\", len(current), \"circuits with 0 CNOT gates\")\n",
    "        break"
   ]
  },
  {
   "cell_type": "code",
   "execution_count": 30,
   "metadata": {},
   "outputs": [
    {
     "name": "stdout",
     "output_type": "stream",
     "text": [
      "There are 76 circuits with 6 CNOT gates\n",
      "There are 0 circuits with 7 CNOT gates\n"
     ]
    }
   ],
   "source": [
    "while len(layers)<8:\n",
    "    new_layer = dict()\n",
    "    marker = 5000\n",
    "    layers.append(new_layer)\n",
    "    for c in current.values():\n",
    "        for i in range(q):\n",
    "            for j in range(q):\n",
    "                if i == j: continue\n",
    "                cp = c.copy()\n",
    "                cp.add_gate(\"CNOT\",i,j)\n",
    "                if not find_hit(cp, layers):\n",
    "                    h = make_hash(cp)\n",
    "                    new_layer[h] = cp\n",
    "                    new_circs = {h: cp}\n",
    "                    while True:\n",
    "                        cs = dict()\n",
    "                        for d in new_circs.values():\n",
    "                            for g in (\"S\",\"HAD\"):\n",
    "                                for k in (i,j):\n",
    "                                    dp = d.copy()\n",
    "                                    dp.add_gate(g,k)\n",
    "                                    if not find_hit(dp, layers):\n",
    "                                        h = make_hash(dp)\n",
    "                                        cs[h] = dp\n",
    "                                        new_layer[h] = dp\n",
    "                        if cs:\n",
    "                            new_circs.update(cs)\n",
    "                        else: break\n",
    "                    if len(new_layer) > marker: \n",
    "                        print(\"new_layer:\", len(new_layer))\n",
    "                        marker += 5000\n",
    "    print(\"There are\", len(new_layer), \"circuits with\", len(layers)-1, \"CNOT gates\")\n",
    "    current = new_layer\n",
    "    to_check = current"
   ]
  },
  {
   "cell_type": "code",
   "execution_count": 43,
   "metadata": {},
   "outputs": [
    {
     "name": "stdout",
     "output_type": "stream",
     "text": [
      "[56, 1026, 15714, 101100, 110692, 15553, 76, 0]\n"
     ]
    }
   ],
   "source": [
    "print([len(l) for l in layers])"
   ]
  },
  {
   "cell_type": "code",
   "execution_count": 263,
   "metadata": {},
   "outputs": [
    {
     "data": {
      "text/plain": [
       "2255262"
      ]
     },
     "execution_count": 263,
     "metadata": {},
     "output_type": "execute_result"
    }
   ],
   "source": [
    "qasm = \"\\n----------\\n\".join(c.to_qasm() for c in layers[2].values())\n",
    "len(qasm)"
   ]
  },
  {
   "cell_type": "code",
   "execution_count": 293,
   "metadata": {},
   "outputs": [],
   "source": [
    "def find_subcircuit(c, i, qubits):\n",
    "    # i is pivot gate index\n",
    "    # qubits should be a list of allowed qubit indices in the subcircuit\n",
    "    gates = []\n",
    "    before = c.gates[:i]\n",
    "    after = []\n",
    "    blocked = {}\n",
    "    barrier = dict()\n",
    "    for g in c.gates[i:]:\n",
    "        if not g.name in (\"CNOT\", \"CZ\"):\n",
    "            if g.target in barrier and barrier[g.target] == 'A': after.append(g)\n",
    "            elif g.target in qubits:\n",
    "                if g.target not in barrier:\n",
    "                    if isinstance(g, zx.gates.ZPhase):\n",
    "                        if g.target not in blocked:\n",
    "                            blocked[g.target] = 'Z'\n",
    "                        elif g.target in blocked and blocked[g.target] == 'X':\n",
    "                            blocked[g.target] = 'A'\n",
    "                        if g.phase.denominator <= 2:\n",
    "                            gates.append(g)\n",
    "                        else: # Not Clifford\n",
    "                            barrier[g.target] = 'Z'\n",
    "                            after.append(g)\n",
    "                    elif g.name == 'HAD':\n",
    "                        blocked[g.target] = 'A'\n",
    "                        gates.append(g)\n",
    "                    elif isinstance(g, zx.gates.XPhase):\n",
    "                        if g.target not in blocked:\n",
    "                            blocked[g.target] = 'X'\n",
    "                        elif g.target in blocked and blocked[g.target] == 'Z':\n",
    "                            blocked[g.target] = 'A'\n",
    "                        gates.append(g)\n",
    "                    else: raise Exception(\"unknown gate \" + str(g))\n",
    "                else:\n",
    "                    if isinstance(g, zx.gates.ZPhase):\n",
    "                        if barrier[g.target] == 'Z': \n",
    "                            if g.phase.denominator <= 2: gates.append(g)\n",
    "                            else: after.append(g)\n",
    "                        else: \n",
    "                            barrier[g.target] = 'A'\n",
    "                            after.append(g)\n",
    "                    elif g.name == 'HAD':\n",
    "                        barrier[g.target] = 'A'\n",
    "                        after.append(g)\n",
    "                    elif isinstance(g, zx.gates.XPhase):\n",
    "                        if barrier[g.target] == 'X': gates.append(g)\n",
    "                        else: \n",
    "                            barrier[g.target] = 'A'\n",
    "                            after.append(g)\n",
    "            else:\n",
    "                if g.target not in barrier: before.append(g)\n",
    "                else:\n",
    "                    if isinstance(g, zx.gates.ZPhase):\n",
    "                        if barrier[g.target] == 'Z': before.append(g)\n",
    "                        else:\n",
    "                            barrier[g.target] == 'A'\n",
    "                            after.append(g)\n",
    "                    else:\n",
    "                        barrier[g.target] = 'A'\n",
    "                        after.append(g)\n",
    "        elif g.name == \"CNOT\":\n",
    "            if ((g.target not in barrier or barrier[g.target] == 'X') and \n",
    "                    (g.control not in barrier or barrier[g.control] == 'Z')):\n",
    "                if g.target in qubits and g.control in qubits: \n",
    "                    gates.append(g)\n",
    "                    if g.target not in blocked: blocked[g.target] = 'X'\n",
    "                    elif blocked[g.target] == 'Z': blocked[g.target] = 'A'\n",
    "                    if g.control not in blocked: blocked[g.control] = 'Z'\n",
    "                    elif blocked[g.control] == 'X': blocked[g.control] = 'A'\n",
    "                elif g.target not in qubits and g.control not in qubits:\n",
    "                    before.append(g)\n",
    "                elif g.target in qubits:\n",
    "                    if g.target not in blocked: before.append(g)\n",
    "                    elif blocked[g.target] == 'X': before.append(g)\n",
    "                    else: \n",
    "                        barrier[g.target] = 'X'\n",
    "                        barrier[g.control] = 'Z'\n",
    "                        after.append(g)\n",
    "                elif g.control in qubits:\n",
    "                    if g.control not in blocked: before.append(g)\n",
    "                    elif blocked[g.control] == 'Z': before.append(g)\n",
    "                    else:\n",
    "                        barrier[g.target] = 'X'\n",
    "                        barrier[g.control] = 'Z'\n",
    "                        after.append(g)\n",
    "            else:\n",
    "                after.append(g)\n",
    "                if g.target not in barrier: barrier[g.target] = 'X'\n",
    "                elif barrier[g.target] == 'Z':barrier[g.target] = 'A'\n",
    "                if g.control not in barrier: barrier[g.control] = 'Z'\n",
    "                elif barrier[g.control] == 'X': barrier[g.control] = 'A'\n",
    "        elif g.name == \"CZ\": \n",
    "            if ((g.target not in barrier or barrier[g.target] == 'Z') and \n",
    "                    (g.control not in barrier or barrier[g.control] == 'Z')):\n",
    "                if g.target in qubits and g.control in qubits: \n",
    "                    gates.append(g)\n",
    "                    if g.target not in blocked: blocked[g.target] = 'Z'\n",
    "                    elif blocked[g.target] == 'X': blocked[g.target] = 'A'\n",
    "                    if g.control not in blocked: blocked[g.control] = 'Z'\n",
    "                    elif blocked[g.control] == 'X': blocked[g.control] = 'A'\n",
    "                elif g.target not in qubits and g.control not in qubits:\n",
    "                    before.append(g)\n",
    "                elif g.target in qubits:\n",
    "                    if g.target not in blocked: before.append(g)\n",
    "                    elif blocked[g.target] == 'Z': before.append(g)\n",
    "                    else: \n",
    "                        barrier[g.target] = 'Z'\n",
    "                        barrier[g.control] = 'Z'\n",
    "                        after.append(g)\n",
    "                elif g.control in qubits:\n",
    "                    if g.control not in blocked: before.append(g)\n",
    "                    elif blocked[g.control] == 'Z': before.append(g)\n",
    "                    else:\n",
    "                        barrier[g.target] = 'Z'\n",
    "                        barrier[g.control] = 'Z'\n",
    "                        after.append(g)\n",
    "            else:\n",
    "                after.append(g)\n",
    "                if g.target not in barrier: barrier[g.target] = 'Z'\n",
    "                elif barrier[g.target] == 'X':barrier[g.target] = 'A'\n",
    "                if g.control not in barrier: barrier[g.control] = 'Z'\n",
    "                elif barrier[g.control] == 'X': barrier[g.control] = 'A'\n",
    "        else: raise Exception(\"Shouldn't get here\")\n",
    "        \n",
    "    return before, gates, after"
   ]
  },
  {
   "cell_type": "code",
   "execution_count": 289,
   "metadata": {},
   "outputs": [],
   "source": [
    "def convert_CZs(c):\n",
    "    c2 = zx.Circuit(c.qubits)\n",
    "    for g in c.gates:\n",
    "        if g.name != \"CZ\":\n",
    "            c2.add_gate(g)\n",
    "        else:\n",
    "            c2.add_gate(\"HAD\",g.target)\n",
    "            c2.add_gate(\"CNOT\",g.control, g.target)\n",
    "            c2.add_gate(\"HAD\",g.target)\n",
    "    return c2\n",
    "\n",
    "def replace_circuit(c):\n",
    "    count = c.twoqubitcount()\n",
    "    if count == 0: return None\n",
    "    for labelling in [(0,1,2),(0,2,1),(1,2,0),(1,0,2),(2,0,1),(2,1,0)]:\n",
    "        cp = c.copy()\n",
    "        for g in cp.gates:\n",
    "            g.target = labelling[g.target]\n",
    "            if g.name in (\"CNOT\", \"CZ\"): g.control = labelling[g.control]\n",
    "        h = make_hash(cp)\n",
    "        for l in layers[:count]:\n",
    "            if h in l: \n",
    "                inverse_labelling = tuple(labelling.index(i) for i in range(3))\n",
    "                cp = l[h].copy()\n",
    "                for g in cp.gates:\n",
    "                    g.target = inverse_labelling[g.target]\n",
    "                    if g.name in (\"CNOT\", \"CZ\"): g.control = inverse_labelling[g.control]\n",
    "                return correct_representative(c,cp)\n",
    "    return None\n",
    "\n",
    "def optimize_circuit(c):\n",
    "    #c = zx.optimize.basic_optimization(c,False).to_basic_gates()\n",
    "    #c = convert_CZs(c)\n",
    "    c = c.copy()\n",
    "    q = c.qubits\n",
    "    rounds_to_go = 2\n",
    "    while True:\n",
    "        for q_1 in range(q):\n",
    "            for q_2 in range(q_1+1,q):\n",
    "                for q_3 in range(q_2+1,q):\n",
    "                    qubits = (q_1,q_2,q_3)\n",
    "                    index = 0\n",
    "                    while True:\n",
    "                        before, middle, after = find_subcircuit(c, index, qubits)\n",
    "                        c2 = zx.Circuit(q)\n",
    "                        c2.gates = before + middle + after\n",
    "#                         if not zx.compare_tensors(c,c2,False):\n",
    "#                             print(qubits, index)\n",
    "#                             raise Exception(\"Not equal\")\n",
    "                        small = zx.Circuit(3)\n",
    "                        for g in middle:\n",
    "                            g2 = g.copy()\n",
    "                            g2.target = qubits.index(g.target)\n",
    "                            if g2.name in (\"CNOT\", \"CZ\"): g2.control = qubits.index(g.control)\n",
    "                            small.add_gate(g2)\n",
    "                        opt = replace_circuit(small)\n",
    "                        if opt:\n",
    "                            #print(middle)\n",
    "                            #print(small.gates)\n",
    "                            #print(opt.gates)\n",
    "                            rounds_to_go = 2\n",
    "                            #print(\"Found improvement on\", qubits, \"subcircuit\")\n",
    "                            #print(small.twoqubitcount(), \"to\", opt.twoqubitcount(), \"CNOT gates\")\n",
    "                            for g in opt.gates:\n",
    "                                g.target = qubits[g.target]\n",
    "                                if g.name in (\"CNOT\", \"CZ\"): g.control = qubits[g.control]\n",
    "                            c.gates = before + opt.gates + after\n",
    "                        for i in range(len(after)):\n",
    "                            if after[i].target in qubits:\n",
    "                                if after[i].name in (\"CNOT\", \"CZ\"):\n",
    "                                    if after[i].control in qubits:\n",
    "                                        break\n",
    "                                if isinstance(after[i], zx.gates.ZPhase) and after[i].phase.denominator > 2: continue\n",
    "                                else: break\n",
    "                        else: break\n",
    "                        index = len(before) + len(middle) + i\n",
    "        c = zx.optimize.basic_optimization(c,False).to_basic_gates()\n",
    "        rounds_to_go -= 1\n",
    "        if not rounds_to_go: break\n",
    "    return c"
   ]
  },
  {
   "cell_type": "code",
   "execution_count": 296,
   "metadata": {},
   "outputs": [
    {
     "data": {
      "text/html": [
       "\n",
       "        <div style=\"overflow:auto\" id=\"graph-output-332\"></div>\n",
       "        <script type=\"text/javascript\">\n",
       "        require.config({ baseUrl: \"../js\",\n",
       "                         paths: {d3: \"d3.v4.min\"} });\n",
       "        require(['pyzx'], function(pyzx) {\n",
       "            pyzx.showGraph('#graph-output-332',\n",
       "            JSON.parse('{\"nodes\": [{\"name\": \"0\", \"x\": 20, \"y\": 40, \"t\": 0, \"phase\": \"\"}, {\"name\": \"1\", \"x\": 20, \"y\": 60, \"t\": 0, \"phase\": \"\"}, {\"name\": \"2\", \"x\": 20, \"y\": 80, \"t\": 0, \"phase\": \"\"}, {\"name\": \"3\", \"x\": 20, \"y\": 100, \"t\": 0, \"phase\": \"\"}, {\"name\": \"4\", \"x\": 20, \"y\": 120, \"t\": 0, \"phase\": \"\"}, {\"name\": \"5\", \"x\": 40, \"y\": 120, \"t\": 2, \"phase\": \"\\u03c0\"}, {\"name\": \"6\", \"x\": 60, \"y\": 120, \"t\": 1, \"phase\": \"\"}, {\"name\": \"7\", \"x\": 80, \"y\": 120, \"t\": 2, \"phase\": \"\"}, {\"name\": \"8\", \"x\": 80, \"y\": 100, \"t\": 1, \"phase\": \"\"}, {\"name\": \"9\", \"x\": 100, \"y\": 120, \"t\": 1, \"phase\": \"7\\u03c0/4\"}, {\"name\": \"10\", \"x\": 120, \"y\": 120, \"t\": 2, \"phase\": \"\"}, {\"name\": \"11\", \"x\": 120, \"y\": 40, \"t\": 1, \"phase\": \"\"}, {\"name\": \"12\", \"x\": 140, \"y\": 120, \"t\": 1, \"phase\": \"\\u03c0/4\"}, {\"name\": \"13\", \"x\": 160, \"y\": 120, \"t\": 2, \"phase\": \"\"}, {\"name\": \"14\", \"x\": 160, \"y\": 100, \"t\": 1, \"phase\": \"\"}, {\"name\": \"15\", \"x\": 180, \"y\": 120, \"t\": 1, \"phase\": \"7\\u03c0/4\"}, {\"name\": \"16\", \"x\": 200, \"y\": 120, \"t\": 2, \"phase\": \"\"}, {\"name\": \"17\", \"x\": 200, \"y\": 40, \"t\": 1, \"phase\": \"\"}, {\"name\": \"18\", \"x\": 180, \"y\": 100, \"t\": 1, \"phase\": \"\\u03c0/4\"}, {\"name\": \"19\", \"x\": 220, \"y\": 120, \"t\": 1, \"phase\": \"\\u03c0/4\"}, {\"name\": \"20\", \"x\": 220, \"y\": 100, \"t\": 2, \"phase\": \"\"}, {\"name\": \"21\", \"x\": 220, \"y\": 40, \"t\": 1, \"phase\": \"\"}, {\"name\": \"22\", \"x\": 240, \"y\": 40, \"t\": 1, \"phase\": \"\\u03c0/4\"}, {\"name\": \"23\", \"x\": 240, \"y\": 100, \"t\": 1, \"phase\": \"7\\u03c0/4\"}, {\"name\": \"24\", \"x\": 260, \"y\": 100, \"t\": 2, \"phase\": \"\"}, {\"name\": \"25\", \"x\": 260, \"y\": 40, \"t\": 1, \"phase\": \"\"}, {\"name\": \"26\", \"x\": 280, \"y\": 120, \"t\": 2, \"phase\": \"\"}, {\"name\": \"27\", \"x\": 280, \"y\": 100, \"t\": 1, \"phase\": \"\"}, {\"name\": \"28\", \"x\": 300, \"y\": 120, \"t\": 1, \"phase\": \"7\\u03c0/4\"}, {\"name\": \"29\", \"x\": 320, \"y\": 120, \"t\": 2, \"phase\": \"\"}, {\"name\": \"30\", \"x\": 320, \"y\": 80, \"t\": 1, \"phase\": \"\"}, {\"name\": \"31\", \"x\": 340, \"y\": 120, \"t\": 1, \"phase\": \"\\u03c0/4\"}, {\"name\": \"32\", \"x\": 360, \"y\": 120, \"t\": 2, \"phase\": \"\"}, {\"name\": \"33\", \"x\": 360, \"y\": 100, \"t\": 1, \"phase\": \"\"}, {\"name\": \"34\", \"x\": 380, \"y\": 120, \"t\": 1, \"phase\": \"7\\u03c0/4\"}, {\"name\": \"35\", \"x\": 400, \"y\": 120, \"t\": 2, \"phase\": \"\"}, {\"name\": \"36\", \"x\": 400, \"y\": 80, \"t\": 1, \"phase\": \"\"}, {\"name\": \"37\", \"x\": 380, \"y\": 100, \"t\": 1, \"phase\": \"\\u03c0/4\"}, {\"name\": \"38\", \"x\": 420, \"y\": 120, \"t\": 1, \"phase\": \"\\u03c0/4\"}, {\"name\": \"39\", \"x\": 420, \"y\": 100, \"t\": 2, \"phase\": \"\"}, {\"name\": \"40\", \"x\": 420, \"y\": 80, \"t\": 1, \"phase\": \"\"}, {\"name\": \"41\", \"x\": 440, \"y\": 80, \"t\": 1, \"phase\": \"\\u03c0/4\"}, {\"name\": \"42\", \"x\": 440, \"y\": 100, \"t\": 1, \"phase\": \"7\\u03c0/4\"}, {\"name\": \"43\", \"x\": 460, \"y\": 100, \"t\": 2, \"phase\": \"\"}, {\"name\": \"44\", \"x\": 460, \"y\": 80, \"t\": 1, \"phase\": \"\"}, {\"name\": \"45\", \"x\": 440, \"y\": 120, \"t\": 1, \"phase\": \"\"}, {\"name\": \"46\", \"x\": 480, \"y\": 120, \"t\": 2, \"phase\": \"\"}, {\"name\": \"47\", \"x\": 480, \"y\": 100, \"t\": 1, \"phase\": \"\"}, {\"name\": \"48\", \"x\": 500, \"y\": 120, \"t\": 1, \"phase\": \"\"}, {\"name\": \"49\", \"x\": 520, \"y\": 120, \"t\": 2, \"phase\": \"\"}, {\"name\": \"50\", \"x\": 520, \"y\": 80, \"t\": 1, \"phase\": \"\"}, {\"name\": \"51\", \"x\": 540, \"y\": 120, \"t\": 1, \"phase\": \"7\\u03c0/4\"}, {\"name\": \"52\", \"x\": 560, \"y\": 120, \"t\": 2, \"phase\": \"\"}, {\"name\": \"53\", \"x\": 560, \"y\": 60, \"t\": 1, \"phase\": \"\"}, {\"name\": \"54\", \"x\": 580, \"y\": 120, \"t\": 1, \"phase\": \"\\u03c0/4\"}, {\"name\": \"55\", \"x\": 600, \"y\": 120, \"t\": 2, \"phase\": \"\"}, {\"name\": \"56\", \"x\": 600, \"y\": 80, \"t\": 1, \"phase\": \"\"}, {\"name\": \"57\", \"x\": 620, \"y\": 120, \"t\": 1, \"phase\": \"7\\u03c0/4\"}, {\"name\": \"58\", \"x\": 640, \"y\": 120, \"t\": 2, \"phase\": \"\"}, {\"name\": \"59\", \"x\": 640, \"y\": 60, \"t\": 1, \"phase\": \"\"}, {\"name\": \"60\", \"x\": 620, \"y\": 80, \"t\": 1, \"phase\": \"\\u03c0/4\"}, {\"name\": \"61\", \"x\": 660, \"y\": 120, \"t\": 1, \"phase\": \"\\u03c0/4\"}, {\"name\": \"62\", \"x\": 660, \"y\": 80, \"t\": 2, \"phase\": \"\"}, {\"name\": \"63\", \"x\": 660, \"y\": 60, \"t\": 1, \"phase\": \"\"}, {\"name\": \"64\", \"x\": 680, \"y\": 60, \"t\": 1, \"phase\": \"\\u03c0/4\"}, {\"name\": \"65\", \"x\": 680, \"y\": 80, \"t\": 1, \"phase\": \"7\\u03c0/4\"}, {\"name\": \"66\", \"x\": 700, \"y\": 80, \"t\": 2, \"phase\": \"\"}, {\"name\": \"67\", \"x\": 700, \"y\": 60, \"t\": 1, \"phase\": \"\"}, {\"name\": \"68\", \"x\": 680, \"y\": 120, \"t\": 1, \"phase\": \"\"}, {\"name\": \"69\", \"x\": 720, \"y\": 120, \"t\": 2, \"phase\": \"\"}, {\"name\": \"70\", \"x\": 720, \"y\": 80, \"t\": 1, \"phase\": \"\"}, {\"name\": \"71\", \"x\": 740, \"y\": 120, \"t\": 1, \"phase\": \"\"}, {\"name\": \"72\", \"x\": 760, \"y\": 120, \"t\": 2, \"phase\": \"\"}, {\"name\": \"73\", \"x\": 760, \"y\": 60, \"t\": 1, \"phase\": \"\"}, {\"name\": \"74\", \"x\": 780, \"y\": 120, \"t\": 1, \"phase\": \"7\\u03c0/4\"}, {\"name\": \"75\", \"x\": 800, \"y\": 120, \"t\": 2, \"phase\": \"\"}, {\"name\": \"76\", \"x\": 800, \"y\": 40, \"t\": 1, \"phase\": \"\"}, {\"name\": \"77\", \"x\": 820, \"y\": 120, \"t\": 1, \"phase\": \"\\u03c0/4\"}, {\"name\": \"78\", \"x\": 840, \"y\": 120, \"t\": 2, \"phase\": \"\"}, {\"name\": \"79\", \"x\": 840, \"y\": 60, \"t\": 1, \"phase\": \"\"}, {\"name\": \"80\", \"x\": 860, \"y\": 120, \"t\": 1, \"phase\": \"7\\u03c0/4\"}, {\"name\": \"81\", \"x\": 880, \"y\": 120, \"t\": 2, \"phase\": \"\"}, {\"name\": \"82\", \"x\": 880, \"y\": 40, \"t\": 1, \"phase\": \"\"}, {\"name\": \"83\", \"x\": 860, \"y\": 60, \"t\": 1, \"phase\": \"\\u03c0/4\"}, {\"name\": \"84\", \"x\": 900, \"y\": 120, \"t\": 1, \"phase\": \"\\u03c0/4\"}, {\"name\": \"85\", \"x\": 900, \"y\": 60, \"t\": 2, \"phase\": \"\"}, {\"name\": \"86\", \"x\": 900, \"y\": 40, \"t\": 1, \"phase\": \"\"}, {\"name\": \"87\", \"x\": 920, \"y\": 40, \"t\": 1, \"phase\": \"\\u03c0/4\"}, {\"name\": \"88\", \"x\": 920, \"y\": 60, \"t\": 1, \"phase\": \"7\\u03c0/4\"}, {\"name\": \"89\", \"x\": 940, \"y\": 60, \"t\": 2, \"phase\": \"\"}, {\"name\": \"90\", \"x\": 940, \"y\": 40, \"t\": 1, \"phase\": \"\"}, {\"name\": \"91\", \"x\": 920, \"y\": 120, \"t\": 1, \"phase\": \"\"}, {\"name\": \"92\", \"x\": 960, \"y\": 120, \"t\": 2, \"phase\": \"\"}, {\"name\": \"93\", \"x\": 960, \"y\": 60, \"t\": 1, \"phase\": \"\"}, {\"name\": \"94\", \"x\": 980, \"y\": 120, \"t\": 2, \"phase\": \"\"}, {\"name\": \"95\", \"x\": 980, \"y\": 40, \"t\": 1, \"phase\": \"\"}, {\"name\": \"96\", \"x\": 1000, \"y\": 40, \"t\": 0, \"phase\": \"\"}, {\"name\": \"97\", \"x\": 1000, \"y\": 60, \"t\": 0, \"phase\": \"\"}, {\"name\": \"98\", \"x\": 1000, \"y\": 80, \"t\": 0, \"phase\": \"\"}, {\"name\": \"99\", \"x\": 1000, \"y\": 100, \"t\": 0, \"phase\": \"\"}, {\"name\": \"100\", \"x\": 1000, \"y\": 120, \"t\": 0, \"phase\": \"\"}], \"links\": [{\"source\": \"0\", \"target\": \"11\", \"t\": 1}, {\"source\": \"1\", \"target\": \"53\", \"t\": 1}, {\"source\": \"2\", \"target\": \"30\", \"t\": 1}, {\"source\": \"3\", \"target\": \"8\", \"t\": 1}, {\"source\": \"4\", \"target\": \"5\", \"t\": 1}, {\"source\": \"5\", \"target\": \"6\", \"t\": 2}, {\"source\": \"6\", \"target\": \"7\", \"t\": 1}, {\"source\": \"7\", \"target\": \"8\", \"t\": 1}, {\"source\": \"7\", \"target\": \"9\", \"t\": 1}, {\"source\": \"8\", \"target\": \"14\", \"t\": 1}, {\"source\": \"9\", \"target\": \"10\", \"t\": 1}, {\"source\": \"10\", \"target\": \"11\", \"t\": 1}, {\"source\": \"10\", \"target\": \"12\", \"t\": 1}, {\"source\": \"11\", \"target\": \"17\", \"t\": 1}, {\"source\": \"12\", \"target\": \"13\", \"t\": 1}, {\"source\": \"13\", \"target\": \"14\", \"t\": 1}, {\"source\": \"13\", \"target\": \"15\", \"t\": 1}, {\"source\": \"14\", \"target\": \"18\", \"t\": 1}, {\"source\": \"15\", \"target\": \"16\", \"t\": 1}, {\"source\": \"16\", \"target\": \"17\", \"t\": 1}, {\"source\": \"16\", \"target\": \"19\", \"t\": 1}, {\"source\": \"17\", \"target\": \"21\", \"t\": 1}, {\"source\": \"18\", \"target\": \"20\", \"t\": 1}, {\"source\": \"19\", \"target\": \"26\", \"t\": 1}, {\"source\": \"20\", \"target\": \"21\", \"t\": 1}, {\"source\": \"20\", \"target\": \"23\", \"t\": 1}, {\"source\": \"21\", \"target\": \"22\", \"t\": 1}, {\"source\": \"22\", \"target\": \"25\", \"t\": 1}, {\"source\": \"23\", \"target\": \"24\", \"t\": 1}, {\"source\": \"24\", \"target\": \"25\", \"t\": 1}, {\"source\": \"24\", \"target\": \"27\", \"t\": 1}, {\"source\": \"25\", \"target\": \"76\", \"t\": 1}, {\"source\": \"26\", \"target\": \"27\", \"t\": 1}, {\"source\": \"26\", \"target\": \"28\", \"t\": 1}, {\"source\": \"27\", \"target\": \"33\", \"t\": 1}, {\"source\": \"28\", \"target\": \"29\", \"t\": 1}, {\"source\": \"29\", \"target\": \"30\", \"t\": 1}, {\"source\": \"29\", \"target\": \"31\", \"t\": 1}, {\"source\": \"30\", \"target\": \"36\", \"t\": 1}, {\"source\": \"31\", \"target\": \"32\", \"t\": 1}, {\"source\": \"32\", \"target\": \"33\", \"t\": 1}, {\"source\": \"32\", \"target\": \"34\", \"t\": 1}, {\"source\": \"33\", \"target\": \"37\", \"t\": 1}, {\"source\": \"34\", \"target\": \"35\", \"t\": 1}, {\"source\": \"35\", \"target\": \"36\", \"t\": 1}, {\"source\": \"35\", \"target\": \"38\", \"t\": 1}, {\"source\": \"36\", \"target\": \"40\", \"t\": 1}, {\"source\": \"37\", \"target\": \"39\", \"t\": 1}, {\"source\": \"38\", \"target\": \"45\", \"t\": 2}, {\"source\": \"39\", \"target\": \"40\", \"t\": 1}, {\"source\": \"39\", \"target\": \"42\", \"t\": 1}, {\"source\": \"40\", \"target\": \"41\", \"t\": 1}, {\"source\": \"41\", \"target\": \"44\", \"t\": 1}, {\"source\": \"42\", \"target\": \"43\", \"t\": 1}, {\"source\": \"43\", \"target\": \"44\", \"t\": 1}, {\"source\": \"43\", \"target\": \"47\", \"t\": 1}, {\"source\": \"44\", \"target\": \"50\", \"t\": 1}, {\"source\": \"45\", \"target\": \"46\", \"t\": 1}, {\"source\": \"46\", \"target\": \"47\", \"t\": 1}, {\"source\": \"46\", \"target\": \"48\", \"t\": 2}, {\"source\": \"47\", \"target\": \"99\", \"t\": 1}, {\"source\": \"48\", \"target\": \"49\", \"t\": 1}, {\"source\": \"49\", \"target\": \"50\", \"t\": 1}, {\"source\": \"49\", \"target\": \"51\", \"t\": 1}, {\"source\": \"50\", \"target\": \"56\", \"t\": 1}, {\"source\": \"51\", \"target\": \"52\", \"t\": 1}, {\"source\": \"52\", \"target\": \"53\", \"t\": 1}, {\"source\": \"52\", \"target\": \"54\", \"t\": 1}, {\"source\": \"53\", \"target\": \"59\", \"t\": 1}, {\"source\": \"54\", \"target\": \"55\", \"t\": 1}, {\"source\": \"55\", \"target\": \"56\", \"t\": 1}, {\"source\": \"55\", \"target\": \"57\", \"t\": 1}, {\"source\": \"56\", \"target\": \"60\", \"t\": 1}, {\"source\": \"57\", \"target\": \"58\", \"t\": 1}, {\"source\": \"58\", \"target\": \"59\", \"t\": 1}, {\"source\": \"58\", \"target\": \"61\", \"t\": 1}, {\"source\": \"59\", \"target\": \"63\", \"t\": 1}, {\"source\": \"60\", \"target\": \"62\", \"t\": 1}, {\"source\": \"61\", \"target\": \"68\", \"t\": 2}, {\"source\": \"62\", \"target\": \"63\", \"t\": 1}, {\"source\": \"62\", \"target\": \"65\", \"t\": 1}, {\"source\": \"63\", \"target\": \"64\", \"t\": 1}, {\"source\": \"64\", \"target\": \"67\", \"t\": 1}, {\"source\": \"65\", \"target\": \"66\", \"t\": 1}, {\"source\": \"66\", \"target\": \"67\", \"t\": 1}, {\"source\": \"66\", \"target\": \"70\", \"t\": 1}, {\"source\": \"67\", \"target\": \"73\", \"t\": 1}, {\"source\": \"68\", \"target\": \"69\", \"t\": 1}, {\"source\": \"69\", \"target\": \"70\", \"t\": 1}, {\"source\": \"69\", \"target\": \"71\", \"t\": 2}, {\"source\": \"70\", \"target\": \"98\", \"t\": 1}, {\"source\": \"71\", \"target\": \"72\", \"t\": 1}, {\"source\": \"72\", \"target\": \"73\", \"t\": 1}, {\"source\": \"72\", \"target\": \"74\", \"t\": 1}, {\"source\": \"73\", \"target\": \"79\", \"t\": 1}, {\"source\": \"74\", \"target\": \"75\", \"t\": 1}, {\"source\": \"75\", \"target\": \"76\", \"t\": 1}, {\"source\": \"75\", \"target\": \"77\", \"t\": 1}, {\"source\": \"76\", \"target\": \"82\", \"t\": 1}, {\"source\": \"77\", \"target\": \"78\", \"t\": 1}, {\"source\": \"78\", \"target\": \"79\", \"t\": 1}, {\"source\": \"78\", \"target\": \"80\", \"t\": 1}, {\"source\": \"79\", \"target\": \"83\", \"t\": 1}, {\"source\": \"80\", \"target\": \"81\", \"t\": 1}, {\"source\": \"81\", \"target\": \"82\", \"t\": 1}, {\"source\": \"81\", \"target\": \"84\", \"t\": 1}, {\"source\": \"82\", \"target\": \"86\", \"t\": 1}, {\"source\": \"83\", \"target\": \"85\", \"t\": 1}, {\"source\": \"84\", \"target\": \"91\", \"t\": 2}, {\"source\": \"85\", \"target\": \"86\", \"t\": 1}, {\"source\": \"85\", \"target\": \"88\", \"t\": 1}, {\"source\": \"86\", \"target\": \"87\", \"t\": 1}, {\"source\": \"87\", \"target\": \"90\", \"t\": 1}, {\"source\": \"88\", \"target\": \"89\", \"t\": 1}, {\"source\": \"89\", \"target\": \"90\", \"t\": 1}, {\"source\": \"89\", \"target\": \"93\", \"t\": 1}, {\"source\": \"90\", \"target\": \"95\", \"t\": 1}, {\"source\": \"91\", \"target\": \"92\", \"t\": 1}, {\"source\": \"92\", \"target\": \"93\", \"t\": 1}, {\"source\": \"92\", \"target\": \"94\", \"t\": 1}, {\"source\": \"93\", \"target\": \"97\", \"t\": 1}, {\"source\": \"94\", \"target\": \"95\", \"t\": 1}, {\"source\": \"94\", \"target\": \"100\", \"t\": 1}, {\"source\": \"95\", \"target\": \"96\", \"t\": 1}]}'), 1020, 160, 4.0);\n",
       "        });\n",
       "        </script>\n",
       "        "
      ],
      "text/plain": [
       "<IPython.core.display.HTML object>"
      ]
     },
     "metadata": {},
     "output_type": "display_data"
    },
    {
     "data": {
      "text/html": [
       "\n",
       "        <div style=\"overflow:auto\" id=\"graph-output-333\"></div>\n",
       "        <script type=\"text/javascript\">\n",
       "        require.config({ baseUrl: \"../js\",\n",
       "                         paths: {d3: \"d3.v4.min\"} });\n",
       "        require(['pyzx'], function(pyzx) {\n",
       "            pyzx.showGraph('#graph-output-333',\n",
       "            JSON.parse('{\"nodes\": [{\"name\": \"0\", \"x\": 20, \"y\": 40, \"t\": 0, \"phase\": \"\"}, {\"name\": \"1\", \"x\": 20, \"y\": 60, \"t\": 0, \"phase\": \"\"}, {\"name\": \"2\", \"x\": 20, \"y\": 80, \"t\": 0, \"phase\": \"\"}, {\"name\": \"3\", \"x\": 20, \"y\": 100, \"t\": 0, \"phase\": \"\"}, {\"name\": \"4\", \"x\": 20, \"y\": 120, \"t\": 0, \"phase\": \"\"}, {\"name\": \"5\", \"x\": 40, \"y\": 120, \"t\": 2, \"phase\": \"\"}, {\"name\": \"6\", \"x\": 40, \"y\": 60, \"t\": 1, \"phase\": \"\"}, {\"name\": \"7\", \"x\": 60, \"y\": 60, \"t\": 2, \"phase\": \"\"}, {\"name\": \"8\", \"x\": 60, \"y\": 120, \"t\": 1, \"phase\": \"\"}, {\"name\": \"9\", \"x\": 80, \"y\": 120, \"t\": 2, \"phase\": \"\"}, {\"name\": \"10\", \"x\": 80, \"y\": 60, \"t\": 1, \"phase\": \"\"}, {\"name\": \"11\", \"x\": 40, \"y\": 100, \"t\": 2, \"phase\": \"\"}, {\"name\": \"12\", \"x\": 40, \"y\": 40, \"t\": 1, \"phase\": \"\"}, {\"name\": \"13\", \"x\": 60, \"y\": 40, \"t\": 2, \"phase\": \"\"}, {\"name\": \"14\", \"x\": 60, \"y\": 100, \"t\": 1, \"phase\": \"\"}, {\"name\": \"15\", \"x\": 80, \"y\": 100, \"t\": 2, \"phase\": \"\"}, {\"name\": \"16\", \"x\": 80, \"y\": 40, \"t\": 1, \"phase\": \"\"}, {\"name\": \"17\", \"x\": 100, \"y\": 120, \"t\": 1, \"phase\": \"\"}, {\"name\": \"18\", \"x\": 100, \"y\": 100, \"t\": 1, \"phase\": \"\"}, {\"name\": \"19\", \"x\": 40, \"y\": 80, \"t\": 1, \"phase\": \"\"}, {\"name\": \"20\", \"x\": 100, \"y\": 40, \"t\": 1, \"phase\": \"\"}, {\"name\": \"21\", \"x\": 100, \"y\": 60, \"t\": 1, \"phase\": \"\"}, {\"name\": \"22\", \"x\": 120, \"y\": 40, \"t\": 1, \"phase\": \"\"}, {\"name\": \"23\", \"x\": 60, \"y\": 80, \"t\": 1, \"phase\": \"\"}, {\"name\": \"24\", \"x\": 120, \"y\": 120, \"t\": 1, \"phase\": \"\"}, {\"name\": \"25\", \"x\": 120, \"y\": 100, \"t\": 1, \"phase\": \"\"}, {\"name\": \"26\", \"x\": 140, \"y\": 120, \"t\": 2, \"phase\": \"\"}, {\"name\": \"27\", \"x\": 140, \"y\": 100, \"t\": 1, \"phase\": \"\"}, {\"name\": \"28\", \"x\": 160, \"y\": 80, \"t\": 2, \"phase\": \"\"}, {\"name\": \"29\", \"x\": 160, \"y\": 120, \"t\": 1, \"phase\": \"\"}, {\"name\": \"30\", \"x\": 180, \"y\": 80, \"t\": 2, \"phase\": \"\"}, {\"name\": \"31\", \"x\": 180, \"y\": 100, \"t\": 1, \"phase\": \"\"}, {\"name\": \"32\", \"x\": 200, \"y\": 40, \"t\": 2, \"phase\": \"\"}, {\"name\": \"33\", \"x\": 200, \"y\": 80, \"t\": 1, \"phase\": \"\"}, {\"name\": \"34\", \"x\": 220, \"y\": 40, \"t\": 2, \"phase\": \"\"}, {\"name\": \"35\", \"x\": 220, \"y\": 100, \"t\": 1, \"phase\": \"\"}, {\"name\": \"36\", \"x\": 240, \"y\": 60, \"t\": 2, \"phase\": \"\"}, {\"name\": \"37\", \"x\": 240, \"y\": 40, \"t\": 1, \"phase\": \"\"}, {\"name\": \"38\", \"x\": 260, \"y\": 60, \"t\": 2, \"phase\": \"\"}, {\"name\": \"39\", \"x\": 260, \"y\": 80, \"t\": 1, \"phase\": \"\"}, {\"name\": \"40\", \"x\": 280, \"y\": 60, \"t\": 2, \"phase\": \"\"}, {\"name\": \"41\", \"x\": 280, \"y\": 120, \"t\": 1, \"phase\": \"\"}, {\"name\": \"42\", \"x\": 300, \"y\": 40, \"t\": 2, \"phase\": \"\"}, {\"name\": \"43\", \"x\": 300, \"y\": 60, \"t\": 1, \"phase\": \"\"}, {\"name\": \"44\", \"x\": 320, \"y\": 60, \"t\": 2, \"phase\": \"\"}, {\"name\": \"45\", \"x\": 320, \"y\": 40, \"t\": 1, \"phase\": \"\"}, {\"name\": \"46\", \"x\": 340, \"y\": 80, \"t\": 2, \"phase\": \"\"}, {\"name\": \"47\", \"x\": 340, \"y\": 60, \"t\": 1, \"phase\": \"\"}, {\"name\": \"48\", \"x\": 360, \"y\": 60, \"t\": 2, \"phase\": \"\"}, {\"name\": \"49\", \"x\": 360, \"y\": 80, \"t\": 1, \"phase\": \"\"}, {\"name\": \"50\", \"x\": 340, \"y\": 120, \"t\": 2, \"phase\": \"\"}, {\"name\": \"51\", \"x\": 340, \"y\": 40, \"t\": 1, \"phase\": \"\"}, {\"name\": \"52\", \"x\": 360, \"y\": 40, \"t\": 2, \"phase\": \"\"}, {\"name\": \"53\", \"x\": 360, \"y\": 120, \"t\": 1, \"phase\": \"\"}, {\"name\": \"54\", \"x\": 380, \"y\": 100, \"t\": 2, \"phase\": \"\"}, {\"name\": \"55\", \"x\": 380, \"y\": 60, \"t\": 1, \"phase\": \"\"}, {\"name\": \"56\", \"x\": 400, \"y\": 100, \"t\": 2, \"phase\": \"\"}, {\"name\": \"57\", \"x\": 400, \"y\": 40, \"t\": 1, \"phase\": \"\"}, {\"name\": \"58\", \"x\": 400, \"y\": 60, \"t\": 1, \"phase\": \"7\\u03c0/4\"}, {\"name\": \"59\", \"x\": 420, \"y\": 40, \"t\": 1, \"phase\": \"7\\u03c0/4\"}, {\"name\": \"60\", \"x\": 380, \"y\": 80, \"t\": 1, \"phase\": \"7\\u03c0/4\"}, {\"name\": \"61\", \"x\": 380, \"y\": 120, \"t\": 1, \"phase\": \"\\u03c0/4\"}, {\"name\": \"62\", \"x\": 420, \"y\": 60, \"t\": 1, \"phase\": \"\"}, {\"name\": \"63\", \"x\": 440, \"y\": 40, \"t\": 1, \"phase\": \"\"}, {\"name\": \"64\", \"x\": 400, \"y\": 80, \"t\": 1, \"phase\": \"\"}, {\"name\": \"65\", \"x\": 400, \"y\": 120, \"t\": 1, \"phase\": \"\"}, {\"name\": \"66\", \"x\": 460, \"y\": 40, \"t\": 2, \"phase\": \"\"}, {\"name\": \"67\", \"x\": 460, \"y\": 80, \"t\": 1, \"phase\": \"\"}, {\"name\": \"68\", \"x\": 480, \"y\": 40, \"t\": 2, \"phase\": \"\"}, {\"name\": \"69\", \"x\": 480, \"y\": 120, \"t\": 1, \"phase\": \"\"}, {\"name\": \"70\", \"x\": 500, \"y\": 60, \"t\": 2, \"phase\": \"\"}, {\"name\": \"71\", \"x\": 500, \"y\": 40, \"t\": 1, \"phase\": \"\"}, {\"name\": \"72\", \"x\": 520, \"y\": 60, \"t\": 2, \"phase\": \"\"}, {\"name\": \"73\", \"x\": 520, \"y\": 120, \"t\": 1, \"phase\": \"\"}, {\"name\": \"74\", \"x\": 540, \"y\": 100, \"t\": 2, \"phase\": \"\"}, {\"name\": \"75\", \"x\": 540, \"y\": 120, \"t\": 1, \"phase\": \"\"}, {\"name\": \"76\", \"x\": 560, \"y\": 100, \"t\": 2, \"phase\": \"\"}, {\"name\": \"77\", \"x\": 560, \"y\": 60, \"t\": 1, \"phase\": \"\"}, {\"name\": \"78\", \"x\": 580, \"y\": 60, \"t\": 2, \"phase\": \"\"}, {\"name\": \"79\", \"x\": 580, \"y\": 100, \"t\": 1, \"phase\": \"\"}, {\"name\": \"80\", \"x\": 600, \"y\": 100, \"t\": 2, \"phase\": \"\"}, {\"name\": \"81\", \"x\": 600, \"y\": 60, \"t\": 1, \"phase\": \"\"}, {\"name\": \"82\", \"x\": 620, \"y\": 40, \"t\": 2, \"phase\": \"\"}, {\"name\": \"83\", \"x\": 620, \"y\": 60, \"t\": 1, \"phase\": \"\"}, {\"name\": \"84\", \"x\": 640, \"y\": 60, \"t\": 2, \"phase\": \"\"}, {\"name\": \"85\", \"x\": 640, \"y\": 40, \"t\": 1, \"phase\": \"\"}, {\"name\": \"86\", \"x\": 620, \"y\": 80, \"t\": 2, \"phase\": \"\"}, {\"name\": \"87\", \"x\": 620, \"y\": 100, \"t\": 1, \"phase\": \"\"}, {\"name\": \"88\", \"x\": 660, \"y\": 80, \"t\": 2, \"phase\": \"\"}, {\"name\": \"89\", \"x\": 660, \"y\": 60, \"t\": 1, \"phase\": \"\"}, {\"name\": \"90\", \"x\": 680, \"y\": 80, \"t\": 2, \"phase\": \"\"}, {\"name\": \"91\", \"x\": 680, \"y\": 40, \"t\": 1, \"phase\": \"\"}, {\"name\": \"92\", \"x\": 700, \"y\": 40, \"t\": 2, \"phase\": \"\"}, {\"name\": \"93\", \"x\": 700, \"y\": 80, \"t\": 1, \"phase\": \"\"}, {\"name\": \"94\", \"x\": 680, \"y\": 120, \"t\": 2, \"phase\": \"\"}, {\"name\": \"95\", \"x\": 680, \"y\": 60, \"t\": 1, \"phase\": \"\"}, {\"name\": \"96\", \"x\": 720, \"y\": 120, \"t\": 2, \"phase\": \"\"}, {\"name\": \"97\", \"x\": 720, \"y\": 40, \"t\": 1, \"phase\": \"\"}, {\"name\": \"98\", \"x\": 740, \"y\": 120, \"t\": 2, \"phase\": \"\"}, {\"name\": \"99\", \"x\": 740, \"y\": 80, \"t\": 1, \"phase\": \"\"}, {\"name\": \"100\", \"x\": 760, \"y\": 80, \"t\": 2, \"phase\": \"\"}, {\"name\": \"101\", \"x\": 760, \"y\": 120, \"t\": 1, \"phase\": \"\"}, {\"name\": \"102\", \"x\": 640, \"y\": 100, \"t\": 1, \"phase\": \"\"}, {\"name\": \"103\", \"x\": 700, \"y\": 60, \"t\": 1, \"phase\": \"\"}, {\"name\": \"104\", \"x\": 740, \"y\": 40, \"t\": 1, \"phase\": \"\"}, {\"name\": \"105\", \"x\": 780, \"y\": 80, \"t\": 1, \"phase\": \"\"}, {\"name\": \"106\", \"x\": 720, \"y\": 60, \"t\": 1, \"phase\": \"5\\u03c0/4\"}, {\"name\": \"107\", \"x\": 760, \"y\": 40, \"t\": 1, \"phase\": \"\\u03c0/4\"}, {\"name\": \"108\", \"x\": 660, \"y\": 100, \"t\": 1, \"phase\": \"7\\u03c0/4\"}, {\"name\": \"109\", \"x\": 800, \"y\": 80, \"t\": 1, \"phase\": \"\\u03c0/4\"}, {\"name\": \"110\", \"x\": 740, \"y\": 60, \"t\": 1, \"phase\": \"\"}, {\"name\": \"111\", \"x\": 780, \"y\": 40, \"t\": 1, \"phase\": \"\"}, {\"name\": \"112\", \"x\": 680, \"y\": 100, \"t\": 1, \"phase\": \"\"}, {\"name\": \"113\", \"x\": 820, \"y\": 80, \"t\": 1, \"phase\": \"\"}, {\"name\": \"114\", \"x\": 840, \"y\": 100, \"t\": 2, \"phase\": \"\"}, {\"name\": \"115\", \"x\": 840, \"y\": 80, \"t\": 1, \"phase\": \"\"}, {\"name\": \"116\", \"x\": 860, \"y\": 40, \"t\": 2, \"phase\": \"\"}, {\"name\": \"117\", \"x\": 860, \"y\": 80, \"t\": 1, \"phase\": \"\"}, {\"name\": \"118\", \"x\": 880, \"y\": 60, \"t\": 2, \"phase\": \"\"}, {\"name\": \"119\", \"x\": 880, \"y\": 40, \"t\": 1, \"phase\": \"\"}, {\"name\": \"120\", \"x\": 880, \"y\": 120, \"t\": 2, \"phase\": \"\"}, {\"name\": \"121\", \"x\": 880, \"y\": 80, \"t\": 1, \"phase\": \"\"}, {\"name\": \"122\", \"x\": 900, \"y\": 120, \"t\": 2, \"phase\": \"\"}, {\"name\": \"123\", \"x\": 900, \"y\": 60, \"t\": 1, \"phase\": \"\"}, {\"name\": \"124\", \"x\": 920, \"y\": 60, \"t\": 2, \"phase\": \"\"}, {\"name\": \"125\", \"x\": 920, \"y\": 120, \"t\": 1, \"phase\": \"\"}, {\"name\": \"126\", \"x\": 940, \"y\": 120, \"t\": 2, \"phase\": \"\"}, {\"name\": \"127\", \"x\": 940, \"y\": 60, \"t\": 1, \"phase\": \"\"}, {\"name\": \"128\", \"x\": 960, \"y\": 100, \"t\": 2, \"phase\": \"\"}, {\"name\": \"129\", \"x\": 960, \"y\": 120, \"t\": 1, \"phase\": \"\"}, {\"name\": \"130\", \"x\": 960, \"y\": 80, \"t\": 2, \"phase\": \"\"}, {\"name\": \"131\", \"x\": 960, \"y\": 60, \"t\": 1, \"phase\": \"\"}, {\"name\": \"132\", \"x\": 980, \"y\": 60, \"t\": 2, \"phase\": \"\"}, {\"name\": \"133\", \"x\": 980, \"y\": 80, \"t\": 1, \"phase\": \"\"}, {\"name\": \"134\", \"x\": 1000, \"y\": 100, \"t\": 1, \"phase\": \"\"}, {\"name\": \"135\", \"x\": 1000, \"y\": 80, \"t\": 1, \"phase\": \"\"}, {\"name\": \"136\", \"x\": 1020, \"y\": 80, \"t\": 1, \"phase\": \"\"}, {\"name\": \"137\", \"x\": 1020, \"y\": 60, \"t\": 1, \"phase\": \"\"}, {\"name\": \"138\", \"x\": 1040, \"y\": 80, \"t\": 1, \"phase\": \"\"}, {\"name\": \"139\", \"x\": 1040, \"y\": 40, \"t\": 1, \"phase\": \"\"}, {\"name\": \"140\", \"x\": 980, \"y\": 120, \"t\": 1, \"phase\": \"\"}, {\"name\": \"141\", \"x\": 1040, \"y\": 60, \"t\": 1, \"phase\": \"\"}, {\"name\": \"142\", \"x\": 1060, \"y\": 40, \"t\": 1, \"phase\": \"\"}, {\"name\": \"143\", \"x\": 1020, \"y\": 100, \"t\": 1, \"phase\": \"\"}, {\"name\": \"144\", \"x\": 1000, \"y\": 120, \"t\": 1, \"phase\": \"\\u03c0\"}, {\"name\": \"145\", \"x\": 1020, \"y\": 120, \"t\": 1, \"phase\": \"\"}, {\"name\": \"146\", \"x\": 1040, \"y\": 100, \"t\": 1, \"phase\": \"\\u03c0\"}, {\"name\": \"147\", \"x\": 1060, \"y\": 80, \"t\": 1, \"phase\": \"\\u03c0\"}, {\"name\": \"148\", \"x\": 1080, \"y\": 40, \"t\": 0, \"phase\": \"\"}, {\"name\": \"149\", \"x\": 1080, \"y\": 60, \"t\": 0, \"phase\": \"\"}, {\"name\": \"150\", \"x\": 1080, \"y\": 80, \"t\": 0, \"phase\": \"\"}, {\"name\": \"151\", \"x\": 1080, \"y\": 100, \"t\": 0, \"phase\": \"\"}, {\"name\": \"152\", \"x\": 1080, \"y\": 120, \"t\": 0, \"phase\": \"\"}], \"links\": [{\"source\": \"0\", \"target\": \"12\", \"t\": 1}, {\"source\": \"1\", \"target\": \"6\", \"t\": 1}, {\"source\": \"2\", \"target\": \"19\", \"t\": 2}, {\"source\": \"3\", \"target\": \"11\", \"t\": 1}, {\"source\": \"4\", \"target\": \"5\", \"t\": 1}, {\"source\": \"5\", \"target\": \"6\", \"t\": 1}, {\"source\": \"5\", \"target\": \"8\", \"t\": 1}, {\"source\": \"6\", \"target\": \"7\", \"t\": 1}, {\"source\": \"7\", \"target\": \"8\", \"t\": 1}, {\"source\": \"7\", \"target\": \"10\", \"t\": 1}, {\"source\": \"8\", \"target\": \"9\", \"t\": 1}, {\"source\": \"9\", \"target\": \"10\", \"t\": 1}, {\"source\": \"9\", \"target\": \"17\", \"t\": 2}, {\"source\": \"10\", \"target\": \"21\", \"t\": 2}, {\"source\": \"11\", \"target\": \"12\", \"t\": 1}, {\"source\": \"11\", \"target\": \"14\", \"t\": 1}, {\"source\": \"12\", \"target\": \"13\", \"t\": 1}, {\"source\": \"13\", \"target\": \"14\", \"t\": 1}, {\"source\": \"13\", \"target\": \"16\", \"t\": 1}, {\"source\": \"14\", \"target\": \"15\", \"t\": 1}, {\"source\": \"15\", \"target\": \"16\", \"t\": 1}, {\"source\": \"15\", \"target\": \"18\", \"t\": 2}, {\"source\": \"16\", \"target\": \"20\", \"t\": 2}, {\"source\": \"17\", \"target\": \"24\", \"t\": 2}, {\"source\": \"18\", \"target\": \"25\", \"t\": 2}, {\"source\": \"19\", \"target\": \"23\", \"t\": 2}, {\"source\": \"20\", \"target\": \"22\", \"t\": 2}, {\"source\": \"21\", \"target\": \"36\", \"t\": 1}, {\"source\": \"22\", \"target\": \"32\", \"t\": 1}, {\"source\": \"23\", \"target\": \"28\", \"t\": 1}, {\"source\": \"24\", \"target\": \"26\", \"t\": 1}, {\"source\": \"25\", \"target\": \"27\", \"t\": 1}, {\"source\": \"26\", \"target\": \"27\", \"t\": 1}, {\"source\": \"26\", \"target\": \"29\", \"t\": 1}, {\"source\": \"27\", \"target\": \"31\", \"t\": 1}, {\"source\": \"28\", \"target\": \"29\", \"t\": 1}, {\"source\": \"28\", \"target\": \"30\", \"t\": 1}, {\"source\": \"29\", \"target\": \"41\", \"t\": 1}, {\"source\": \"30\", \"target\": \"31\", \"t\": 1}, {\"source\": \"30\", \"target\": \"33\", \"t\": 1}, {\"source\": \"31\", \"target\": \"35\", \"t\": 1}, {\"source\": \"32\", \"target\": \"33\", \"t\": 1}, {\"source\": \"32\", \"target\": \"34\", \"t\": 1}, {\"source\": \"33\", \"target\": \"39\", \"t\": 1}, {\"source\": \"34\", \"target\": \"35\", \"t\": 1}, {\"source\": \"34\", \"target\": \"37\", \"t\": 1}, {\"source\": \"35\", \"target\": \"54\", \"t\": 1}, {\"source\": \"36\", \"target\": \"37\", \"t\": 1}, {\"source\": \"36\", \"target\": \"38\", \"t\": 1}, {\"source\": \"37\", \"target\": \"42\", \"t\": 1}, {\"source\": \"38\", \"target\": \"39\", \"t\": 1}, {\"source\": \"38\", \"target\": \"40\", \"t\": 1}, {\"source\": \"39\", \"target\": \"46\", \"t\": 1}, {\"source\": \"40\", \"target\": \"41\", \"t\": 1}, {\"source\": \"40\", \"target\": \"43\", \"t\": 1}, {\"source\": \"41\", \"target\": \"50\", \"t\": 1}, {\"source\": \"42\", \"target\": \"43\", \"t\": 1}, {\"source\": \"42\", \"target\": \"45\", \"t\": 1}, {\"source\": \"43\", \"target\": \"44\", \"t\": 1}, {\"source\": \"44\", \"target\": \"45\", \"t\": 1}, {\"source\": \"44\", \"target\": \"47\", \"t\": 1}, {\"source\": \"45\", \"target\": \"51\", \"t\": 1}, {\"source\": \"46\", \"target\": \"47\", \"t\": 1}, {\"source\": \"46\", \"target\": \"49\", \"t\": 1}, {\"source\": \"47\", \"target\": \"48\", \"t\": 1}, {\"source\": \"48\", \"target\": \"49\", \"t\": 1}, {\"source\": \"48\", \"target\": \"55\", \"t\": 1}, {\"source\": \"49\", \"target\": \"60\", \"t\": 1}, {\"source\": \"50\", \"target\": \"51\", \"t\": 1}, {\"source\": \"50\", \"target\": \"53\", \"t\": 1}, {\"source\": \"51\", \"target\": \"52\", \"t\": 1}, {\"source\": \"52\", \"target\": \"53\", \"t\": 1}, {\"source\": \"52\", \"target\": \"57\", \"t\": 1}, {\"source\": \"53\", \"target\": \"61\", \"t\": 1}, {\"source\": \"54\", \"target\": \"55\", \"t\": 1}, {\"source\": \"54\", \"target\": \"56\", \"t\": 1}, {\"source\": \"55\", \"target\": \"58\", \"t\": 1}, {\"source\": \"56\", \"target\": \"57\", \"t\": 1}, {\"source\": \"56\", \"target\": \"74\", \"t\": 1}, {\"source\": \"57\", \"target\": \"59\", \"t\": 1}, {\"source\": \"58\", \"target\": \"62\", \"t\": 2}, {\"source\": \"59\", \"target\": \"63\", \"t\": 2}, {\"source\": \"60\", \"target\": \"64\", \"t\": 2}, {\"source\": \"61\", \"target\": \"65\", \"t\": 2}, {\"source\": \"62\", \"target\": \"70\", \"t\": 1}, {\"source\": \"63\", \"target\": \"66\", \"t\": 1}, {\"source\": \"64\", \"target\": \"67\", \"t\": 1}, {\"source\": \"65\", \"target\": \"69\", \"t\": 1}, {\"source\": \"66\", \"target\": \"67\", \"t\": 1}, {\"source\": \"66\", \"target\": \"68\", \"t\": 1}, {\"source\": \"67\", \"target\": \"86\", \"t\": 1}, {\"source\": \"68\", \"target\": \"69\", \"t\": 1}, {\"source\": \"68\", \"target\": \"71\", \"t\": 1}, {\"source\": \"69\", \"target\": \"73\", \"t\": 1}, {\"source\": \"70\", \"target\": \"71\", \"t\": 1}, {\"source\": \"70\", \"target\": \"72\", \"t\": 1}, {\"source\": \"71\", \"target\": \"82\", \"t\": 1}, {\"source\": \"72\", \"target\": \"73\", \"t\": 1}, {\"source\": \"72\", \"target\": \"77\", \"t\": 1}, {\"source\": \"73\", \"target\": \"75\", \"t\": 1}, {\"source\": \"74\", \"target\": \"75\", \"t\": 1}, {\"source\": \"74\", \"target\": \"76\", \"t\": 1}, {\"source\": \"75\", \"target\": \"94\", \"t\": 1}, {\"source\": \"76\", \"target\": \"77\", \"t\": 1}, {\"source\": \"76\", \"target\": \"79\", \"t\": 1}, {\"source\": \"77\", \"target\": \"78\", \"t\": 1}, {\"source\": \"78\", \"target\": \"79\", \"t\": 1}, {\"source\": \"78\", \"target\": \"81\", \"t\": 1}, {\"source\": \"79\", \"target\": \"80\", \"t\": 1}, {\"source\": \"80\", \"target\": \"81\", \"t\": 1}, {\"source\": \"80\", \"target\": \"87\", \"t\": 1}, {\"source\": \"81\", \"target\": \"83\", \"t\": 1}, {\"source\": \"82\", \"target\": \"83\", \"t\": 1}, {\"source\": \"82\", \"target\": \"85\", \"t\": 1}, {\"source\": \"83\", \"target\": \"84\", \"t\": 1}, {\"source\": \"84\", \"target\": \"85\", \"t\": 1}, {\"source\": \"84\", \"target\": \"89\", \"t\": 1}, {\"source\": \"85\", \"target\": \"91\", \"t\": 1}, {\"source\": \"86\", \"target\": \"87\", \"t\": 1}, {\"source\": \"86\", \"target\": \"88\", \"t\": 1}, {\"source\": \"87\", \"target\": \"102\", \"t\": 2}, {\"source\": \"88\", \"target\": \"89\", \"t\": 1}, {\"source\": \"88\", \"target\": \"90\", \"t\": 1}, {\"source\": \"89\", \"target\": \"95\", \"t\": 1}, {\"source\": \"90\", \"target\": \"91\", \"t\": 1}, {\"source\": \"90\", \"target\": \"93\", \"t\": 1}, {\"source\": \"91\", \"target\": \"92\", \"t\": 1}, {\"source\": \"92\", \"target\": \"93\", \"t\": 1}, {\"source\": \"92\", \"target\": \"97\", \"t\": 1}, {\"source\": \"93\", \"target\": \"99\", \"t\": 1}, {\"source\": \"94\", \"target\": \"95\", \"t\": 1}, {\"source\": \"94\", \"target\": \"96\", \"t\": 1}, {\"source\": \"95\", \"target\": \"103\", \"t\": 2}, {\"source\": \"96\", \"target\": \"97\", \"t\": 1}, {\"source\": \"96\", \"target\": \"98\", \"t\": 1}, {\"source\": \"97\", \"target\": \"104\", \"t\": 2}, {\"source\": \"98\", \"target\": \"99\", \"t\": 1}, {\"source\": \"98\", \"target\": \"101\", \"t\": 1}, {\"source\": \"99\", \"target\": \"100\", \"t\": 1}, {\"source\": \"100\", \"target\": \"101\", \"t\": 1}, {\"source\": \"100\", \"target\": \"105\", \"t\": 2}, {\"source\": \"101\", \"target\": \"120\", \"t\": 1}, {\"source\": \"102\", \"target\": \"108\", \"t\": 1}, {\"source\": \"103\", \"target\": \"106\", \"t\": 1}, {\"source\": \"104\", \"target\": \"107\", \"t\": 1}, {\"source\": \"105\", \"target\": \"109\", \"t\": 1}, {\"source\": \"106\", \"target\": \"110\", \"t\": 2}, {\"source\": \"107\", \"target\": \"111\", \"t\": 2}, {\"source\": \"108\", \"target\": \"112\", \"t\": 2}, {\"source\": \"109\", \"target\": \"113\", \"t\": 2}, {\"source\": \"110\", \"target\": \"118\", \"t\": 1}, {\"source\": \"111\", \"target\": \"116\", \"t\": 1}, {\"source\": \"112\", \"target\": \"114\", \"t\": 1}, {\"source\": \"113\", \"target\": \"115\", \"t\": 1}, {\"source\": \"114\", \"target\": \"115\", \"t\": 1}, {\"source\": \"114\", \"target\": \"128\", \"t\": 1}, {\"source\": \"115\", \"target\": \"117\", \"t\": 1}, {\"source\": \"116\", \"target\": \"117\", \"t\": 1}, {\"source\": \"116\", \"target\": \"119\", \"t\": 1}, {\"source\": \"117\", \"target\": \"121\", \"t\": 1}, {\"source\": \"118\", \"target\": \"119\", \"t\": 1}, {\"source\": \"118\", \"target\": \"123\", \"t\": 1}, {\"source\": \"119\", \"target\": \"139\", \"t\": 1}, {\"source\": \"120\", \"target\": \"121\", \"t\": 1}, {\"source\": \"120\", \"target\": \"122\", \"t\": 1}, {\"source\": \"121\", \"target\": \"130\", \"t\": 1}, {\"source\": \"122\", \"target\": \"123\", \"t\": 1}, {\"source\": \"122\", \"target\": \"125\", \"t\": 1}, {\"source\": \"123\", \"target\": \"124\", \"t\": 1}, {\"source\": \"124\", \"target\": \"125\", \"t\": 1}, {\"source\": \"124\", \"target\": \"127\", \"t\": 1}, {\"source\": \"125\", \"target\": \"126\", \"t\": 1}, {\"source\": \"126\", \"target\": \"127\", \"t\": 1}, {\"source\": \"126\", \"target\": \"129\", \"t\": 1}, {\"source\": \"127\", \"target\": \"131\", \"t\": 1}, {\"source\": \"128\", \"target\": \"129\", \"t\": 1}, {\"source\": \"128\", \"target\": \"134\", \"t\": 1}, {\"source\": \"129\", \"target\": \"140\", \"t\": 2}, {\"source\": \"130\", \"target\": \"131\", \"t\": 1}, {\"source\": \"130\", \"target\": \"133\", \"t\": 1}, {\"source\": \"131\", \"target\": \"132\", \"t\": 1}, {\"source\": \"132\", \"target\": \"133\", \"t\": 1}, {\"source\": \"132\", \"target\": \"137\", \"t\": 1}, {\"source\": \"133\", \"target\": \"135\", \"t\": 1}, {\"source\": \"134\", \"target\": \"135\", \"t\": 2}, {\"source\": \"134\", \"target\": \"143\", \"t\": 2}, {\"source\": \"135\", \"target\": \"136\", \"t\": 1}, {\"source\": \"136\", \"target\": \"137\", \"t\": 2}, {\"source\": \"136\", \"target\": \"138\", \"t\": 1}, {\"source\": \"137\", \"target\": \"141\", \"t\": 2}, {\"source\": \"138\", \"target\": \"139\", \"t\": 2}, {\"source\": \"138\", \"target\": \"147\", \"t\": 1}, {\"source\": \"139\", \"target\": \"142\", \"t\": 2}, {\"source\": \"140\", \"target\": \"144\", \"t\": 1}, {\"source\": \"141\", \"target\": \"149\", \"t\": 1}, {\"source\": \"142\", \"target\": \"148\", \"t\": 1}, {\"source\": \"143\", \"target\": \"146\", \"t\": 1}, {\"source\": \"144\", \"target\": \"145\", \"t\": 2}, {\"source\": \"145\", \"target\": \"152\", \"t\": 1}, {\"source\": \"146\", \"target\": \"151\", \"t\": 1}, {\"source\": \"147\", \"target\": \"150\", \"t\": 1}]}'), 1100, 160, 4.0);\n",
       "        });\n",
       "        </script>\n",
       "        "
      ],
      "text/plain": [
       "<IPython.core.display.HTML object>"
      ]
     },
     "metadata": {},
     "output_type": "display_data"
    },
    {
     "data": {
      "text/html": [
       "\n",
       "        <div style=\"overflow:auto\" id=\"graph-output-334\"></div>\n",
       "        <script type=\"text/javascript\">\n",
       "        require.config({ baseUrl: \"../js\",\n",
       "                         paths: {d3: \"d3.v4.min\"} });\n",
       "        require(['pyzx'], function(pyzx) {\n",
       "            pyzx.showGraph('#graph-output-334',\n",
       "            JSON.parse('{\"nodes\": [{\"name\": \"0\", \"x\": 22.22222222222222, \"y\": 44.44444444444444, \"t\": 0, \"phase\": \"\"}, {\"name\": \"1\", \"x\": 22.22222222222222, \"y\": 66.66666666666666, \"t\": 0, \"phase\": \"\"}, {\"name\": \"2\", \"x\": 22.22222222222222, \"y\": 88.88888888888889, \"t\": 0, \"phase\": \"\"}, {\"name\": \"3\", \"x\": 22.22222222222222, \"y\": 111.11111111111111, \"t\": 0, \"phase\": \"\"}, {\"name\": \"4\", \"x\": 22.22222222222222, \"y\": 133.33333333333331, \"t\": 0, \"phase\": \"\"}, {\"name\": \"5\", \"x\": 44.44444444444444, \"y\": 66.66666666666666, \"t\": 2, \"phase\": \"\"}, {\"name\": \"6\", \"x\": 44.44444444444444, \"y\": 44.44444444444444, \"t\": 1, \"phase\": \"\"}, {\"name\": \"7\", \"x\": 66.66666666666666, \"y\": 66.66666666666666, \"t\": 1, \"phase\": \"7\\u03c0/4\"}, {\"name\": \"8\", \"x\": 88.88888888888889, \"y\": 88.88888888888889, \"t\": 2, \"phase\": \"\"}, {\"name\": \"9\", \"x\": 88.88888888888889, \"y\": 66.66666666666666, \"t\": 1, \"phase\": \"\"}, {\"name\": \"10\", \"x\": 111.11111111111111, \"y\": 88.88888888888889, \"t\": 2, \"phase\": \"\"}, {\"name\": \"11\", \"x\": 111.11111111111111, \"y\": 44.44444444444444, \"t\": 1, \"phase\": \"\"}, {\"name\": \"12\", \"x\": 133.33333333333331, \"y\": 88.88888888888889, \"t\": 1, \"phase\": \"7\\u03c0/4\"}, {\"name\": \"13\", \"x\": 133.33333333333331, \"y\": 111.11111111111111, \"t\": 2, \"phase\": \"\"}, {\"name\": \"14\", \"x\": 133.33333333333331, \"y\": 44.44444444444444, \"t\": 1, \"phase\": \"\"}, {\"name\": \"15\", \"x\": 155.55555555555554, \"y\": 111.11111111111111, \"t\": 1, \"phase\": \"7\\u03c0/4\"}, {\"name\": \"16\", \"x\": 177.77777777777777, \"y\": 111.11111111111111, \"t\": 2, \"phase\": \"\"}, {\"name\": \"17\", \"x\": 177.77777777777777, \"y\": 66.66666666666666, \"t\": 1, \"phase\": \"\"}, {\"name\": \"18\", \"x\": 155.55555555555554, \"y\": 133.33333333333331, \"t\": 1, \"phase\": \"\"}, {\"name\": \"19\", \"x\": 155.55555555555554, \"y\": 88.88888888888889, \"t\": 1, \"phase\": \"\"}, {\"name\": \"20\", \"x\": 177.77777777777777, \"y\": 133.33333333333331, \"t\": 1, \"phase\": \"\"}, {\"name\": \"21\", \"x\": 200.0, \"y\": 133.33333333333331, \"t\": 1, \"phase\": \"\\u03c0/4\"}, {\"name\": \"22\", \"x\": 222.22222222222223, \"y\": 133.33333333333331, \"t\": 2, \"phase\": \"\"}, {\"name\": \"23\", \"x\": 222.22222222222223, \"y\": 66.66666666666666, \"t\": 1, \"phase\": \"\"}, {\"name\": \"24\", \"x\": 244.44444444444443, \"y\": 133.33333333333331, \"t\": 2, \"phase\": \"\"}, {\"name\": \"25\", \"x\": 244.44444444444443, \"y\": 88.88888888888889, \"t\": 1, \"phase\": \"\"}, {\"name\": \"26\", \"x\": 266.66666666666663, \"y\": 133.33333333333331, \"t\": 1, \"phase\": \"\"}, {\"name\": \"27\", \"x\": 244.44444444444443, \"y\": 44.44444444444444, \"t\": 2, \"phase\": \"\"}, {\"name\": \"28\", \"x\": 244.44444444444443, \"y\": 66.66666666666666, \"t\": 1, \"phase\": \"\"}, {\"name\": \"29\", \"x\": 266.66666666666663, \"y\": 66.66666666666666, \"t\": 2, \"phase\": \"\"}, {\"name\": \"30\", \"x\": 266.66666666666663, \"y\": 88.88888888888889, \"t\": 1, \"phase\": \"\"}, {\"name\": \"31\", \"x\": 288.88888888888886, \"y\": 44.44444444444444, \"t\": 2, \"phase\": \"\"}, {\"name\": \"32\", \"x\": 288.88888888888886, \"y\": 88.88888888888889, \"t\": 1, \"phase\": \"\"}, {\"name\": \"33\", \"x\": 311.1111111111111, \"y\": 88.88888888888889, \"t\": 2, \"phase\": \"\"}, {\"name\": \"34\", \"x\": 311.1111111111111, \"y\": 111.11111111111111, \"t\": 1, \"phase\": \"\"}, {\"name\": \"35\", \"x\": 333.3333333333333, \"y\": 66.66666666666666, \"t\": 2, \"phase\": \"\"}, {\"name\": \"36\", \"x\": 333.3333333333333, \"y\": 111.11111111111111, \"t\": 1, \"phase\": \"\"}, {\"name\": \"37\", \"x\": 355.55555555555554, \"y\": 111.11111111111111, \"t\": 1, \"phase\": \"\"}, {\"name\": \"38\", \"x\": 377.77777777777777, \"y\": 44.44444444444444, \"t\": 2, \"phase\": \"\"}, {\"name\": \"39\", \"x\": 377.77777777777777, \"y\": 111.11111111111111, \"t\": 1, \"phase\": \"\"}, {\"name\": \"40\", \"x\": 400.0, \"y\": 44.44444444444444, \"t\": 2, \"phase\": \"\"}, {\"name\": \"41\", \"x\": 400.0, \"y\": 133.33333333333331, \"t\": 1, \"phase\": \"\"}, {\"name\": \"42\", \"x\": 422.22222222222223, \"y\": 133.33333333333331, \"t\": 2, \"phase\": \"\"}, {\"name\": \"43\", \"x\": 422.22222222222223, \"y\": 111.11111111111111, \"t\": 1, \"phase\": \"\"}, {\"name\": \"44\", \"x\": 355.55555555555554, \"y\": 66.66666666666666, \"t\": 1, \"phase\": \"\"}, {\"name\": \"45\", \"x\": 422.22222222222223, \"y\": 44.44444444444444, \"t\": 2, \"phase\": \"\"}, {\"name\": \"46\", \"x\": 422.22222222222223, \"y\": 66.66666666666666, \"t\": 1, \"phase\": \"\"}, {\"name\": \"47\", \"x\": 333.3333333333333, \"y\": 88.88888888888889, \"t\": 1, \"phase\": \"7\\u03c0/4\"}, {\"name\": \"48\", \"x\": 444.44444444444446, \"y\": 111.11111111111111, \"t\": 1, \"phase\": \"\"}, {\"name\": \"49\", \"x\": 466.66666666666663, \"y\": 111.11111111111111, \"t\": 1, \"phase\": \"\\u03c0/4\"}, {\"name\": \"50\", \"x\": 444.44444444444446, \"y\": 133.33333333333331, \"t\": 2, \"phase\": \"\"}, {\"name\": \"51\", \"x\": 444.44444444444446, \"y\": 66.66666666666666, \"t\": 1, \"phase\": \"\"}, {\"name\": \"52\", \"x\": 466.66666666666663, \"y\": 44.44444444444444, \"t\": 2, \"phase\": \"\"}, {\"name\": \"53\", \"x\": 466.66666666666663, \"y\": 133.33333333333331, \"t\": 1, \"phase\": \"\"}, {\"name\": \"54\", \"x\": 488.88888888888886, \"y\": 133.33333333333331, \"t\": 1, \"phase\": \"\"}, {\"name\": \"55\", \"x\": 511.1111111111111, \"y\": 133.33333333333331, \"t\": 1, \"phase\": \"\\u03c0/4\"}, {\"name\": \"56\", \"x\": 533.3333333333333, \"y\": 133.33333333333331, \"t\": 2, \"phase\": \"\"}, {\"name\": \"57\", \"x\": 533.3333333333333, \"y\": 111.11111111111111, \"t\": 1, \"phase\": \"\"}, {\"name\": \"58\", \"x\": 555.5555555555555, \"y\": 133.33333333333331, \"t\": 2, \"phase\": \"\"}, {\"name\": \"59\", \"x\": 555.5555555555555, \"y\": 88.88888888888889, \"t\": 1, \"phase\": \"\"}, {\"name\": \"60\", \"x\": 466.66666666666663, \"y\": 66.66666666666666, \"t\": 1, \"phase\": \"\"}, {\"name\": \"61\", \"x\": 488.88888888888886, \"y\": 66.66666666666666, \"t\": 1, \"phase\": \"\\u03c0/4\"}, {\"name\": \"62\", \"x\": 555.5555555555555, \"y\": 111.11111111111111, \"t\": 2, \"phase\": \"\"}, {\"name\": \"63\", \"x\": 555.5555555555555, \"y\": 66.66666666666666, \"t\": 1, \"phase\": \"\"}, {\"name\": \"64\", \"x\": 577.7777777777777, \"y\": 111.11111111111111, \"t\": 2, \"phase\": \"\"}, {\"name\": \"65\", \"x\": 577.7777777777777, \"y\": 44.44444444444444, \"t\": 1, \"phase\": \"\"}, {\"name\": \"66\", \"x\": 600.0, \"y\": 133.33333333333331, \"t\": 2, \"phase\": \"\"}, {\"name\": \"67\", \"x\": 600.0, \"y\": 44.44444444444444, \"t\": 1, \"phase\": \"\"}, {\"name\": \"68\", \"x\": 577.7777777777777, \"y\": 66.66666666666666, \"t\": 2, \"phase\": \"\"}, {\"name\": \"69\", \"x\": 577.7777777777777, \"y\": 88.88888888888889, \"t\": 1, \"phase\": \"\"}, {\"name\": \"70\", \"x\": 622.2222222222222, \"y\": 88.88888888888889, \"t\": 2, \"phase\": \"\"}, {\"name\": \"71\", \"x\": 622.2222222222222, \"y\": 44.44444444444444, \"t\": 1, \"phase\": \"\"}, {\"name\": \"72\", \"x\": 600.0, \"y\": 66.66666666666666, \"t\": 1, \"phase\": \"\"}, {\"name\": \"73\", \"x\": 644.4444444444445, \"y\": 111.11111111111111, \"t\": 2, \"phase\": \"\"}, {\"name\": \"74\", \"x\": 644.4444444444445, \"y\": 44.44444444444444, \"t\": 1, \"phase\": \"\"}, {\"name\": \"75\", \"x\": 666.6666666666666, \"y\": 44.44444444444444, \"t\": 2, \"phase\": \"\"}, {\"name\": \"76\", \"x\": 666.6666666666666, \"y\": 111.11111111111111, \"t\": 1, \"phase\": \"\"}, {\"name\": \"77\", \"x\": 688.8888888888889, \"y\": 111.11111111111111, \"t\": 2, \"phase\": \"\"}, {\"name\": \"78\", \"x\": 688.8888888888889, \"y\": 44.44444444444444, \"t\": 1, \"phase\": \"\"}, {\"name\": \"79\", \"x\": 622.2222222222222, \"y\": 133.33333333333331, \"t\": 2, \"phase\": \"\"}, {\"name\": \"80\", \"x\": 622.2222222222222, \"y\": 66.66666666666666, \"t\": 1, \"phase\": \"\"}, {\"name\": \"81\", \"x\": 644.4444444444445, \"y\": 66.66666666666666, \"t\": 2, \"phase\": \"\"}, {\"name\": \"82\", \"x\": 644.4444444444445, \"y\": 133.33333333333331, \"t\": 1, \"phase\": \"\"}, {\"name\": \"83\", \"x\": 666.6666666666666, \"y\": 133.33333333333331, \"t\": 2, \"phase\": \"\"}, {\"name\": \"84\", \"x\": 666.6666666666666, \"y\": 66.66666666666666, \"t\": 1, \"phase\": \"\"}, {\"name\": \"85\", \"x\": 711.1111111111111, \"y\": 111.11111111111111, \"t\": 2, \"phase\": \"\"}, {\"name\": \"86\", \"x\": 711.1111111111111, \"y\": 88.88888888888889, \"t\": 1, \"phase\": \"\"}, {\"name\": \"87\", \"x\": 733.3333333333333, \"y\": 88.88888888888889, \"t\": 2, \"phase\": \"\"}, {\"name\": \"88\", \"x\": 733.3333333333333, \"y\": 111.11111111111111, \"t\": 1, \"phase\": \"\"}, {\"name\": \"89\", \"x\": 755.5555555555555, \"y\": 111.11111111111111, \"t\": 2, \"phase\": \"\"}, {\"name\": \"90\", \"x\": 755.5555555555555, \"y\": 88.88888888888889, \"t\": 1, \"phase\": \"\"}, {\"name\": \"91\", \"x\": 777.7777777777777, \"y\": 44.44444444444444, \"t\": 0, \"phase\": \"\"}, {\"name\": \"92\", \"x\": 777.7777777777777, \"y\": 66.66666666666666, \"t\": 0, \"phase\": \"\"}, {\"name\": \"93\", \"x\": 777.7777777777777, \"y\": 88.88888888888889, \"t\": 0, \"phase\": \"\"}, {\"name\": \"94\", \"x\": 777.7777777777777, \"y\": 111.11111111111111, \"t\": 0, \"phase\": \"\"}, {\"name\": \"95\", \"x\": 777.7777777777777, \"y\": 133.33333333333331, \"t\": 0, \"phase\": \"\"}], \"links\": [{\"source\": \"0\", \"target\": \"6\", \"t\": 1}, {\"source\": \"1\", \"target\": \"5\", \"t\": 1}, {\"source\": \"2\", \"target\": \"8\", \"t\": 1}, {\"source\": \"3\", \"target\": \"13\", \"t\": 1}, {\"source\": \"4\", \"target\": \"18\", \"t\": 1}, {\"source\": \"5\", \"target\": \"6\", \"t\": 1}, {\"source\": \"5\", \"target\": \"7\", \"t\": 1}, {\"source\": \"6\", \"target\": \"11\", \"t\": 1}, {\"source\": \"7\", \"target\": \"9\", \"t\": 1}, {\"source\": \"8\", \"target\": \"9\", \"t\": 1}, {\"source\": \"8\", \"target\": \"10\", \"t\": 1}, {\"source\": \"9\", \"target\": \"17\", \"t\": 1}, {\"source\": \"10\", \"target\": \"11\", \"t\": 1}, {\"source\": \"10\", \"target\": \"12\", \"t\": 1}, {\"source\": \"11\", \"target\": \"14\", \"t\": 1}, {\"source\": \"12\", \"target\": \"19\", \"t\": 1}, {\"source\": \"13\", \"target\": \"14\", \"t\": 1}, {\"source\": \"13\", \"target\": \"15\", \"t\": 1}, {\"source\": \"14\", \"target\": \"27\", \"t\": 1}, {\"source\": \"15\", \"target\": \"16\", \"t\": 1}, {\"source\": \"16\", \"target\": \"17\", \"t\": 1}, {\"source\": \"16\", \"target\": \"34\", \"t\": 1}, {\"source\": \"17\", \"target\": \"23\", \"t\": 1}, {\"source\": \"18\", \"target\": \"19\", \"t\": 2}, {\"source\": \"18\", \"target\": \"20\", \"t\": 2}, {\"source\": \"19\", \"target\": \"25\", \"t\": 1}, {\"source\": \"20\", \"target\": \"21\", \"t\": 1}, {\"source\": \"21\", \"target\": \"22\", \"t\": 1}, {\"source\": \"22\", \"target\": \"23\", \"t\": 1}, {\"source\": \"22\", \"target\": \"24\", \"t\": 1}, {\"source\": \"23\", \"target\": \"28\", \"t\": 1}, {\"source\": \"24\", \"target\": \"25\", \"t\": 1}, {\"source\": \"24\", \"target\": \"26\", \"t\": 2}, {\"source\": \"25\", \"target\": \"30\", \"t\": 1}, {\"source\": \"26\", \"target\": \"41\", \"t\": 1}, {\"source\": \"27\", \"target\": \"28\", \"t\": 1}, {\"source\": \"27\", \"target\": \"31\", \"t\": 1}, {\"source\": \"28\", \"target\": \"29\", \"t\": 1}, {\"source\": \"29\", \"target\": \"30\", \"t\": 1}, {\"source\": \"29\", \"target\": \"35\", \"t\": 1}, {\"source\": \"30\", \"target\": \"32\", \"t\": 1}, {\"source\": \"31\", \"target\": \"32\", \"t\": 1}, {\"source\": \"31\", \"target\": \"38\", \"t\": 1}, {\"source\": \"32\", \"target\": \"33\", \"t\": 1}, {\"source\": \"33\", \"target\": \"34\", \"t\": 1}, {\"source\": \"33\", \"target\": \"47\", \"t\": 1}, {\"source\": \"34\", \"target\": \"36\", \"t\": 1}, {\"source\": \"35\", \"target\": \"36\", \"t\": 1}, {\"source\": \"35\", \"target\": \"44\", \"t\": 2}, {\"source\": \"36\", \"target\": \"37\", \"t\": 2}, {\"source\": \"37\", \"target\": \"39\", \"t\": 1}, {\"source\": \"38\", \"target\": \"39\", \"t\": 1}, {\"source\": \"38\", \"target\": \"40\", \"t\": 1}, {\"source\": \"39\", \"target\": \"43\", \"t\": 1}, {\"source\": \"40\", \"target\": \"41\", \"t\": 1}, {\"source\": \"40\", \"target\": \"45\", \"t\": 1}, {\"source\": \"41\", \"target\": \"42\", \"t\": 1}, {\"source\": \"42\", \"target\": \"43\", \"t\": 1}, {\"source\": \"42\", \"target\": \"50\", \"t\": 1}, {\"source\": \"43\", \"target\": \"48\", \"t\": 2}, {\"source\": \"44\", \"target\": \"46\", \"t\": 1}, {\"source\": \"45\", \"target\": \"46\", \"t\": 1}, {\"source\": \"45\", \"target\": \"52\", \"t\": 1}, {\"source\": \"46\", \"target\": \"51\", \"t\": 1}, {\"source\": \"47\", \"target\": \"59\", \"t\": 1}, {\"source\": \"48\", \"target\": \"49\", \"t\": 1}, {\"source\": \"49\", \"target\": \"57\", \"t\": 1}, {\"source\": \"50\", \"target\": \"51\", \"t\": 1}, {\"source\": \"50\", \"target\": \"53\", \"t\": 1}, {\"source\": \"51\", \"target\": \"60\", \"t\": 2}, {\"source\": \"52\", \"target\": \"53\", \"t\": 1}, {\"source\": \"52\", \"target\": \"65\", \"t\": 1}, {\"source\": \"53\", \"target\": \"54\", \"t\": 2}, {\"source\": \"54\", \"target\": \"55\", \"t\": 1}, {\"source\": \"55\", \"target\": \"56\", \"t\": 1}, {\"source\": \"56\", \"target\": \"57\", \"t\": 1}, {\"source\": \"56\", \"target\": \"58\", \"t\": 1}, {\"source\": \"57\", \"target\": \"62\", \"t\": 1}, {\"source\": \"58\", \"target\": \"59\", \"t\": 1}, {\"source\": \"58\", \"target\": \"66\", \"t\": 1}, {\"source\": \"59\", \"target\": \"69\", \"t\": 1}, {\"source\": \"60\", \"target\": \"61\", \"t\": 1}, {\"source\": \"61\", \"target\": \"63\", \"t\": 1}, {\"source\": \"62\", \"target\": \"63\", \"t\": 1}, {\"source\": \"62\", \"target\": \"64\", \"t\": 1}, {\"source\": \"63\", \"target\": \"68\", \"t\": 1}, {\"source\": \"64\", \"target\": \"65\", \"t\": 1}, {\"source\": \"64\", \"target\": \"73\", \"t\": 1}, {\"source\": \"65\", \"target\": \"67\", \"t\": 1}, {\"source\": \"66\", \"target\": \"67\", \"t\": 1}, {\"source\": \"66\", \"target\": \"79\", \"t\": 1}, {\"source\": \"67\", \"target\": \"71\", \"t\": 1}, {\"source\": \"68\", \"target\": \"69\", \"t\": 1}, {\"source\": \"68\", \"target\": \"72\", \"t\": 2}, {\"source\": \"69\", \"target\": \"70\", \"t\": 1}, {\"source\": \"70\", \"target\": \"71\", \"t\": 1}, {\"source\": \"70\", \"target\": \"86\", \"t\": 1}, {\"source\": \"71\", \"target\": \"74\", \"t\": 1}, {\"source\": \"72\", \"target\": \"80\", \"t\": 1}, {\"source\": \"73\", \"target\": \"74\", \"t\": 1}, {\"source\": \"73\", \"target\": \"76\", \"t\": 1}, {\"source\": \"74\", \"target\": \"75\", \"t\": 1}, {\"source\": \"75\", \"target\": \"76\", \"t\": 1}, {\"source\": \"75\", \"target\": \"78\", \"t\": 1}, {\"source\": \"76\", \"target\": \"77\", \"t\": 1}, {\"source\": \"77\", \"target\": \"78\", \"t\": 1}, {\"source\": \"77\", \"target\": \"85\", \"t\": 1}, {\"source\": \"78\", \"target\": \"91\", \"t\": 1}, {\"source\": \"79\", \"target\": \"80\", \"t\": 1}, {\"source\": \"79\", \"target\": \"82\", \"t\": 1}, {\"source\": \"80\", \"target\": \"81\", \"t\": 1}, {\"source\": \"81\", \"target\": \"82\", \"t\": 1}, {\"source\": \"81\", \"target\": \"84\", \"t\": 1}, {\"source\": \"82\", \"target\": \"83\", \"t\": 1}, {\"source\": \"83\", \"target\": \"84\", \"t\": 1}, {\"source\": \"83\", \"target\": \"95\", \"t\": 1}, {\"source\": \"84\", \"target\": \"92\", \"t\": 1}, {\"source\": \"85\", \"target\": \"86\", \"t\": 1}, {\"source\": \"85\", \"target\": \"88\", \"t\": 1}, {\"source\": \"86\", \"target\": \"87\", \"t\": 1}, {\"source\": \"87\", \"target\": \"88\", \"t\": 1}, {\"source\": \"87\", \"target\": \"90\", \"t\": 1}, {\"source\": \"88\", \"target\": \"89\", \"t\": 1}, {\"source\": \"89\", \"target\": \"90\", \"t\": 1}, {\"source\": \"89\", \"target\": \"94\", \"t\": 1}, {\"source\": \"90\", \"target\": \"93\", \"t\": 1}]}'), 800.0, 177.77777777777777, 4.444444444444445);\n",
       "        });\n",
       "        </script>\n",
       "        "
      ],
      "text/plain": [
       "<IPython.core.display.HTML object>"
      ]
     },
     "metadata": {},
     "output_type": "display_data"
    },
    {
     "data": {
      "text/html": [
       "\n",
       "        <div style=\"overflow:auto\" id=\"graph-output-335\"></div>\n",
       "        <script type=\"text/javascript\">\n",
       "        require.config({ baseUrl: \"../js\",\n",
       "                         paths: {d3: \"d3.v4.min\"} });\n",
       "        require(['pyzx'], function(pyzx) {\n",
       "            pyzx.showGraph('#graph-output-335',\n",
       "            JSON.parse('{\"nodes\": [{\"name\": \"0\", \"x\": 30.76923076923077, \"y\": 61.53846153846154, \"t\": 0, \"phase\": \"\"}, {\"name\": \"1\", \"x\": 30.76923076923077, \"y\": 92.3076923076923, \"t\": 0, \"phase\": \"\"}, {\"name\": \"2\", \"x\": 30.76923076923077, \"y\": 123.07692307692308, \"t\": 0, \"phase\": \"\"}, {\"name\": \"3\", \"x\": 30.76923076923077, \"y\": 153.84615384615384, \"t\": 0, \"phase\": \"\"}, {\"name\": \"4\", \"x\": 30.76923076923077, \"y\": 184.6153846153846, \"t\": 0, \"phase\": \"\"}, {\"name\": \"5\", \"x\": 61.53846153846154, \"y\": 92.3076923076923, \"t\": 2, \"phase\": \"\"}, {\"name\": \"6\", \"x\": 61.53846153846154, \"y\": 61.53846153846154, \"t\": 1, \"phase\": \"\"}, {\"name\": \"7\", \"x\": 92.3076923076923, \"y\": 92.3076923076923, \"t\": 1, \"phase\": \"7\\u03c0/4\"}, {\"name\": \"8\", \"x\": 92.3076923076923, \"y\": 123.07692307692308, \"t\": 2, \"phase\": \"\"}, {\"name\": \"9\", \"x\": 92.3076923076923, \"y\": 61.53846153846154, \"t\": 1, \"phase\": \"\"}, {\"name\": \"10\", \"x\": 123.07692307692308, \"y\": 153.84615384615384, \"t\": 2, \"phase\": \"\"}, {\"name\": \"11\", \"x\": 123.07692307692308, \"y\": 61.53846153846154, \"t\": 1, \"phase\": \"\"}, {\"name\": \"12\", \"x\": 153.84615384615384, \"y\": 153.84615384615384, \"t\": 1, \"phase\": \"7\\u03c0/4\"}, {\"name\": \"13\", \"x\": 184.6153846153846, \"y\": 153.84615384615384, \"t\": 2, \"phase\": \"\"}, {\"name\": \"14\", \"x\": 184.6153846153846, \"y\": 92.3076923076923, \"t\": 1, \"phase\": \"\"}, {\"name\": \"15\", \"x\": 153.84615384615384, \"y\": 61.53846153846154, \"t\": 2, \"phase\": \"\"}, {\"name\": \"16\", \"x\": 153.84615384615384, \"y\": 123.07692307692308, \"t\": 1, \"phase\": \"\"}, {\"name\": \"17\", \"x\": 215.3846153846154, \"y\": 123.07692307692308, \"t\": 2, \"phase\": \"\"}, {\"name\": \"18\", \"x\": 215.3846153846154, \"y\": 92.3076923076923, \"t\": 1, \"phase\": \"\"}, {\"name\": \"19\", \"x\": 246.15384615384616, \"y\": 123.07692307692308, \"t\": 1, \"phase\": \"7\\u03c0/4\"}, {\"name\": \"20\", \"x\": 276.9230769230769, \"y\": 184.6153846153846, \"t\": 1, \"phase\": \"\"}, {\"name\": \"21\", \"x\": 276.9230769230769, \"y\": 123.07692307692308, \"t\": 1, \"phase\": \"\"}, {\"name\": \"22\", \"x\": 307.6923076923077, \"y\": 184.6153846153846, \"t\": 1, \"phase\": \"\"}, {\"name\": \"23\", \"x\": 338.46153846153845, \"y\": 184.6153846153846, \"t\": 1, \"phase\": \"\\u03c0/4\"}, {\"name\": \"24\", \"x\": 307.6923076923077, \"y\": 92.3076923076923, \"t\": 2, \"phase\": \"\"}, {\"name\": \"25\", \"x\": 307.6923076923077, \"y\": 123.07692307692308, \"t\": 1, \"phase\": \"\"}, {\"name\": \"26\", \"x\": 338.46153846153845, \"y\": 123.07692307692308, \"t\": 2, \"phase\": \"\"}, {\"name\": \"27\", \"x\": 338.46153846153845, \"y\": 153.84615384615384, \"t\": 1, \"phase\": \"\"}, {\"name\": \"28\", \"x\": 369.2307692307692, \"y\": 123.07692307692308, \"t\": 1, \"phase\": \"7\\u03c0/4\"}, {\"name\": \"29\", \"x\": 369.2307692307692, \"y\": 184.6153846153846, \"t\": 2, \"phase\": \"\"}, {\"name\": \"30\", \"x\": 369.2307692307692, \"y\": 92.3076923076923, \"t\": 1, \"phase\": \"\"}, {\"name\": \"31\", \"x\": 400.0, \"y\": 153.84615384615384, \"t\": 2, \"phase\": \"\"}, {\"name\": \"32\", \"x\": 400.0, \"y\": 184.6153846153846, \"t\": 1, \"phase\": \"\"}, {\"name\": \"33\", \"x\": 430.7692307692308, \"y\": 184.6153846153846, \"t\": 1, \"phase\": \"\\u03c0/4\"}, {\"name\": \"34\", \"x\": 461.53846153846155, \"y\": 184.6153846153846, \"t\": 2, \"phase\": \"\"}, {\"name\": \"35\", \"x\": 461.53846153846155, \"y\": 61.53846153846154, \"t\": 1, \"phase\": \"\"}, {\"name\": \"36\", \"x\": 492.3076923076923, \"y\": 184.6153846153846, \"t\": 2, \"phase\": \"\"}, {\"name\": \"37\", \"x\": 492.3076923076923, \"y\": 123.07692307692308, \"t\": 1, \"phase\": \"\"}, {\"name\": \"38\", \"x\": 430.7692307692308, \"y\": 92.3076923076923, \"t\": 2, \"phase\": \"\"}, {\"name\": \"39\", \"x\": 430.7692307692308, \"y\": 153.84615384615384, \"t\": 1, \"phase\": \"\"}, {\"name\": \"40\", \"x\": 461.53846153846155, \"y\": 153.84615384615384, \"t\": 1, \"phase\": \"\\u03c0/4\"}, {\"name\": \"41\", \"x\": 523.0769230769231, \"y\": 184.6153846153846, \"t\": 2, \"phase\": \"\"}, {\"name\": \"42\", \"x\": 523.0769230769231, \"y\": 153.84615384615384, \"t\": 1, \"phase\": \"\"}, {\"name\": \"43\", \"x\": 461.53846153846155, \"y\": 92.3076923076923, \"t\": 1, \"phase\": \"\\u03c0/4\"}, {\"name\": \"44\", \"x\": 553.8461538461538, \"y\": 153.84615384615384, \"t\": 2, \"phase\": \"\"}, {\"name\": \"45\", \"x\": 553.8461538461538, \"y\": 92.3076923076923, \"t\": 1, \"phase\": \"\"}, {\"name\": \"46\", \"x\": 584.6153846153846, \"y\": 61.53846153846154, \"t\": 2, \"phase\": \"\"}, {\"name\": \"47\", \"x\": 584.6153846153846, \"y\": 153.84615384615384, \"t\": 1, \"phase\": \"\"}, {\"name\": \"48\", \"x\": 615.3846153846154, \"y\": 153.84615384615384, \"t\": 2, \"phase\": \"\"}, {\"name\": \"49\", \"x\": 615.3846153846154, \"y\": 123.07692307692308, \"t\": 1, \"phase\": \"\"}, {\"name\": \"50\", \"x\": 584.6153846153846, \"y\": 92.3076923076923, \"t\": 1, \"phase\": \"\"}, {\"name\": \"51\", \"x\": 646.1538461538462, \"y\": 123.07692307692308, \"t\": 1, \"phase\": \"\"}, {\"name\": \"52\", \"x\": 646.1538461538462, \"y\": 92.3076923076923, \"t\": 1, \"phase\": \"\"}, {\"name\": \"53\", \"x\": 646.1538461538462, \"y\": 153.84615384615384, \"t\": 2, \"phase\": \"\"}, {\"name\": \"54\", \"x\": 646.1538461538462, \"y\": 61.53846153846154, \"t\": 1, \"phase\": \"\"}, {\"name\": \"55\", \"x\": 676.9230769230769, \"y\": 123.07692307692308, \"t\": 2, \"phase\": \"\"}, {\"name\": \"56\", \"x\": 676.9230769230769, \"y\": 153.84615384615384, \"t\": 1, \"phase\": \"\"}, {\"name\": \"57\", \"x\": 676.9230769230769, \"y\": 184.6153846153846, \"t\": 2, \"phase\": \"\"}, {\"name\": \"58\", \"x\": 676.9230769230769, \"y\": 92.3076923076923, \"t\": 1, \"phase\": \"\"}, {\"name\": \"59\", \"x\": 707.6923076923077, \"y\": 92.3076923076923, \"t\": 2, \"phase\": \"\"}, {\"name\": \"60\", \"x\": 707.6923076923077, \"y\": 184.6153846153846, \"t\": 1, \"phase\": \"\"}, {\"name\": \"61\", \"x\": 738.4615384615385, \"y\": 184.6153846153846, \"t\": 2, \"phase\": \"\"}, {\"name\": \"62\", \"x\": 738.4615384615385, \"y\": 92.3076923076923, \"t\": 1, \"phase\": \"\"}, {\"name\": \"63\", \"x\": 769.2307692307693, \"y\": 61.53846153846154, \"t\": 0, \"phase\": \"\"}, {\"name\": \"64\", \"x\": 769.2307692307693, \"y\": 92.3076923076923, \"t\": 0, \"phase\": \"\"}, {\"name\": \"65\", \"x\": 769.2307692307693, \"y\": 123.07692307692308, \"t\": 0, \"phase\": \"\"}, {\"name\": \"66\", \"x\": 769.2307692307693, \"y\": 153.84615384615384, \"t\": 0, \"phase\": \"\"}, {\"name\": \"67\", \"x\": 769.2307692307693, \"y\": 184.6153846153846, \"t\": 0, \"phase\": \"\"}], \"links\": [{\"source\": \"0\", \"target\": \"6\", \"t\": 1}, {\"source\": \"1\", \"target\": \"5\", \"t\": 1}, {\"source\": \"2\", \"target\": \"8\", \"t\": 1}, {\"source\": \"3\", \"target\": \"10\", \"t\": 1}, {\"source\": \"4\", \"target\": \"20\", \"t\": 1}, {\"source\": \"5\", \"target\": \"6\", \"t\": 1}, {\"source\": \"5\", \"target\": \"7\", \"t\": 1}, {\"source\": \"6\", \"target\": \"9\", \"t\": 1}, {\"source\": \"7\", \"target\": \"14\", \"t\": 1}, {\"source\": \"8\", \"target\": \"9\", \"t\": 1}, {\"source\": \"8\", \"target\": \"16\", \"t\": 1}, {\"source\": \"9\", \"target\": \"11\", \"t\": 1}, {\"source\": \"10\", \"target\": \"11\", \"t\": 1}, {\"source\": \"10\", \"target\": \"12\", \"t\": 1}, {\"source\": \"11\", \"target\": \"15\", \"t\": 1}, {\"source\": \"12\", \"target\": \"13\", \"t\": 1}, {\"source\": \"13\", \"target\": \"14\", \"t\": 1}, {\"source\": \"13\", \"target\": \"27\", \"t\": 1}, {\"source\": \"14\", \"target\": \"18\", \"t\": 1}, {\"source\": \"15\", \"target\": \"16\", \"t\": 1}, {\"source\": \"15\", \"target\": \"35\", \"t\": 1}, {\"source\": \"16\", \"target\": \"17\", \"t\": 1}, {\"source\": \"17\", \"target\": \"18\", \"t\": 1}, {\"source\": \"17\", \"target\": \"19\", \"t\": 1}, {\"source\": \"18\", \"target\": \"24\", \"t\": 1}, {\"source\": \"19\", \"target\": \"21\", \"t\": 1}, {\"source\": \"20\", \"target\": \"21\", \"t\": 2}, {\"source\": \"20\", \"target\": \"22\", \"t\": 2}, {\"source\": \"21\", \"target\": \"25\", \"t\": 1}, {\"source\": \"22\", \"target\": \"23\", \"t\": 1}, {\"source\": \"23\", \"target\": \"29\", \"t\": 1}, {\"source\": \"24\", \"target\": \"25\", \"t\": 1}, {\"source\": \"24\", \"target\": \"30\", \"t\": 1}, {\"source\": \"25\", \"target\": \"26\", \"t\": 1}, {\"source\": \"26\", \"target\": \"27\", \"t\": 1}, {\"source\": \"26\", \"target\": \"28\", \"t\": 1}, {\"source\": \"27\", \"target\": \"31\", \"t\": 1}, {\"source\": \"28\", \"target\": \"37\", \"t\": 1}, {\"source\": \"29\", \"target\": \"30\", \"t\": 1}, {\"source\": \"29\", \"target\": \"32\", \"t\": 1}, {\"source\": \"30\", \"target\": \"38\", \"t\": 1}, {\"source\": \"31\", \"target\": \"32\", \"t\": 1}, {\"source\": \"31\", \"target\": \"39\", \"t\": 1}, {\"source\": \"32\", \"target\": \"33\", \"t\": 1}, {\"source\": \"33\", \"target\": \"34\", \"t\": 1}, {\"source\": \"34\", \"target\": \"35\", \"t\": 1}, {\"source\": \"34\", \"target\": \"36\", \"t\": 1}, {\"source\": \"35\", \"target\": \"46\", \"t\": 1}, {\"source\": \"36\", \"target\": \"37\", \"t\": 1}, {\"source\": \"36\", \"target\": \"41\", \"t\": 1}, {\"source\": \"37\", \"target\": \"49\", \"t\": 1}, {\"source\": \"38\", \"target\": \"39\", \"t\": 1}, {\"source\": \"38\", \"target\": \"43\", \"t\": 1}, {\"source\": \"39\", \"target\": \"40\", \"t\": 1}, {\"source\": \"40\", \"target\": \"42\", \"t\": 1}, {\"source\": \"41\", \"target\": \"42\", \"t\": 1}, {\"source\": \"41\", \"target\": \"57\", \"t\": 1}, {\"source\": \"42\", \"target\": \"44\", \"t\": 1}, {\"source\": \"43\", \"target\": \"45\", \"t\": 1}, {\"source\": \"44\", \"target\": \"45\", \"t\": 1}, {\"source\": \"44\", \"target\": \"47\", \"t\": 1}, {\"source\": \"45\", \"target\": \"50\", \"t\": 2}, {\"source\": \"46\", \"target\": \"47\", \"t\": 1}, {\"source\": \"46\", \"target\": \"54\", \"t\": 1}, {\"source\": \"47\", \"target\": \"48\", \"t\": 1}, {\"source\": \"48\", \"target\": \"49\", \"t\": 1}, {\"source\": \"48\", \"target\": \"53\", \"t\": 1}, {\"source\": \"49\", \"target\": \"51\", \"t\": 1}, {\"source\": \"50\", \"target\": \"52\", \"t\": 1}, {\"source\": \"51\", \"target\": \"52\", \"t\": 2}, {\"source\": \"51\", \"target\": \"55\", \"t\": 1}, {\"source\": \"52\", \"target\": \"58\", \"t\": 1}, {\"source\": \"53\", \"target\": \"54\", \"t\": 1}, {\"source\": \"53\", \"target\": \"56\", \"t\": 1}, {\"source\": \"54\", \"target\": \"63\", \"t\": 1}, {\"source\": \"55\", \"target\": \"56\", \"t\": 1}, {\"source\": \"55\", \"target\": \"65\", \"t\": 1}, {\"source\": \"56\", \"target\": \"66\", \"t\": 1}, {\"source\": \"57\", \"target\": \"58\", \"t\": 1}, {\"source\": \"57\", \"target\": \"60\", \"t\": 1}, {\"source\": \"58\", \"target\": \"59\", \"t\": 1}, {\"source\": \"59\", \"target\": \"60\", \"t\": 1}, {\"source\": \"59\", \"target\": \"62\", \"t\": 1}, {\"source\": \"60\", \"target\": \"61\", \"t\": 1}, {\"source\": \"61\", \"target\": \"62\", \"t\": 1}, {\"source\": \"61\", \"target\": \"67\", \"t\": 1}, {\"source\": \"62\", \"target\": \"64\", \"t\": 1}]}'), 800.0, 246.15384615384616, 6.153846153846154);\n",
       "        });\n",
       "        </script>\n",
       "        "
      ],
      "text/plain": [
       "<IPython.core.display.HTML object>"
      ]
     },
     "metadata": {},
     "output_type": "display_data"
    },
    {
     "data": {
      "text/html": [
       "\n",
       "        <div style=\"overflow:auto\" id=\"graph-output-336\"></div>\n",
       "        <script type=\"text/javascript\">\n",
       "        require.config({ baseUrl: \"../js\",\n",
       "                         paths: {d3: \"d3.v4.min\"} });\n",
       "        require(['pyzx'], function(pyzx) {\n",
       "            pyzx.showGraph('#graph-output-336',\n",
       "            JSON.parse('{\"nodes\": [{\"name\": \"0\", \"x\": 26.666666666666668, \"y\": 53.333333333333336, \"t\": 0, \"phase\": \"\"}, {\"name\": \"1\", \"x\": 26.666666666666668, \"y\": 80.0, \"t\": 0, \"phase\": \"\"}, {\"name\": \"2\", \"x\": 26.666666666666668, \"y\": 106.66666666666667, \"t\": 0, \"phase\": \"\"}, {\"name\": \"3\", \"x\": 26.666666666666668, \"y\": 133.33333333333334, \"t\": 0, \"phase\": \"\"}, {\"name\": \"4\", \"x\": 26.666666666666668, \"y\": 160.0, \"t\": 0, \"phase\": \"\"}, {\"name\": \"5\", \"x\": 53.333333333333336, \"y\": 53.333333333333336, \"t\": 1, \"phase\": \"3\\u03c0/2\"}, {\"name\": \"6\", \"x\": 53.333333333333336, \"y\": 106.66666666666667, \"t\": 1, \"phase\": \"\\u03c0/2\"}, {\"name\": \"7\", \"x\": 53.333333333333336, \"y\": 133.33333333333334, \"t\": 1, \"phase\": \"3\\u03c0/2\"}, {\"name\": \"8\", \"x\": 80.0, \"y\": 160.0, \"t\": 1, \"phase\": \"\"}, {\"name\": \"9\", \"x\": 80.0, \"y\": 133.33333333333334, \"t\": 1, \"phase\": \"\"}, {\"name\": \"10\", \"x\": 106.66666666666667, \"y\": 160.0, \"t\": 1, \"phase\": \"\"}, {\"name\": \"11\", \"x\": 133.33333333333334, \"y\": 160.0, \"t\": 1, \"phase\": \"\\u03c0/2\"}, {\"name\": \"12\", \"x\": 160.0, \"y\": 160.0, \"t\": 2, \"phase\": \"\"}, {\"name\": \"13\", \"x\": 160.0, \"y\": 53.333333333333336, \"t\": 1, \"phase\": \"\"}, {\"name\": \"14\", \"x\": 186.66666666666669, \"y\": 160.0, \"t\": 1, \"phase\": \"\\u03c0/4\"}, {\"name\": \"15\", \"x\": 213.33333333333334, \"y\": 160.0, \"t\": 2, \"phase\": \"\"}, {\"name\": \"16\", \"x\": 213.33333333333334, \"y\": 133.33333333333334, \"t\": 1, \"phase\": \"\"}, {\"name\": \"17\", \"x\": 240.0, \"y\": 160.0, \"t\": 1, \"phase\": \"3\\u03c0/2\"}, {\"name\": \"18\", \"x\": 266.6666666666667, \"y\": 160.0, \"t\": 2, \"phase\": \"\"}, {\"name\": \"19\", \"x\": 266.6666666666667, \"y\": 53.333333333333336, \"t\": 1, \"phase\": \"\"}, {\"name\": \"20\", \"x\": 293.33333333333337, \"y\": 160.0, \"t\": 2, \"phase\": \"\"}, {\"name\": \"21\", \"x\": 293.33333333333337, \"y\": 106.66666666666667, \"t\": 1, \"phase\": \"\"}, {\"name\": \"22\", \"x\": 293.33333333333337, \"y\": 133.33333333333334, \"t\": 2, \"phase\": \"\"}, {\"name\": \"23\", \"x\": 293.33333333333337, \"y\": 53.333333333333336, \"t\": 1, \"phase\": \"\"}, {\"name\": \"24\", \"x\": 320.0, \"y\": 133.33333333333334, \"t\": 1, \"phase\": \"7\\u03c0/4\"}, {\"name\": \"25\", \"x\": 346.6666666666667, \"y\": 133.33333333333334, \"t\": 2, \"phase\": \"\"}, {\"name\": \"26\", \"x\": 346.6666666666667, \"y\": 53.333333333333336, \"t\": 1, \"phase\": \"\"}, {\"name\": \"27\", \"x\": 373.33333333333337, \"y\": 160.0, \"t\": 2, \"phase\": \"\"}, {\"name\": \"28\", \"x\": 373.33333333333337, \"y\": 133.33333333333334, \"t\": 1, \"phase\": \"\"}, {\"name\": \"29\", \"x\": 400.0, \"y\": 160.0, \"t\": 1, \"phase\": \"\\u03c0/4\"}, {\"name\": \"30\", \"x\": 426.6666666666667, \"y\": 160.0, \"t\": 2, \"phase\": \"\"}, {\"name\": \"31\", \"x\": 426.6666666666667, \"y\": 106.66666666666667, \"t\": 1, \"phase\": \"\"}, {\"name\": \"32\", \"x\": 453.33333333333337, \"y\": 160.0, \"t\": 1, \"phase\": \"3\\u03c0/2\"}, {\"name\": \"33\", \"x\": 453.33333333333337, \"y\": 133.33333333333334, \"t\": 2, \"phase\": \"\"}, {\"name\": \"34\", \"x\": 453.33333333333337, \"y\": 106.66666666666667, \"t\": 1, \"phase\": \"\"}, {\"name\": \"35\", \"x\": 480.0, \"y\": 133.33333333333334, \"t\": 1, \"phase\": \"7\\u03c0/4\"}, {\"name\": \"36\", \"x\": 506.6666666666667, \"y\": 160.0, \"t\": 2, \"phase\": \"\"}, {\"name\": \"37\", \"x\": 506.6666666666667, \"y\": 133.33333333333334, \"t\": 1, \"phase\": \"\"}, {\"name\": \"38\", \"x\": 533.3333333333334, \"y\": 160.0, \"t\": 1, \"phase\": \"\\u03c0/2\"}, {\"name\": \"39\", \"x\": 560.0, \"y\": 160.0, \"t\": 2, \"phase\": \"\"}, {\"name\": \"40\", \"x\": 560.0, \"y\": 80.0, \"t\": 1, \"phase\": \"\"}, {\"name\": \"41\", \"x\": 586.6666666666667, \"y\": 160.0, \"t\": 1, \"phase\": \"7\\u03c0/4\"}, {\"name\": \"42\", \"x\": 613.3333333333334, \"y\": 160.0, \"t\": 2, \"phase\": \"\"}, {\"name\": \"43\", \"x\": 613.3333333333334, \"y\": 53.333333333333336, \"t\": 1, \"phase\": \"\"}, {\"name\": \"44\", \"x\": 533.3333333333334, \"y\": 133.33333333333334, \"t\": 2, \"phase\": \"\"}, {\"name\": \"45\", \"x\": 533.3333333333334, \"y\": 106.66666666666667, \"t\": 1, \"phase\": \"\"}, {\"name\": \"46\", \"x\": 560.0, \"y\": 133.33333333333334, \"t\": 1, \"phase\": \"\\u03c0/2\"}, {\"name\": \"47\", \"x\": 586.6666666666667, \"y\": 106.66666666666667, \"t\": 2, \"phase\": \"\"}, {\"name\": \"48\", \"x\": 586.6666666666667, \"y\": 80.0, \"t\": 1, \"phase\": \"\"}, {\"name\": \"49\", \"x\": 613.3333333333334, \"y\": 106.66666666666667, \"t\": 1, \"phase\": \"5\\u03c0/4\"}, {\"name\": \"50\", \"x\": 640.0, \"y\": 106.66666666666667, \"t\": 2, \"phase\": \"\"}, {\"name\": \"51\", \"x\": 640.0, \"y\": 80.0, \"t\": 1, \"phase\": \"\"}, {\"name\": \"52\", \"x\": 666.6666666666667, \"y\": 160.0, \"t\": 2, \"phase\": \"\"}, {\"name\": \"53\", \"x\": 666.6666666666667, \"y\": 106.66666666666667, \"t\": 1, \"phase\": \"\"}, {\"name\": \"54\", \"x\": 693.3333333333334, \"y\": 160.0, \"t\": 1, \"phase\": \"3\\u03c0/4\"}, {\"name\": \"55\", \"x\": 666.6666666666667, \"y\": 80.0, \"t\": 2, \"phase\": \"\"}, {\"name\": \"56\", \"x\": 666.6666666666667, \"y\": 53.333333333333336, \"t\": 1, \"phase\": \"\"}, {\"name\": \"57\", \"x\": 693.3333333333334, \"y\": 80.0, \"t\": 1, \"phase\": \"\\u03c0/4\"}, {\"name\": \"58\", \"x\": 720.0, \"y\": 160.0, \"t\": 2, \"phase\": \"\"}, {\"name\": \"59\", \"x\": 720.0, \"y\": 80.0, \"t\": 1, \"phase\": \"\"}, {\"name\": \"60\", \"x\": 746.6666666666667, \"y\": 160.0, \"t\": 1, \"phase\": \"\"}, {\"name\": \"61\", \"x\": 746.6666666666667, \"y\": 80.0, \"t\": 2, \"phase\": \"\"}, {\"name\": \"62\", \"x\": 746.6666666666667, \"y\": 53.333333333333336, \"t\": 1, \"phase\": \"\"}, {\"name\": \"63\", \"x\": 773.3333333333334, \"y\": 53.333333333333336, \"t\": 0, \"phase\": \"\"}, {\"name\": \"64\", \"x\": 773.3333333333334, \"y\": 80.0, \"t\": 0, \"phase\": \"\"}, {\"name\": \"65\", \"x\": 773.3333333333334, \"y\": 106.66666666666667, \"t\": 0, \"phase\": \"\"}, {\"name\": \"66\", \"x\": 773.3333333333334, \"y\": 133.33333333333334, \"t\": 0, \"phase\": \"\"}, {\"name\": \"67\", \"x\": 773.3333333333334, \"y\": 160.0, \"t\": 0, \"phase\": \"\"}], \"links\": [{\"source\": \"0\", \"target\": \"5\", \"t\": 1}, {\"source\": \"1\", \"target\": \"40\", \"t\": 1}, {\"source\": \"2\", \"target\": \"6\", \"t\": 1}, {\"source\": \"3\", \"target\": \"7\", \"t\": 1}, {\"source\": \"4\", \"target\": \"8\", \"t\": 1}, {\"source\": \"5\", \"target\": \"13\", \"t\": 1}, {\"source\": \"6\", \"target\": \"21\", \"t\": 1}, {\"source\": \"7\", \"target\": \"9\", \"t\": 1}, {\"source\": \"8\", \"target\": \"9\", \"t\": 2}, {\"source\": \"8\", \"target\": \"10\", \"t\": 2}, {\"source\": \"9\", \"target\": \"16\", \"t\": 1}, {\"source\": \"10\", \"target\": \"11\", \"t\": 1}, {\"source\": \"11\", \"target\": \"12\", \"t\": 1}, {\"source\": \"12\", \"target\": \"13\", \"t\": 1}, {\"source\": \"12\", \"target\": \"14\", \"t\": 1}, {\"source\": \"13\", \"target\": \"19\", \"t\": 1}, {\"source\": \"14\", \"target\": \"15\", \"t\": 1}, {\"source\": \"15\", \"target\": \"16\", \"t\": 1}, {\"source\": \"15\", \"target\": \"17\", \"t\": 1}, {\"source\": \"16\", \"target\": \"22\", \"t\": 1}, {\"source\": \"17\", \"target\": \"18\", \"t\": 1}, {\"source\": \"18\", \"target\": \"19\", \"t\": 1}, {\"source\": \"18\", \"target\": \"20\", \"t\": 1}, {\"source\": \"19\", \"target\": \"23\", \"t\": 1}, {\"source\": \"20\", \"target\": \"21\", \"t\": 1}, {\"source\": \"20\", \"target\": \"27\", \"t\": 1}, {\"source\": \"21\", \"target\": \"31\", \"t\": 1}, {\"source\": \"22\", \"target\": \"23\", \"t\": 1}, {\"source\": \"22\", \"target\": \"24\", \"t\": 1}, {\"source\": \"23\", \"target\": \"26\", \"t\": 1}, {\"source\": \"24\", \"target\": \"25\", \"t\": 1}, {\"source\": \"25\", \"target\": \"26\", \"t\": 1}, {\"source\": \"25\", \"target\": \"28\", \"t\": 1}, {\"source\": \"26\", \"target\": \"43\", \"t\": 1}, {\"source\": \"27\", \"target\": \"28\", \"t\": 1}, {\"source\": \"27\", \"target\": \"29\", \"t\": 1}, {\"source\": \"28\", \"target\": \"33\", \"t\": 1}, {\"source\": \"29\", \"target\": \"30\", \"t\": 1}, {\"source\": \"30\", \"target\": \"31\", \"t\": 1}, {\"source\": \"30\", \"target\": \"32\", \"t\": 1}, {\"source\": \"31\", \"target\": \"34\", \"t\": 1}, {\"source\": \"32\", \"target\": \"36\", \"t\": 1}, {\"source\": \"33\", \"target\": \"34\", \"t\": 1}, {\"source\": \"33\", \"target\": \"35\", \"t\": 1}, {\"source\": \"34\", \"target\": \"45\", \"t\": 1}, {\"source\": \"35\", \"target\": \"37\", \"t\": 1}, {\"source\": \"36\", \"target\": \"37\", \"t\": 1}, {\"source\": \"36\", \"target\": \"38\", \"t\": 1}, {\"source\": \"37\", \"target\": \"44\", \"t\": 1}, {\"source\": \"38\", \"target\": \"39\", \"t\": 1}, {\"source\": \"39\", \"target\": \"40\", \"t\": 1}, {\"source\": \"39\", \"target\": \"41\", \"t\": 1}, {\"source\": \"40\", \"target\": \"48\", \"t\": 1}, {\"source\": \"41\", \"target\": \"42\", \"t\": 1}, {\"source\": \"42\", \"target\": \"43\", \"t\": 1}, {\"source\": \"42\", \"target\": \"52\", \"t\": 1}, {\"source\": \"43\", \"target\": \"56\", \"t\": 1}, {\"source\": \"44\", \"target\": \"45\", \"t\": 1}, {\"source\": \"44\", \"target\": \"46\", \"t\": 1}, {\"source\": \"45\", \"target\": \"47\", \"t\": 1}, {\"source\": \"46\", \"target\": \"66\", \"t\": 1}, {\"source\": \"47\", \"target\": \"48\", \"t\": 1}, {\"source\": \"47\", \"target\": \"49\", \"t\": 1}, {\"source\": \"48\", \"target\": \"51\", \"t\": 1}, {\"source\": \"49\", \"target\": \"50\", \"t\": 1}, {\"source\": \"50\", \"target\": \"51\", \"t\": 1}, {\"source\": \"50\", \"target\": \"53\", \"t\": 1}, {\"source\": \"51\", \"target\": \"55\", \"t\": 1}, {\"source\": \"52\", \"target\": \"53\", \"t\": 1}, {\"source\": \"52\", \"target\": \"54\", \"t\": 1}, {\"source\": \"53\", \"target\": \"65\", \"t\": 1}, {\"source\": \"54\", \"target\": \"58\", \"t\": 1}, {\"source\": \"55\", \"target\": \"56\", \"t\": 1}, {\"source\": \"55\", \"target\": \"57\", \"t\": 1}, {\"source\": \"56\", \"target\": \"62\", \"t\": 1}, {\"source\": \"57\", \"target\": \"59\", \"t\": 1}, {\"source\": \"58\", \"target\": \"59\", \"t\": 1}, {\"source\": \"58\", \"target\": \"60\", \"t\": 2}, {\"source\": \"59\", \"target\": \"61\", \"t\": 1}, {\"source\": \"60\", \"target\": \"67\", \"t\": 1}, {\"source\": \"61\", \"target\": \"62\", \"t\": 1}, {\"source\": \"61\", \"target\": \"64\", \"t\": 1}, {\"source\": \"62\", \"target\": \"63\", \"t\": 1}]}'), 800.0, 213.33333333333334, 5.333333333333334);\n",
       "        });\n",
       "        </script>\n",
       "        "
      ],
      "text/plain": [
       "<IPython.core.display.HTML object>"
      ]
     },
     "metadata": {},
     "output_type": "display_data"
    },
    {
     "data": {
      "text/html": [
       "\n",
       "        <div style=\"overflow:auto\" id=\"graph-output-337\"></div>\n",
       "        <script type=\"text/javascript\">\n",
       "        require.config({ baseUrl: \"../js\",\n",
       "                         paths: {d3: \"d3.v4.min\"} });\n",
       "        require(['pyzx'], function(pyzx) {\n",
       "            pyzx.showGraph('#graph-output-337',\n",
       "            JSON.parse('{\"nodes\": [{\"name\": \"0\", \"x\": 42.10526315789474, \"y\": 84.21052631578948, \"t\": 0, \"phase\": \"\"}, {\"name\": \"1\", \"x\": 42.10526315789474, \"y\": 126.31578947368422, \"t\": 0, \"phase\": \"\"}, {\"name\": \"2\", \"x\": 42.10526315789474, \"y\": 168.42105263157896, \"t\": 0, \"phase\": \"\"}, {\"name\": \"3\", \"x\": 42.10526315789474, \"y\": 210.5263157894737, \"t\": 0, \"phase\": \"\"}, {\"name\": \"4\", \"x\": 42.10526315789474, \"y\": 252.63157894736844, \"t\": 0, \"phase\": \"\"}, {\"name\": \"5\", \"x\": 84.21052631578948, \"y\": 84.21052631578948, \"t\": 1, \"phase\": \"\\u03c0/2\"}, {\"name\": \"6\", \"x\": 126.31578947368422, \"y\": 126.31578947368422, \"t\": 1, \"phase\": \"\"}, {\"name\": \"7\", \"x\": 126.31578947368422, \"y\": 84.21052631578948, \"t\": 1, \"phase\": \"\"}, {\"name\": \"8\", \"x\": 168.42105263157896, \"y\": 126.31578947368422, \"t\": 1, \"phase\": \"\\u03c0\"}, {\"name\": \"9\", \"x\": 210.5263157894737, \"y\": 168.42105263157896, \"t\": 1, \"phase\": \"\"}, {\"name\": \"10\", \"x\": 210.5263157894737, \"y\": 126.31578947368422, \"t\": 1, \"phase\": \"\"}, {\"name\": \"11\", \"x\": 252.63157894736844, \"y\": 168.42105263157896, \"t\": 1, \"phase\": \"\\u03c0/2\"}, {\"name\": \"12\", \"x\": 294.7368421052632, \"y\": 168.42105263157896, \"t\": 2, \"phase\": \"\"}, {\"name\": \"13\", \"x\": 294.7368421052632, \"y\": 210.5263157894737, \"t\": 1, \"phase\": \"\"}, {\"name\": \"14\", \"x\": 84.21052631578948, \"y\": 252.63157894736844, \"t\": 1, \"phase\": \"\"}, {\"name\": \"15\", \"x\": 336.8421052631579, \"y\": 168.42105263157896, \"t\": 1, \"phase\": \"3\\u03c0/4\"}, {\"name\": \"16\", \"x\": 336.8421052631579, \"y\": 84.21052631578948, \"t\": 2, \"phase\": \"\"}, {\"name\": \"17\", \"x\": 336.8421052631579, \"y\": 210.5263157894737, \"t\": 1, \"phase\": \"\"}, {\"name\": \"18\", \"x\": 378.94736842105266, \"y\": 168.42105263157896, \"t\": 2, \"phase\": \"\"}, {\"name\": \"19\", \"x\": 378.94736842105266, \"y\": 252.63157894736844, \"t\": 1, \"phase\": \"\"}, {\"name\": \"20\", \"x\": 378.94736842105266, \"y\": 84.21052631578948, \"t\": 1, \"phase\": \"3\\u03c0/4\"}, {\"name\": \"21\", \"x\": 421.0526315789474, \"y\": 168.42105263157896, \"t\": 1, \"phase\": \"\\u03c0/4\"}, {\"name\": \"22\", \"x\": 463.15789473684214, \"y\": 168.42105263157896, \"t\": 2, \"phase\": \"\"}, {\"name\": \"23\", \"x\": 463.15789473684214, \"y\": 126.31578947368422, \"t\": 1, \"phase\": \"\"}, {\"name\": \"24\", \"x\": 505.2631578947369, \"y\": 168.42105263157896, \"t\": 2, \"phase\": \"\"}, {\"name\": \"25\", \"x\": 505.2631578947369, \"y\": 210.5263157894737, \"t\": 1, \"phase\": \"\"}, {\"name\": \"26\", \"x\": 421.0526315789474, \"y\": 84.21052631578948, \"t\": 2, \"phase\": \"\"}, {\"name\": \"27\", \"x\": 421.0526315789474, \"y\": 252.63157894736844, \"t\": 1, \"phase\": \"\"}, {\"name\": \"28\", \"x\": 463.15789473684214, \"y\": 84.21052631578948, \"t\": 1, \"phase\": \"\\u03c0/4\"}, {\"name\": \"29\", \"x\": 505.2631578947369, \"y\": 84.21052631578948, \"t\": 2, \"phase\": \"\"}, {\"name\": \"30\", \"x\": 505.2631578947369, \"y\": 126.31578947368422, \"t\": 1, \"phase\": \"\"}, {\"name\": \"31\", \"x\": 547.3684210526317, \"y\": 168.42105263157896, \"t\": 1, \"phase\": \"\\u03c0/4\"}, {\"name\": \"32\", \"x\": 547.3684210526317, \"y\": 84.21052631578948, \"t\": 2, \"phase\": \"\"}, {\"name\": \"33\", \"x\": 547.3684210526317, \"y\": 210.5263157894737, \"t\": 1, \"phase\": \"\"}, {\"name\": \"34\", \"x\": 589.4736842105264, \"y\": 168.42105263157896, \"t\": 2, \"phase\": \"\"}, {\"name\": \"35\", \"x\": 589.4736842105264, \"y\": 252.63157894736844, \"t\": 1, \"phase\": \"\"}, {\"name\": \"36\", \"x\": 589.4736842105264, \"y\": 84.21052631578948, \"t\": 1, \"phase\": \"\\u03c0/4\"}, {\"name\": \"37\", \"x\": 631.578947368421, \"y\": 168.42105263157896, \"t\": 1, \"phase\": \"\\u03c0/4\"}, {\"name\": \"38\", \"x\": 673.6842105263158, \"y\": 168.42105263157896, \"t\": 2, \"phase\": \"\"}, {\"name\": \"39\", \"x\": 673.6842105263158, \"y\": 126.31578947368422, \"t\": 1, \"phase\": \"\"}, {\"name\": \"40\", \"x\": 631.578947368421, \"y\": 84.21052631578948, \"t\": 2, \"phase\": \"\"}, {\"name\": \"41\", \"x\": 631.578947368421, \"y\": 252.63157894736844, \"t\": 1, \"phase\": \"\"}, {\"name\": \"42\", \"x\": 673.6842105263158, \"y\": 252.63157894736844, \"t\": 1, \"phase\": \"\"}, {\"name\": \"43\", \"x\": 673.6842105263158, \"y\": 84.21052631578948, \"t\": 1, \"phase\": \"\\u03c0/4\"}, {\"name\": \"44\", \"x\": 715.7894736842106, \"y\": 84.21052631578948, \"t\": 2, \"phase\": \"\"}, {\"name\": \"45\", \"x\": 715.7894736842106, \"y\": 126.31578947368422, \"t\": 1, \"phase\": \"\"}, {\"name\": \"46\", \"x\": 757.8947368421053, \"y\": 84.21052631578948, \"t\": 0, \"phase\": \"\"}, {\"name\": \"47\", \"x\": 757.8947368421053, \"y\": 126.31578947368422, \"t\": 0, \"phase\": \"\"}, {\"name\": \"48\", \"x\": 757.8947368421053, \"y\": 168.42105263157896, \"t\": 0, \"phase\": \"\"}, {\"name\": \"49\", \"x\": 757.8947368421053, \"y\": 210.5263157894737, \"t\": 0, \"phase\": \"\"}, {\"name\": \"50\", \"x\": 757.8947368421053, \"y\": 252.63157894736844, \"t\": 0, \"phase\": \"\"}], \"links\": [{\"source\": \"0\", \"target\": \"5\", \"t\": 1}, {\"source\": \"1\", \"target\": \"6\", \"t\": 1}, {\"source\": \"2\", \"target\": \"9\", \"t\": 1}, {\"source\": \"3\", \"target\": \"13\", \"t\": 1}, {\"source\": \"4\", \"target\": \"14\", \"t\": 2}, {\"source\": \"5\", \"target\": \"7\", \"t\": 1}, {\"source\": \"6\", \"target\": \"7\", \"t\": 2}, {\"source\": \"6\", \"target\": \"8\", \"t\": 1}, {\"source\": \"7\", \"target\": \"16\", \"t\": 1}, {\"source\": \"8\", \"target\": \"10\", \"t\": 1}, {\"source\": \"9\", \"target\": \"10\", \"t\": 2}, {\"source\": \"9\", \"target\": \"11\", \"t\": 1}, {\"source\": \"10\", \"target\": \"23\", \"t\": 1}, {\"source\": \"11\", \"target\": \"12\", \"t\": 1}, {\"source\": \"12\", \"target\": \"13\", \"t\": 1}, {\"source\": \"12\", \"target\": \"15\", \"t\": 1}, {\"source\": \"13\", \"target\": \"17\", \"t\": 1}, {\"source\": \"14\", \"target\": \"19\", \"t\": 1}, {\"source\": \"15\", \"target\": \"18\", \"t\": 1}, {\"source\": \"16\", \"target\": \"17\", \"t\": 1}, {\"source\": \"16\", \"target\": \"20\", \"t\": 1}, {\"source\": \"17\", \"target\": \"25\", \"t\": 1}, {\"source\": \"18\", \"target\": \"19\", \"t\": 1}, {\"source\": \"18\", \"target\": \"21\", \"t\": 1}, {\"source\": \"19\", \"target\": \"27\", \"t\": 1}, {\"source\": \"20\", \"target\": \"26\", \"t\": 1}, {\"source\": \"21\", \"target\": \"22\", \"t\": 1}, {\"source\": \"22\", \"target\": \"23\", \"t\": 1}, {\"source\": \"22\", \"target\": \"24\", \"t\": 1}, {\"source\": \"23\", \"target\": \"30\", \"t\": 1}, {\"source\": \"24\", \"target\": \"25\", \"t\": 1}, {\"source\": \"24\", \"target\": \"31\", \"t\": 1}, {\"source\": \"25\", \"target\": \"33\", \"t\": 1}, {\"source\": \"26\", \"target\": \"27\", \"t\": 1}, {\"source\": \"26\", \"target\": \"28\", \"t\": 1}, {\"source\": \"27\", \"target\": \"35\", \"t\": 1}, {\"source\": \"28\", \"target\": \"29\", \"t\": 1}, {\"source\": \"29\", \"target\": \"30\", \"t\": 1}, {\"source\": \"29\", \"target\": \"32\", \"t\": 1}, {\"source\": \"30\", \"target\": \"39\", \"t\": 1}, {\"source\": \"31\", \"target\": \"34\", \"t\": 1}, {\"source\": \"32\", \"target\": \"33\", \"t\": 1}, {\"source\": \"32\", \"target\": \"36\", \"t\": 1}, {\"source\": \"33\", \"target\": \"49\", \"t\": 1}, {\"source\": \"34\", \"target\": \"35\", \"t\": 1}, {\"source\": \"34\", \"target\": \"37\", \"t\": 1}, {\"source\": \"35\", \"target\": \"41\", \"t\": 1}, {\"source\": \"36\", \"target\": \"40\", \"t\": 1}, {\"source\": \"37\", \"target\": \"38\", \"t\": 1}, {\"source\": \"38\", \"target\": \"39\", \"t\": 1}, {\"source\": \"38\", \"target\": \"48\", \"t\": 1}, {\"source\": \"39\", \"target\": \"45\", \"t\": 1}, {\"source\": \"40\", \"target\": \"41\", \"t\": 1}, {\"source\": \"40\", \"target\": \"43\", \"t\": 1}, {\"source\": \"41\", \"target\": \"42\", \"t\": 2}, {\"source\": \"42\", \"target\": \"50\", \"t\": 1}, {\"source\": \"43\", \"target\": \"44\", \"t\": 1}, {\"source\": \"44\", \"target\": \"45\", \"t\": 1}, {\"source\": \"44\", \"target\": \"46\", \"t\": 1}, {\"source\": \"45\", \"target\": \"47\", \"t\": 1}]}'), 800.0, 336.8421052631579, 8.421052631578949);\n",
       "        });\n",
       "        </script>\n",
       "        "
      ],
      "text/plain": [
       "<IPython.core.display.HTML object>"
      ]
     },
     "metadata": {},
     "output_type": "display_data"
    }
   ],
   "source": [
    "c = zx.Circuit.load(r'..\\circuits\\fast\\mod5_4_before')\n",
    "zx.d3.draw(c)\n",
    "g = c.to_graph()\n",
    "zx.full_reduce(g)\n",
    "c2 = zx.extract.modified_extract(g)\n",
    "zx.d3.draw(c2)\n",
    "c3 = zx.optimize.basic_optimization(c2.to_basic_gates()).to_basic_gates()\n",
    "zx.d3.draw(c3)\n",
    "c4 = optimize_circuit(c3)\n",
    "zx.d3.draw(c4)\n",
    "g = c.to_graph()\n",
    "g = zx.teleport_reduce(g)\n",
    "c5 = zx.Circuit.from_graph(g)\n",
    "c5 = optimize_circuit(c5)\n",
    "zx.d3.draw(c5)\n",
    "g = c.to_graph()\n",
    "g = zx.teleport_reduce(g)\n",
    "c6 = zx.Circuit.from_graph(g)\n",
    "c6 = zx.optimize.full_optimize(c6.to_basic_gates()).to_basic_gates()\n",
    "zx.d3.draw(c6)"
   ]
  },
  {
   "cell_type": "code",
   "execution_count": 291,
   "metadata": {},
   "outputs": [
    {
     "data": {
      "text/plain": [
       "True"
      ]
     },
     "execution_count": 291,
     "metadata": {},
     "output_type": "execute_result"
    }
   ],
   "source": [
    "zx.compare_tensors(c3,c4,False)"
   ]
  },
  {
   "cell_type": "code",
   "execution_count": 245,
   "metadata": {
    "scrolled": false
   },
   "outputs": [
    {
     "name": "stdout",
     "output_type": "stream",
     "text": [
      "Circuit  on 5 qubits with 50 gates.\n",
      "        0 is the T-count\n",
      "        50 Cliffords among which \n",
      "        14 2-qubit gates and 20 Hadamard gates.\n"
     ]
    },
    {
     "data": {
      "text/html": [
       "\n",
       "        <div style=\"overflow:auto\" id=\"graph-output-206\"></div>\n",
       "        <script type=\"text/javascript\">\n",
       "        require.config({ baseUrl: \"../js\",\n",
       "                         paths: {d3: \"d3.v4.min\"} });\n",
       "        require(['pyzx'], function(pyzx) {\n",
       "            pyzx.showGraph('#graph-output-206',\n",
       "            JSON.parse('{\"nodes\": [{\"name\": \"0\", \"x\": 32.0, \"y\": 64.0, \"t\": 0, \"phase\": \"\"}, {\"name\": \"1\", \"x\": 32.0, \"y\": 96.0, \"t\": 0, \"phase\": \"\"}, {\"name\": \"2\", \"x\": 32.0, \"y\": 128.0, \"t\": 0, \"phase\": \"\"}, {\"name\": \"3\", \"x\": 32.0, \"y\": 160.0, \"t\": 0, \"phase\": \"\"}, {\"name\": \"4\", \"x\": 32.0, \"y\": 192.0, \"t\": 0, \"phase\": \"\"}, {\"name\": \"5\", \"x\": 64.0, \"y\": 192.0, \"t\": 1, \"phase\": \"\\u03c0/2\"}, {\"name\": \"6\", \"x\": 96.0, \"y\": 192.0, \"t\": 2, \"phase\": \"\"}, {\"name\": \"7\", \"x\": 96.0, \"y\": 64.0, \"t\": 1, \"phase\": \"\"}, {\"name\": \"8\", \"x\": 128.0, \"y\": 128.0, \"t\": 2, \"phase\": \"\"}, {\"name\": \"9\", \"x\": 128.0, \"y\": 192.0, \"t\": 1, \"phase\": \"\"}, {\"name\": \"10\", \"x\": 160.0, \"y\": 192.0, \"t\": 1, \"phase\": \"\"}, {\"name\": \"11\", \"x\": 64.0, \"y\": 160.0, \"t\": 1, \"phase\": \"\"}, {\"name\": \"12\", \"x\": 128.0, \"y\": 64.0, \"t\": 2, \"phase\": \"\"}, {\"name\": \"13\", \"x\": 128.0, \"y\": 96.0, \"t\": 1, \"phase\": \"\"}, {\"name\": \"14\", \"x\": 192.0, \"y\": 192.0, \"t\": 1, \"phase\": \"\"}, {\"name\": \"15\", \"x\": 160.0, \"y\": 128.0, \"t\": 1, \"phase\": \"\"}, {\"name\": \"16\", \"x\": 96.0, \"y\": 160.0, \"t\": 1, \"phase\": \"\"}, {\"name\": \"17\", \"x\": 128.0, \"y\": 160.0, \"t\": 1, \"phase\": \"\"}, {\"name\": \"18\", \"x\": 160.0, \"y\": 64.0, \"t\": 1, \"phase\": \"\\u03c0/2\"}, {\"name\": \"19\", \"x\": 160.0, \"y\": 160.0, \"t\": 1, \"phase\": \"\"}, {\"name\": \"20\", \"x\": 192.0, \"y\": 160.0, \"t\": 1, \"phase\": \"\\u03c0/2\"}, {\"name\": \"21\", \"x\": 224.0, \"y\": 160.0, \"t\": 1, \"phase\": \"\\u03c0/2\"}, {\"name\": \"22\", \"x\": 192.0, \"y\": 128.0, \"t\": 1, \"phase\": \"\"}, {\"name\": \"23\", \"x\": 224.0, \"y\": 128.0, \"t\": 2, \"phase\": \"\"}, {\"name\": \"24\", \"x\": 224.0, \"y\": 64.0, \"t\": 1, \"phase\": \"\"}, {\"name\": \"25\", \"x\": 256.0, \"y\": 160.0, \"t\": 1, \"phase\": \"\\u03c0/2\"}, {\"name\": \"26\", \"x\": 224.0, \"y\": 192.0, \"t\": 1, \"phase\": \"\\u03c0/2\"}, {\"name\": \"27\", \"x\": 256.0, \"y\": 192.0, \"t\": 1, \"phase\": \"\\u03c0/2\"}, {\"name\": \"28\", \"x\": 288.0, \"y\": 160.0, \"t\": 1, \"phase\": \"\\u03c0/2\"}, {\"name\": \"29\", \"x\": 288.0, \"y\": 192.0, \"t\": 1, \"phase\": \"\"}, {\"name\": \"30\", \"x\": 320.0, \"y\": 96.0, \"t\": 2, \"phase\": \"\"}, {\"name\": \"31\", \"x\": 320.0, \"y\": 192.0, \"t\": 1, \"phase\": \"\"}, {\"name\": \"32\", \"x\": 352.0, \"y\": 96.0, \"t\": 1, \"phase\": \"\\u03c0/2\"}, {\"name\": \"33\", \"x\": 384.0, \"y\": 96.0, \"t\": 1, \"phase\": \"\"}, {\"name\": \"34\", \"x\": 352.0, \"y\": 192.0, \"t\": 1, \"phase\": \"\"}, {\"name\": \"35\", \"x\": 416.0, \"y\": 160.0, \"t\": 2, \"phase\": \"\"}, {\"name\": \"36\", \"x\": 416.0, \"y\": 96.0, \"t\": 1, \"phase\": \"\"}, {\"name\": \"37\", \"x\": 448.0, \"y\": 160.0, \"t\": 2, \"phase\": \"\"}, {\"name\": \"38\", \"x\": 448.0, \"y\": 192.0, \"t\": 1, \"phase\": \"\"}, {\"name\": \"39\", \"x\": 256.0, \"y\": 64.0, \"t\": 1, \"phase\": \"\\u03c0/2\"}, {\"name\": \"40\", \"x\": 480.0, \"y\": 160.0, \"t\": 1, \"phase\": \"\"}, {\"name\": \"41\", \"x\": 512.0, \"y\": 160.0, \"t\": 1, \"phase\": \"\\u03c0/2\"}, {\"name\": \"42\", \"x\": 448.0, \"y\": 96.0, \"t\": 1, \"phase\": \"\"}, {\"name\": \"43\", \"x\": 480.0, \"y\": 128.0, \"t\": 2, \"phase\": \"\"}, {\"name\": \"44\", \"x\": 480.0, \"y\": 96.0, \"t\": 1, \"phase\": \"\"}, {\"name\": \"45\", \"x\": 288.0, \"y\": 64.0, \"t\": 1, \"phase\": \"\\u03c0/2\"}, {\"name\": \"46\", \"x\": 320.0, \"y\": 64.0, \"t\": 1, \"phase\": \"\"}, {\"name\": \"47\", \"x\": 512.0, \"y\": 128.0, \"t\": 1, \"phase\": \"\"}, {\"name\": \"48\", \"x\": 512.0, \"y\": 96.0, \"t\": 1, \"phase\": \"\\u03c0/2\"}, {\"name\": \"49\", \"x\": 352.0, \"y\": 64.0, \"t\": 1, \"phase\": \"\"}, {\"name\": \"50\", \"x\": 544.0, \"y\": 160.0, \"t\": 1, \"phase\": \"\"}, {\"name\": \"51\", \"x\": 576.0, \"y\": 160.0, \"t\": 2, \"phase\": \"\"}, {\"name\": \"52\", \"x\": 576.0, \"y\": 128.0, \"t\": 1, \"phase\": \"\"}, {\"name\": \"53\", \"x\": 608.0, \"y\": 64.0, \"t\": 2, \"phase\": \"\"}, {\"name\": \"54\", \"x\": 608.0, \"y\": 128.0, \"t\": 1, \"phase\": \"\"}, {\"name\": \"55\", \"x\": 640.0, \"y\": 64.0, \"t\": 2, \"phase\": \"\"}, {\"name\": \"56\", \"x\": 640.0, \"y\": 192.0, \"t\": 1, \"phase\": \"\"}, {\"name\": \"57\", \"x\": 608.0, \"y\": 160.0, \"t\": 1, \"phase\": \"\\u03c0/2\"}, {\"name\": \"58\", \"x\": 672.0, \"y\": 64.0, \"t\": 1, \"phase\": \"\"}, {\"name\": \"59\", \"x\": 672.0, \"y\": 192.0, \"t\": 1, \"phase\": \"\\u03c0/2\"}, {\"name\": \"60\", \"x\": 640.0, \"y\": 160.0, \"t\": 2, \"phase\": \"\"}, {\"name\": \"61\", \"x\": 640.0, \"y\": 128.0, \"t\": 1, \"phase\": \"\"}, {\"name\": \"62\", \"x\": 704.0, \"y\": 64.0, \"t\": 2, \"phase\": \"\"}, {\"name\": \"63\", \"x\": 704.0, \"y\": 160.0, \"t\": 1, \"phase\": \"\"}, {\"name\": \"64\", \"x\": 704.0, \"y\": 192.0, \"t\": 1, \"phase\": \"\"}, {\"name\": \"65\", \"x\": 736.0, \"y\": 192.0, \"t\": 1, \"phase\": \"\\u03c0/2\"}, {\"name\": \"66\", \"x\": 544.0, \"y\": 96.0, \"t\": 1, \"phase\": \"\"}, {\"name\": \"67\", \"x\": 672.0, \"y\": 96.0, \"t\": 2, \"phase\": \"\"}, {\"name\": \"68\", \"x\": 672.0, \"y\": 128.0, \"t\": 1, \"phase\": \"\"}, {\"name\": \"69\", \"x\": 768.0, \"y\": 64.0, \"t\": 0, \"phase\": \"\"}, {\"name\": \"70\", \"x\": 768.0, \"y\": 96.0, \"t\": 0, \"phase\": \"\"}, {\"name\": \"71\", \"x\": 768.0, \"y\": 128.0, \"t\": 0, \"phase\": \"\"}, {\"name\": \"72\", \"x\": 768.0, \"y\": 160.0, \"t\": 0, \"phase\": \"\"}, {\"name\": \"73\", \"x\": 768.0, \"y\": 192.0, \"t\": 0, \"phase\": \"\"}], \"links\": [{\"source\": \"0\", \"target\": \"7\", \"t\": 1}, {\"source\": \"1\", \"target\": \"13\", \"t\": 1}, {\"source\": \"2\", \"target\": \"8\", \"t\": 1}, {\"source\": \"3\", \"target\": \"11\", \"t\": 2}, {\"source\": \"4\", \"target\": \"5\", \"t\": 1}, {\"source\": \"5\", \"target\": \"6\", \"t\": 1}, {\"source\": \"6\", \"target\": \"7\", \"t\": 1}, {\"source\": \"6\", \"target\": \"9\", \"t\": 1}, {\"source\": \"7\", \"target\": \"12\", \"t\": 1}, {\"source\": \"8\", \"target\": \"9\", \"t\": 1}, {\"source\": \"8\", \"target\": \"15\", \"t\": 2}, {\"source\": \"9\", \"target\": \"10\", \"t\": 2}, {\"source\": \"10\", \"target\": \"14\", \"t\": 2}, {\"source\": \"11\", \"target\": \"16\", \"t\": 2}, {\"source\": \"12\", \"target\": \"13\", \"t\": 1}, {\"source\": \"12\", \"target\": \"18\", \"t\": 1}, {\"source\": \"13\", \"target\": \"30\", \"t\": 1}, {\"source\": \"14\", \"target\": \"26\", \"t\": 1}, {\"source\": \"15\", \"target\": \"22\", \"t\": 2}, {\"source\": \"16\", \"target\": \"17\", \"t\": 2}, {\"source\": \"17\", \"target\": \"19\", \"t\": 2}, {\"source\": \"18\", \"target\": \"24\", \"t\": 1}, {\"source\": \"19\", \"target\": \"20\", \"t\": 1}, {\"source\": \"20\", \"target\": \"21\", \"t\": 1}, {\"source\": \"21\", \"target\": \"25\", \"t\": 1}, {\"source\": \"22\", \"target\": \"23\", \"t\": 1}, {\"source\": \"23\", \"target\": \"24\", \"t\": 1}, {\"source\": \"23\", \"target\": \"43\", \"t\": 1}, {\"source\": \"24\", \"target\": \"39\", \"t\": 1}, {\"source\": \"25\", \"target\": \"28\", \"t\": 1}, {\"source\": \"26\", \"target\": \"27\", \"t\": 1}, {\"source\": \"27\", \"target\": \"29\", \"t\": 2}, {\"source\": \"28\", \"target\": \"35\", \"t\": 1}, {\"source\": \"29\", \"target\": \"31\", \"t\": 1}, {\"source\": \"30\", \"target\": \"31\", \"t\": 1}, {\"source\": \"30\", \"target\": \"32\", \"t\": 1}, {\"source\": \"31\", \"target\": \"34\", \"t\": 2}, {\"source\": \"32\", \"target\": \"33\", \"t\": 2}, {\"source\": \"33\", \"target\": \"36\", \"t\": 1}, {\"source\": \"34\", \"target\": \"38\", \"t\": 1}, {\"source\": \"35\", \"target\": \"36\", \"t\": 1}, {\"source\": \"35\", \"target\": \"37\", \"t\": 1}, {\"source\": \"36\", \"target\": \"42\", \"t\": 2}, {\"source\": \"37\", \"target\": \"38\", \"t\": 1}, {\"source\": \"37\", \"target\": \"40\", \"t\": 2}, {\"source\": \"38\", \"target\": \"56\", \"t\": 1}, {\"source\": \"39\", \"target\": \"45\", \"t\": 1}, {\"source\": \"40\", \"target\": \"41\", \"t\": 1}, {\"source\": \"41\", \"target\": \"50\", \"t\": 2}, {\"source\": \"42\", \"target\": \"44\", \"t\": 1}, {\"source\": \"43\", \"target\": \"44\", \"t\": 1}, {\"source\": \"43\", \"target\": \"47\", \"t\": 2}, {\"source\": \"44\", \"target\": \"48\", \"t\": 1}, {\"source\": \"45\", \"target\": \"46\", \"t\": 2}, {\"source\": \"46\", \"target\": \"49\", \"t\": 2}, {\"source\": \"47\", \"target\": \"52\", \"t\": 1}, {\"source\": \"48\", \"target\": \"66\", \"t\": 2}, {\"source\": \"49\", \"target\": \"53\", \"t\": 1}, {\"source\": \"50\", \"target\": \"51\", \"t\": 1}, {\"source\": \"51\", \"target\": \"52\", \"t\": 1}, {\"source\": \"51\", \"target\": \"57\", \"t\": 1}, {\"source\": \"52\", \"target\": \"54\", \"t\": 1}, {\"source\": \"53\", \"target\": \"54\", \"t\": 1}, {\"source\": \"53\", \"target\": \"55\", \"t\": 1}, {\"source\": \"54\", \"target\": \"61\", \"t\": 1}, {\"source\": \"55\", \"target\": \"56\", \"t\": 1}, {\"source\": \"55\", \"target\": \"58\", \"t\": 2}, {\"source\": \"56\", \"target\": \"59\", \"t\": 1}, {\"source\": \"57\", \"target\": \"60\", \"t\": 1}, {\"source\": \"58\", \"target\": \"62\", \"t\": 1}, {\"source\": \"59\", \"target\": \"64\", \"t\": 2}, {\"source\": \"60\", \"target\": \"61\", \"t\": 1}, {\"source\": \"60\", \"target\": \"63\", \"t\": 1}, {\"source\": \"61\", \"target\": \"68\", \"t\": 1}, {\"source\": \"62\", \"target\": \"63\", \"t\": 1}, {\"source\": \"62\", \"target\": \"69\", \"t\": 1}, {\"source\": \"63\", \"target\": \"72\", \"t\": 1}, {\"source\": \"64\", \"target\": \"65\", \"t\": 1}, {\"source\": \"65\", \"target\": \"73\", \"t\": 1}, {\"source\": \"66\", \"target\": \"67\", \"t\": 1}, {\"source\": \"67\", \"target\": \"68\", \"t\": 1}, {\"source\": \"67\", \"target\": \"70\", \"t\": 1}, {\"source\": \"68\", \"target\": \"71\", \"t\": 1}]}'), 800.0, 256.0, 6.4);\n",
       "        });\n",
       "        </script>\n",
       "        "
      ],
      "text/plain": [
       "<IPython.core.display.HTML object>"
      ]
     },
     "metadata": {},
     "output_type": "display_data"
    }
   ],
   "source": [
    "seed = 1340\n",
    "random.seed(seed)\n",
    "c = generate_clifford_circuit(5,50,p_cnot=0.30)\n",
    "print(c.stats())\n",
    "zx.d3.draw(c)"
   ]
  },
  {
   "cell_type": "code",
   "execution_count": 250,
   "metadata": {
    "scrolled": false
   },
   "outputs": [
    {
     "name": "stdout",
     "output_type": "stream",
     "text": [
      "Circuit  on 5 qubits with 37 gates.\n",
      "        0 is the T-count\n",
      "        37 Cliffords among which \n",
      "        9 2-qubit gates and 11 Hadamard gates.\n"
     ]
    },
    {
     "data": {
      "text/html": [
       "\n",
       "        <div style=\"overflow:auto\" id=\"graph-output-211\"></div>\n",
       "        <script type=\"text/javascript\">\n",
       "        require.config({ baseUrl: \"../js\",\n",
       "                         paths: {d3: \"d3.v4.min\"} });\n",
       "        require(['pyzx'], function(pyzx) {\n",
       "            pyzx.showGraph('#graph-output-211',\n",
       "            JSON.parse('{\"nodes\": [{\"name\": \"0\", \"x\": 32.0, \"y\": 64.0, \"t\": 0, \"phase\": \"\"}, {\"name\": \"1\", \"x\": 32.0, \"y\": 96.0, \"t\": 0, \"phase\": \"\"}, {\"name\": \"2\", \"x\": 32.0, \"y\": 128.0, \"t\": 0, \"phase\": \"\"}, {\"name\": \"3\", \"x\": 32.0, \"y\": 160.0, \"t\": 0, \"phase\": \"\"}, {\"name\": \"4\", \"x\": 32.0, \"y\": 192.0, \"t\": 0, \"phase\": \"\"}, {\"name\": \"5\", \"x\": 64.0, \"y\": 192.0, \"t\": 1, \"phase\": \"\\u03c0/2\"}, {\"name\": \"6\", \"x\": 96.0, \"y\": 192.0, \"t\": 2, \"phase\": \"\"}, {\"name\": \"7\", \"x\": 96.0, \"y\": 64.0, \"t\": 1, \"phase\": \"\"}, {\"name\": \"8\", \"x\": 128.0, \"y\": 128.0, \"t\": 2, \"phase\": \"\"}, {\"name\": \"9\", \"x\": 128.0, \"y\": 192.0, \"t\": 1, \"phase\": \"\"}, {\"name\": \"10\", \"x\": 160.0, \"y\": 192.0, \"t\": 1, \"phase\": \"\"}, {\"name\": \"11\", \"x\": 128.0, \"y\": 64.0, \"t\": 2, \"phase\": \"\"}, {\"name\": \"12\", \"x\": 128.0, \"y\": 96.0, \"t\": 1, \"phase\": \"\"}, {\"name\": \"13\", \"x\": 192.0, \"y\": 192.0, \"t\": 1, \"phase\": \"\"}, {\"name\": \"14\", \"x\": 224.0, \"y\": 192.0, \"t\": 1, \"phase\": \"\\u03c0/2\"}, {\"name\": \"15\", \"x\": 256.0, \"y\": 192.0, \"t\": 1, \"phase\": \"\\u03c0/2\"}, {\"name\": \"16\", \"x\": 288.0, \"y\": 192.0, \"t\": 1, \"phase\": \"\"}, {\"name\": \"17\", \"x\": 320.0, \"y\": 96.0, \"t\": 2, \"phase\": \"\"}, {\"name\": \"18\", \"x\": 320.0, \"y\": 192.0, \"t\": 1, \"phase\": \"\"}, {\"name\": \"19\", \"x\": 352.0, \"y\": 192.0, \"t\": 1, \"phase\": \"\"}, {\"name\": \"20\", \"x\": 384.0, \"y\": 192.0, \"t\": 1, \"phase\": \"\\u03c0/2\"}, {\"name\": \"21\", \"x\": 160.0, \"y\": 64.0, \"t\": 1, \"phase\": \"\\u03c0\"}, {\"name\": \"22\", \"x\": 416.0, \"y\": 160.0, \"t\": 2, \"phase\": \"\"}, {\"name\": \"23\", \"x\": 416.0, \"y\": 192.0, \"t\": 1, \"phase\": \"\"}, {\"name\": \"24\", \"x\": 448.0, \"y\": 64.0, \"t\": 2, \"phase\": \"\"}, {\"name\": \"25\", \"x\": 448.0, \"y\": 192.0, \"t\": 1, \"phase\": \"\"}, {\"name\": \"26\", \"x\": 480.0, \"y\": 192.0, \"t\": 1, \"phase\": \"\"}, {\"name\": \"27\", \"x\": 512.0, \"y\": 192.0, \"t\": 1, \"phase\": \"\\u03c0/2\"}, {\"name\": \"28\", \"x\": 448.0, \"y\": 160.0, \"t\": 2, \"phase\": \"\\u03c0\"}, {\"name\": \"29\", \"x\": 352.0, \"y\": 96.0, \"t\": 2, \"phase\": \"\\u03c0\"}, {\"name\": \"30\", \"x\": 480.0, \"y\": 160.0, \"t\": 1, \"phase\": \"\\u03c0\"}, {\"name\": \"31\", \"x\": 384.0, \"y\": 96.0, \"t\": 1, \"phase\": \"\\u03c0/2\"}, {\"name\": \"32\", \"x\": 416.0, \"y\": 96.0, \"t\": 1, \"phase\": \"\"}, {\"name\": \"33\", \"x\": 512.0, \"y\": 160.0, \"t\": 2, \"phase\": \"\"}, {\"name\": \"34\", \"x\": 512.0, \"y\": 96.0, \"t\": 1, \"phase\": \"\"}, {\"name\": \"35\", \"x\": 544.0, \"y\": 96.0, \"t\": 1, \"phase\": \"\\u03c0/2\"}, {\"name\": \"36\", \"x\": 576.0, \"y\": 96.0, \"t\": 1, \"phase\": \"\"}, {\"name\": \"37\", \"x\": 608.0, \"y\": 96.0, \"t\": 1, \"phase\": \"\\u03c0/2\"}, {\"name\": \"38\", \"x\": 160.0, \"y\": 128.0, \"t\": 2, \"phase\": \"\\u03c0\"}, {\"name\": \"39\", \"x\": 480.0, \"y\": 64.0, \"t\": 1, \"phase\": \"\\u03c0\"}, {\"name\": \"40\", \"x\": 544.0, \"y\": 160.0, \"t\": 1, \"phase\": \"\\u03c0/2\"}, {\"name\": \"41\", \"x\": 576.0, \"y\": 160.0, \"t\": 2, \"phase\": \"\"}, {\"name\": \"42\", \"x\": 576.0, \"y\": 64.0, \"t\": 1, \"phase\": \"\"}, {\"name\": \"43\", \"x\": 608.0, \"y\": 64.0, \"t\": 1, \"phase\": \"\"}, {\"name\": \"44\", \"x\": 608.0, \"y\": 160.0, \"t\": 1, \"phase\": \"\"}, {\"name\": \"45\", \"x\": 640.0, \"y\": 128.0, \"t\": 2, \"phase\": \"\"}, {\"name\": \"46\", \"x\": 640.0, \"y\": 64.0, \"t\": 1, \"phase\": \"\"}, {\"name\": \"47\", \"x\": 672.0, \"y\": 64.0, \"t\": 1, \"phase\": \"\\u03c0/2\"}, {\"name\": \"48\", \"x\": 704.0, \"y\": 64.0, \"t\": 1, \"phase\": \"\"}, {\"name\": \"49\", \"x\": 736.0, \"y\": 64.0, \"t\": 1, \"phase\": \"\\u03c0/2\"}, {\"name\": \"50\", \"x\": 672.0, \"y\": 128.0, \"t\": 1, \"phase\": \"\"}, {\"name\": \"51\", \"x\": 768.0, \"y\": 64.0, \"t\": 0, \"phase\": \"\"}, {\"name\": \"52\", \"x\": 768.0, \"y\": 96.0, \"t\": 0, \"phase\": \"\"}, {\"name\": \"53\", \"x\": 768.0, \"y\": 128.0, \"t\": 0, \"phase\": \"\"}, {\"name\": \"54\", \"x\": 768.0, \"y\": 160.0, \"t\": 0, \"phase\": \"\"}, {\"name\": \"55\", \"x\": 768.0, \"y\": 192.0, \"t\": 0, \"phase\": \"\"}], \"links\": [{\"source\": \"0\", \"target\": \"7\", \"t\": 1}, {\"source\": \"1\", \"target\": \"12\", \"t\": 1}, {\"source\": \"2\", \"target\": \"8\", \"t\": 1}, {\"source\": \"3\", \"target\": \"22\", \"t\": 1}, {\"source\": \"4\", \"target\": \"5\", \"t\": 1}, {\"source\": \"5\", \"target\": \"6\", \"t\": 1}, {\"source\": \"6\", \"target\": \"7\", \"t\": 1}, {\"source\": \"6\", \"target\": \"9\", \"t\": 1}, {\"source\": \"7\", \"target\": \"11\", \"t\": 1}, {\"source\": \"8\", \"target\": \"9\", \"t\": 1}, {\"source\": \"8\", \"target\": \"38\", \"t\": 1}, {\"source\": \"9\", \"target\": \"10\", \"t\": 2}, {\"source\": \"10\", \"target\": \"13\", \"t\": 2}, {\"source\": \"11\", \"target\": \"12\", \"t\": 1}, {\"source\": \"11\", \"target\": \"21\", \"t\": 1}, {\"source\": \"12\", \"target\": \"17\", \"t\": 1}, {\"source\": \"13\", \"target\": \"14\", \"t\": 1}, {\"source\": \"14\", \"target\": \"15\", \"t\": 1}, {\"source\": \"15\", \"target\": \"16\", \"t\": 2}, {\"source\": \"16\", \"target\": \"18\", \"t\": 1}, {\"source\": \"17\", \"target\": \"18\", \"t\": 1}, {\"source\": \"17\", \"target\": \"29\", \"t\": 1}, {\"source\": \"18\", \"target\": \"19\", \"t\": 2}, {\"source\": \"19\", \"target\": \"20\", \"t\": 1}, {\"source\": \"20\", \"target\": \"23\", \"t\": 1}, {\"source\": \"21\", \"target\": \"24\", \"t\": 1}, {\"source\": \"22\", \"target\": \"23\", \"t\": 1}, {\"source\": \"22\", \"target\": \"28\", \"t\": 1}, {\"source\": \"23\", \"target\": \"25\", \"t\": 1}, {\"source\": \"24\", \"target\": \"25\", \"t\": 1}, {\"source\": \"24\", \"target\": \"39\", \"t\": 1}, {\"source\": \"25\", \"target\": \"26\", \"t\": 2}, {\"source\": \"26\", \"target\": \"27\", \"t\": 1}, {\"source\": \"27\", \"target\": \"55\", \"t\": 1}, {\"source\": \"28\", \"target\": \"30\", \"t\": 1}, {\"source\": \"29\", \"target\": \"31\", \"t\": 1}, {\"source\": \"30\", \"target\": \"33\", \"t\": 1}, {\"source\": \"31\", \"target\": \"32\", \"t\": 2}, {\"source\": \"32\", \"target\": \"34\", \"t\": 1}, {\"source\": \"33\", \"target\": \"34\", \"t\": 1}, {\"source\": \"33\", \"target\": \"40\", \"t\": 1}, {\"source\": \"34\", \"target\": \"35\", \"t\": 1}, {\"source\": \"35\", \"target\": \"36\", \"t\": 2}, {\"source\": \"36\", \"target\": \"37\", \"t\": 1}, {\"source\": \"37\", \"target\": \"52\", \"t\": 1}, {\"source\": \"38\", \"target\": \"45\", \"t\": 1}, {\"source\": \"39\", \"target\": \"42\", \"t\": 1}, {\"source\": \"40\", \"target\": \"41\", \"t\": 1}, {\"source\": \"41\", \"target\": \"42\", \"t\": 1}, {\"source\": \"41\", \"target\": \"44\", \"t\": 2}, {\"source\": \"42\", \"target\": \"43\", \"t\": 2}, {\"source\": \"43\", \"target\": \"46\", \"t\": 1}, {\"source\": \"44\", \"target\": \"54\", \"t\": 1}, {\"source\": \"45\", \"target\": \"46\", \"t\": 1}, {\"source\": \"45\", \"target\": \"50\", \"t\": 2}, {\"source\": \"46\", \"target\": \"47\", \"t\": 1}, {\"source\": \"47\", \"target\": \"48\", \"t\": 2}, {\"source\": \"48\", \"target\": \"49\", \"t\": 1}, {\"source\": \"49\", \"target\": \"51\", \"t\": 1}, {\"source\": \"50\", \"target\": \"53\", \"t\": 1}]}'), 800.0, 256.0, 6.4);\n",
       "        });\n",
       "        </script>\n",
       "        "
      ],
      "text/plain": [
       "<IPython.core.display.HTML object>"
      ]
     },
     "metadata": {},
     "output_type": "display_data"
    }
   ],
   "source": [
    "c2 = optimize_circuit(c)\n",
    "# before, middle, after = find_subcircuit(c, 10, (0,1,2))\n",
    "# c2 = zx.Circuit(4)\n",
    "# c2.gates = before + middle + after\n",
    "#print(zx.compare_tensors(c,c2,False))\n",
    "g = c2.to_graph(True)\n",
    "print(c2.stats())\n",
    "zx.d3.draw(g)"
   ]
  },
  {
   "cell_type": "code",
   "execution_count": 251,
   "metadata": {},
   "outputs": [
    {
     "name": "stdout",
     "output_type": "stream",
     "text": [
      "Circuit  on 5 qubits with 29 gates.\n",
      "        0 is the T-count\n",
      "        29 Cliffords among which \n",
      "        9 2-qubit gates and 8 Hadamard gates.\n"
     ]
    },
    {
     "data": {
      "text/html": [
       "\n",
       "        <div style=\"overflow:auto\" id=\"graph-output-212\"></div>\n",
       "        <script type=\"text/javascript\">\n",
       "        require.config({ baseUrl: \"../js\",\n",
       "                         paths: {d3: \"d3.v4.min\"} });\n",
       "        require(['pyzx'], function(pyzx) {\n",
       "            pyzx.showGraph('#graph-output-212',\n",
       "            JSON.parse('{\"nodes\": [{\"name\": \"0\", \"x\": 44.44444444444444, \"y\": 88.88888888888889, \"t\": 0, \"phase\": \"\"}, {\"name\": \"1\", \"x\": 44.44444444444444, \"y\": 133.33333333333331, \"t\": 0, \"phase\": \"\"}, {\"name\": \"2\", \"x\": 44.44444444444444, \"y\": 177.77777777777777, \"t\": 0, \"phase\": \"\"}, {\"name\": \"3\", \"x\": 44.44444444444444, \"y\": 222.22222222222223, \"t\": 0, \"phase\": \"\"}, {\"name\": \"4\", \"x\": 44.44444444444444, \"y\": 266.66666666666663, \"t\": 0, \"phase\": \"\"}, {\"name\": \"5\", \"x\": 88.88888888888889, \"y\": 266.66666666666663, \"t\": 1, \"phase\": \"\\u03c0/2\"}, {\"name\": \"6\", \"x\": 133.33333333333331, \"y\": 266.66666666666663, \"t\": 2, \"phase\": \"\"}, {\"name\": \"7\", \"x\": 133.33333333333331, \"y\": 88.88888888888889, \"t\": 1, \"phase\": \"\"}, {\"name\": \"8\", \"x\": 177.77777777777777, \"y\": 177.77777777777777, \"t\": 2, \"phase\": \"\"}, {\"name\": \"9\", \"x\": 177.77777777777777, \"y\": 266.66666666666663, \"t\": 1, \"phase\": \"\"}, {\"name\": \"10\", \"x\": 222.22222222222223, \"y\": 266.66666666666663, \"t\": 1, \"phase\": \"\"}, {\"name\": \"11\", \"x\": 177.77777777777777, \"y\": 88.88888888888889, \"t\": 2, \"phase\": \"\"}, {\"name\": \"12\", \"x\": 177.77777777777777, \"y\": 133.33333333333331, \"t\": 1, \"phase\": \"\"}, {\"name\": \"13\", \"x\": 222.22222222222223, \"y\": 177.77777777777777, \"t\": 1, \"phase\": \"\"}, {\"name\": \"14\", \"x\": 266.66666666666663, \"y\": 177.77777777777777, \"t\": 1, \"phase\": \"\\u03c0\"}, {\"name\": \"15\", \"x\": 266.66666666666663, \"y\": 133.33333333333331, \"t\": 2, \"phase\": \"\"}, {\"name\": \"16\", \"x\": 266.66666666666663, \"y\": 266.66666666666663, \"t\": 1, \"phase\": \"\"}, {\"name\": \"17\", \"x\": 311.1111111111111, \"y\": 266.66666666666663, \"t\": 1, \"phase\": \"\"}, {\"name\": \"18\", \"x\": 355.55555555555554, \"y\": 88.88888888888889, \"t\": 2, \"phase\": \"\"}, {\"name\": \"19\", \"x\": 355.55555555555554, \"y\": 266.66666666666663, \"t\": 1, \"phase\": \"\"}, {\"name\": \"20\", \"x\": 400.0, \"y\": 222.22222222222223, \"t\": 2, \"phase\": \"\"}, {\"name\": \"21\", \"x\": 400.0, \"y\": 266.66666666666663, \"t\": 1, \"phase\": \"\"}, {\"name\": \"22\", \"x\": 444.44444444444446, \"y\": 266.66666666666663, \"t\": 1, \"phase\": \"\\u03c0/2\"}, {\"name\": \"23\", \"x\": 488.88888888888886, \"y\": 266.66666666666663, \"t\": 1, \"phase\": \"\"}, {\"name\": \"24\", \"x\": 533.3333333333333, \"y\": 266.66666666666663, \"t\": 1, \"phase\": \"\\u03c0/2\"}, {\"name\": \"25\", \"x\": 400.0, \"y\": 88.88888888888889, \"t\": 1, \"phase\": \"3\\u03c0/2\"}, {\"name\": \"26\", \"x\": 311.1111111111111, \"y\": 133.33333333333331, \"t\": 1, \"phase\": \"\\u03c0/2\"}, {\"name\": \"27\", \"x\": 355.55555555555554, \"y\": 133.33333333333331, \"t\": 1, \"phase\": \"\"}, {\"name\": \"28\", \"x\": 400.0, \"y\": 133.33333333333331, \"t\": 1, \"phase\": \"3\\u03c0/2\"}, {\"name\": \"29\", \"x\": 444.44444444444446, \"y\": 222.22222222222223, \"t\": 2, \"phase\": \"\"}, {\"name\": \"30\", \"x\": 444.44444444444446, \"y\": 133.33333333333331, \"t\": 1, \"phase\": \"\"}, {\"name\": \"31\", \"x\": 488.88888888888886, \"y\": 222.22222222222223, \"t\": 1, \"phase\": \"\\u03c0/2\"}, {\"name\": \"32\", \"x\": 533.3333333333333, \"y\": 222.22222222222223, \"t\": 2, \"phase\": \"\"}, {\"name\": \"33\", \"x\": 533.3333333333333, \"y\": 88.88888888888889, \"t\": 1, \"phase\": \"\"}, {\"name\": \"34\", \"x\": 577.7777777777777, \"y\": 222.22222222222223, \"t\": 1, \"phase\": \"\"}, {\"name\": \"35\", \"x\": 622.2222222222222, \"y\": 222.22222222222223, \"t\": 1, \"phase\": \"\\u03c0\"}, {\"name\": \"36\", \"x\": 577.7777777777777, \"y\": 88.88888888888889, \"t\": 1, \"phase\": \"\"}, {\"name\": \"37\", \"x\": 622.2222222222222, \"y\": 88.88888888888889, \"t\": 1, \"phase\": \"3\\u03c0/2\"}, {\"name\": \"38\", \"x\": 488.88888888888886, \"y\": 133.33333333333331, \"t\": 1, \"phase\": \"\"}, {\"name\": \"39\", \"x\": 533.3333333333333, \"y\": 133.33333333333331, \"t\": 1, \"phase\": \"\\u03c0/2\"}, {\"name\": \"40\", \"x\": 666.6666666666666, \"y\": 88.88888888888889, \"t\": 2, \"phase\": \"\"}, {\"name\": \"41\", \"x\": 666.6666666666666, \"y\": 177.77777777777777, \"t\": 1, \"phase\": \"\"}, {\"name\": \"42\", \"x\": 711.1111111111111, \"y\": 88.88888888888889, \"t\": 1, \"phase\": \"\\u03c0/2\"}, {\"name\": \"43\", \"x\": 755.5555555555555, \"y\": 88.88888888888889, \"t\": 0, \"phase\": \"\"}, {\"name\": \"44\", \"x\": 755.5555555555555, \"y\": 133.33333333333331, \"t\": 0, \"phase\": \"\"}, {\"name\": \"45\", \"x\": 755.5555555555555, \"y\": 177.77777777777777, \"t\": 0, \"phase\": \"\"}, {\"name\": \"46\", \"x\": 755.5555555555555, \"y\": 222.22222222222223, \"t\": 0, \"phase\": \"\"}, {\"name\": \"47\", \"x\": 755.5555555555555, \"y\": 266.66666666666663, \"t\": 0, \"phase\": \"\"}], \"links\": [{\"source\": \"0\", \"target\": \"7\", \"t\": 1}, {\"source\": \"1\", \"target\": \"12\", \"t\": 1}, {\"source\": \"2\", \"target\": \"8\", \"t\": 1}, {\"source\": \"3\", \"target\": \"20\", \"t\": 1}, {\"source\": \"4\", \"target\": \"5\", \"t\": 1}, {\"source\": \"5\", \"target\": \"6\", \"t\": 1}, {\"source\": \"6\", \"target\": \"7\", \"t\": 1}, {\"source\": \"6\", \"target\": \"9\", \"t\": 1}, {\"source\": \"7\", \"target\": \"11\", \"t\": 1}, {\"source\": \"8\", \"target\": \"9\", \"t\": 1}, {\"source\": \"8\", \"target\": \"13\", \"t\": 2}, {\"source\": \"9\", \"target\": \"10\", \"t\": 2}, {\"source\": \"10\", \"target\": \"16\", \"t\": 1}, {\"source\": \"11\", \"target\": \"12\", \"t\": 1}, {\"source\": \"11\", \"target\": \"18\", \"t\": 1}, {\"source\": \"12\", \"target\": \"15\", \"t\": 1}, {\"source\": \"13\", \"target\": \"14\", \"t\": 1}, {\"source\": \"14\", \"target\": \"41\", \"t\": 1}, {\"source\": \"15\", \"target\": \"16\", \"t\": 1}, {\"source\": \"15\", \"target\": \"26\", \"t\": 1}, {\"source\": \"16\", \"target\": \"17\", \"t\": 2}, {\"source\": \"17\", \"target\": \"19\", \"t\": 1}, {\"source\": \"18\", \"target\": \"19\", \"t\": 1}, {\"source\": \"18\", \"target\": \"25\", \"t\": 1}, {\"source\": \"19\", \"target\": \"21\", \"t\": 1}, {\"source\": \"20\", \"target\": \"21\", \"t\": 1}, {\"source\": \"20\", \"target\": \"29\", \"t\": 1}, {\"source\": \"21\", \"target\": \"22\", \"t\": 1}, {\"source\": \"22\", \"target\": \"23\", \"t\": 2}, {\"source\": \"23\", \"target\": \"24\", \"t\": 1}, {\"source\": \"24\", \"target\": \"47\", \"t\": 1}, {\"source\": \"25\", \"target\": \"33\", \"t\": 1}, {\"source\": \"26\", \"target\": \"27\", \"t\": 2}, {\"source\": \"27\", \"target\": \"28\", \"t\": 1}, {\"source\": \"28\", \"target\": \"30\", \"t\": 1}, {\"source\": \"29\", \"target\": \"30\", \"t\": 1}, {\"source\": \"29\", \"target\": \"31\", \"t\": 1}, {\"source\": \"30\", \"target\": \"38\", \"t\": 2}, {\"source\": \"31\", \"target\": \"32\", \"t\": 1}, {\"source\": \"32\", \"target\": \"33\", \"t\": 1}, {\"source\": \"32\", \"target\": \"34\", \"t\": 2}, {\"source\": \"33\", \"target\": \"36\", \"t\": 2}, {\"source\": \"34\", \"target\": \"35\", \"t\": 1}, {\"source\": \"35\", \"target\": \"46\", \"t\": 1}, {\"source\": \"36\", \"target\": \"37\", \"t\": 1}, {\"source\": \"37\", \"target\": \"40\", \"t\": 1}, {\"source\": \"38\", \"target\": \"39\", \"t\": 1}, {\"source\": \"39\", \"target\": \"44\", \"t\": 1}, {\"source\": \"40\", \"target\": \"41\", \"t\": 1}, {\"source\": \"40\", \"target\": \"42\", \"t\": 1}, {\"source\": \"41\", \"target\": \"45\", \"t\": 1}, {\"source\": \"42\", \"target\": \"43\", \"t\": 1}]}'), 800.0, 355.55555555555554, 8.88888888888889);\n",
       "        });\n",
       "        </script>\n",
       "        "
      ],
      "text/plain": [
       "<IPython.core.display.HTML object>"
      ]
     },
     "metadata": {},
     "output_type": "display_data"
    }
   ],
   "source": [
    "c_opt = zx.optimize.basic_optimization(c2,False).to_basic_gates()\n",
    "print(c_opt.stats())\n",
    "zx.d3.draw(c_opt)"
   ]
  },
  {
   "cell_type": "code",
   "execution_count": 252,
   "metadata": {},
   "outputs": [
    {
     "name": "stdout",
     "output_type": "stream",
     "text": [
      "Circuit  on 5 qubits with 29 gates.\n",
      "        0 is the T-count\n",
      "        29 Cliffords among which \n",
      "        9 2-qubit gates and 8 Hadamard gates.\n"
     ]
    },
    {
     "data": {
      "text/html": [
       "\n",
       "        <div style=\"overflow:auto\" id=\"graph-output-213\"></div>\n",
       "        <script type=\"text/javascript\">\n",
       "        require.config({ baseUrl: \"../js\",\n",
       "                         paths: {d3: \"d3.v4.min\"} });\n",
       "        require(['pyzx'], function(pyzx) {\n",
       "            pyzx.showGraph('#graph-output-213',\n",
       "            JSON.parse('{\"nodes\": [{\"name\": \"0\", \"x\": 44.44444444444444, \"y\": 88.88888888888889, \"t\": 0, \"phase\": \"\"}, {\"name\": \"1\", \"x\": 44.44444444444444, \"y\": 133.33333333333331, \"t\": 0, \"phase\": \"\"}, {\"name\": \"2\", \"x\": 44.44444444444444, \"y\": 177.77777777777777, \"t\": 0, \"phase\": \"\"}, {\"name\": \"3\", \"x\": 44.44444444444444, \"y\": 222.22222222222223, \"t\": 0, \"phase\": \"\"}, {\"name\": \"4\", \"x\": 44.44444444444444, \"y\": 266.66666666666663, \"t\": 0, \"phase\": \"\"}, {\"name\": \"5\", \"x\": 88.88888888888889, \"y\": 266.66666666666663, \"t\": 1, \"phase\": \"\\u03c0/2\"}, {\"name\": \"6\", \"x\": 133.33333333333331, \"y\": 266.66666666666663, \"t\": 2, \"phase\": \"\"}, {\"name\": \"7\", \"x\": 133.33333333333331, \"y\": 88.88888888888889, \"t\": 1, \"phase\": \"\"}, {\"name\": \"8\", \"x\": 177.77777777777777, \"y\": 177.77777777777777, \"t\": 2, \"phase\": \"\"}, {\"name\": \"9\", \"x\": 177.77777777777777, \"y\": 266.66666666666663, \"t\": 1, \"phase\": \"\"}, {\"name\": \"10\", \"x\": 222.22222222222223, \"y\": 266.66666666666663, \"t\": 1, \"phase\": \"\"}, {\"name\": \"11\", \"x\": 177.77777777777777, \"y\": 88.88888888888889, \"t\": 2, \"phase\": \"\"}, {\"name\": \"12\", \"x\": 177.77777777777777, \"y\": 133.33333333333331, \"t\": 1, \"phase\": \"\"}, {\"name\": \"13\", \"x\": 222.22222222222223, \"y\": 177.77777777777777, \"t\": 1, \"phase\": \"\"}, {\"name\": \"14\", \"x\": 266.66666666666663, \"y\": 177.77777777777777, \"t\": 1, \"phase\": \"\\u03c0\"}, {\"name\": \"15\", \"x\": 266.66666666666663, \"y\": 133.33333333333331, \"t\": 2, \"phase\": \"\"}, {\"name\": \"16\", \"x\": 266.66666666666663, \"y\": 266.66666666666663, \"t\": 1, \"phase\": \"\"}, {\"name\": \"17\", \"x\": 311.1111111111111, \"y\": 266.66666666666663, \"t\": 1, \"phase\": \"\"}, {\"name\": \"18\", \"x\": 355.55555555555554, \"y\": 88.88888888888889, \"t\": 2, \"phase\": \"\"}, {\"name\": \"19\", \"x\": 355.55555555555554, \"y\": 266.66666666666663, \"t\": 1, \"phase\": \"\"}, {\"name\": \"20\", \"x\": 400.0, \"y\": 222.22222222222223, \"t\": 2, \"phase\": \"\"}, {\"name\": \"21\", \"x\": 400.0, \"y\": 266.66666666666663, \"t\": 1, \"phase\": \"\"}, {\"name\": \"22\", \"x\": 444.44444444444446, \"y\": 266.66666666666663, \"t\": 1, \"phase\": \"\\u03c0/2\"}, {\"name\": \"23\", \"x\": 488.88888888888886, \"y\": 266.66666666666663, \"t\": 1, \"phase\": \"\"}, {\"name\": \"24\", \"x\": 533.3333333333333, \"y\": 266.66666666666663, \"t\": 1, \"phase\": \"\\u03c0/2\"}, {\"name\": \"25\", \"x\": 400.0, \"y\": 88.88888888888889, \"t\": 1, \"phase\": \"3\\u03c0/2\"}, {\"name\": \"26\", \"x\": 311.1111111111111, \"y\": 133.33333333333331, \"t\": 1, \"phase\": \"\\u03c0/2\"}, {\"name\": \"27\", \"x\": 355.55555555555554, \"y\": 133.33333333333331, \"t\": 1, \"phase\": \"\"}, {\"name\": \"28\", \"x\": 400.0, \"y\": 133.33333333333331, \"t\": 1, \"phase\": \"3\\u03c0/2\"}, {\"name\": \"29\", \"x\": 444.44444444444446, \"y\": 222.22222222222223, \"t\": 2, \"phase\": \"\"}, {\"name\": \"30\", \"x\": 444.44444444444446, \"y\": 133.33333333333331, \"t\": 1, \"phase\": \"\"}, {\"name\": \"31\", \"x\": 488.88888888888886, \"y\": 222.22222222222223, \"t\": 1, \"phase\": \"\\u03c0/2\"}, {\"name\": \"32\", \"x\": 533.3333333333333, \"y\": 222.22222222222223, \"t\": 2, \"phase\": \"\"}, {\"name\": \"33\", \"x\": 533.3333333333333, \"y\": 88.88888888888889, \"t\": 1, \"phase\": \"\"}, {\"name\": \"34\", \"x\": 577.7777777777777, \"y\": 222.22222222222223, \"t\": 1, \"phase\": \"\"}, {\"name\": \"35\", \"x\": 622.2222222222222, \"y\": 222.22222222222223, \"t\": 1, \"phase\": \"\\u03c0\"}, {\"name\": \"36\", \"x\": 577.7777777777777, \"y\": 88.88888888888889, \"t\": 1, \"phase\": \"\"}, {\"name\": \"37\", \"x\": 622.2222222222222, \"y\": 88.88888888888889, \"t\": 1, \"phase\": \"3\\u03c0/2\"}, {\"name\": \"38\", \"x\": 488.88888888888886, \"y\": 133.33333333333331, \"t\": 1, \"phase\": \"\"}, {\"name\": \"39\", \"x\": 533.3333333333333, \"y\": 133.33333333333331, \"t\": 1, \"phase\": \"\\u03c0/2\"}, {\"name\": \"40\", \"x\": 666.6666666666666, \"y\": 88.88888888888889, \"t\": 2, \"phase\": \"\"}, {\"name\": \"41\", \"x\": 666.6666666666666, \"y\": 177.77777777777777, \"t\": 1, \"phase\": \"\"}, {\"name\": \"42\", \"x\": 711.1111111111111, \"y\": 88.88888888888889, \"t\": 1, \"phase\": \"\\u03c0/2\"}, {\"name\": \"43\", \"x\": 755.5555555555555, \"y\": 88.88888888888889, \"t\": 0, \"phase\": \"\"}, {\"name\": \"44\", \"x\": 755.5555555555555, \"y\": 133.33333333333331, \"t\": 0, \"phase\": \"\"}, {\"name\": \"45\", \"x\": 755.5555555555555, \"y\": 177.77777777777777, \"t\": 0, \"phase\": \"\"}, {\"name\": \"46\", \"x\": 755.5555555555555, \"y\": 222.22222222222223, \"t\": 0, \"phase\": \"\"}, {\"name\": \"47\", \"x\": 755.5555555555555, \"y\": 266.66666666666663, \"t\": 0, \"phase\": \"\"}], \"links\": [{\"source\": \"0\", \"target\": \"7\", \"t\": 1}, {\"source\": \"1\", \"target\": \"12\", \"t\": 1}, {\"source\": \"2\", \"target\": \"8\", \"t\": 1}, {\"source\": \"3\", \"target\": \"20\", \"t\": 1}, {\"source\": \"4\", \"target\": \"5\", \"t\": 1}, {\"source\": \"5\", \"target\": \"6\", \"t\": 1}, {\"source\": \"6\", \"target\": \"7\", \"t\": 1}, {\"source\": \"6\", \"target\": \"9\", \"t\": 1}, {\"source\": \"7\", \"target\": \"11\", \"t\": 1}, {\"source\": \"8\", \"target\": \"9\", \"t\": 1}, {\"source\": \"8\", \"target\": \"13\", \"t\": 2}, {\"source\": \"9\", \"target\": \"10\", \"t\": 2}, {\"source\": \"10\", \"target\": \"16\", \"t\": 1}, {\"source\": \"11\", \"target\": \"12\", \"t\": 1}, {\"source\": \"11\", \"target\": \"18\", \"t\": 1}, {\"source\": \"12\", \"target\": \"15\", \"t\": 1}, {\"source\": \"13\", \"target\": \"14\", \"t\": 1}, {\"source\": \"14\", \"target\": \"41\", \"t\": 1}, {\"source\": \"15\", \"target\": \"16\", \"t\": 1}, {\"source\": \"15\", \"target\": \"26\", \"t\": 1}, {\"source\": \"16\", \"target\": \"17\", \"t\": 2}, {\"source\": \"17\", \"target\": \"19\", \"t\": 1}, {\"source\": \"18\", \"target\": \"19\", \"t\": 1}, {\"source\": \"18\", \"target\": \"25\", \"t\": 1}, {\"source\": \"19\", \"target\": \"21\", \"t\": 1}, {\"source\": \"20\", \"target\": \"21\", \"t\": 1}, {\"source\": \"20\", \"target\": \"29\", \"t\": 1}, {\"source\": \"21\", \"target\": \"22\", \"t\": 1}, {\"source\": \"22\", \"target\": \"23\", \"t\": 2}, {\"source\": \"23\", \"target\": \"24\", \"t\": 1}, {\"source\": \"24\", \"target\": \"47\", \"t\": 1}, {\"source\": \"25\", \"target\": \"33\", \"t\": 1}, {\"source\": \"26\", \"target\": \"27\", \"t\": 2}, {\"source\": \"27\", \"target\": \"28\", \"t\": 1}, {\"source\": \"28\", \"target\": \"30\", \"t\": 1}, {\"source\": \"29\", \"target\": \"30\", \"t\": 1}, {\"source\": \"29\", \"target\": \"31\", \"t\": 1}, {\"source\": \"30\", \"target\": \"38\", \"t\": 2}, {\"source\": \"31\", \"target\": \"32\", \"t\": 1}, {\"source\": \"32\", \"target\": \"33\", \"t\": 1}, {\"source\": \"32\", \"target\": \"34\", \"t\": 2}, {\"source\": \"33\", \"target\": \"36\", \"t\": 2}, {\"source\": \"34\", \"target\": \"35\", \"t\": 1}, {\"source\": \"35\", \"target\": \"46\", \"t\": 1}, {\"source\": \"36\", \"target\": \"37\", \"t\": 1}, {\"source\": \"37\", \"target\": \"40\", \"t\": 1}, {\"source\": \"38\", \"target\": \"39\", \"t\": 1}, {\"source\": \"39\", \"target\": \"44\", \"t\": 1}, {\"source\": \"40\", \"target\": \"41\", \"t\": 1}, {\"source\": \"40\", \"target\": \"42\", \"t\": 1}, {\"source\": \"41\", \"target\": \"45\", \"t\": 1}, {\"source\": \"42\", \"target\": \"43\", \"t\": 1}]}'), 800.0, 355.55555555555554, 8.88888888888889);\n",
       "        });\n",
       "        </script>\n",
       "        "
      ],
      "text/plain": [
       "<IPython.core.display.HTML object>"
      ]
     },
     "metadata": {},
     "output_type": "display_data"
    }
   ],
   "source": [
    "c3 = optimize_circuit(c_opt)\n",
    "print(c3.stats())\n",
    "zx.d3.draw(c3)"
   ]
  },
  {
   "cell_type": "code",
   "execution_count": 217,
   "metadata": {},
   "outputs": [
    {
     "name": "stdout",
     "output_type": "stream",
     "text": [
      "Circuit  on 10 qubits with 33 gates.\n",
      "        0 is the T-count\n",
      "        33 Cliffords among which \n",
      "        15 2-qubit gates and 8 Hadamard gates.\n"
     ]
    }
   ],
   "source": [
    "g = c.to_graph()\n",
    "zx.clifford_simp(g,quiet=True)\n",
    "c3 = zx.optimize.basic_optimization(zx.extract.streaming_extract(g).to_basic_gates(),False)\n",
    "print(c3.stats())"
   ]
  },
  {
   "cell_type": "code",
   "execution_count": 258,
   "metadata": {},
   "outputs": [
    {
     "name": "stdout",
     "output_type": "stream",
     "text": [
      "12.2 10.333333333333334 10.333333333333334 10.3\n"
     ]
    }
   ],
   "source": [
    "#Benchmark\n",
    "\n",
    "qubits = 6\n",
    "depth = 60\n",
    "reps = 30\n",
    "\n",
    "counts = []\n",
    "\n",
    "for _ in range(reps):\n",
    "    c = generate_clifford_circuit(7,40,p_cnot=0.3)\n",
    "    c2 = optimize_circuit(c)\n",
    "    c3 = zx.optimize.basic_optimization(c2,False).to_basic_gates()\n",
    "    c4 = optimize_circuit(convert_CZs(c3))\n",
    "    counts.append((c.twoqubitcount(),c2.twoqubitcount(),c3.twoqubitcount(),c4.twoqubitcount()))\n",
    "    if c2.twoqubitcount() > c3.twoqubitcount():\n",
    "        zx.d3.draw(c2)\n",
    "        zx.d3.draw(c3)\n",
    "a,b,c,d = 0,0,0,0\n",
    "for i,j,k,l in counts:\n",
    "    a += i\n",
    "    b += j\n",
    "    c += k\n",
    "    d += l\n",
    "print(a/reps, b/reps, c/reps, d/reps)"
   ]
  }
 ],
 "metadata": {
  "kernelspec": {
   "display_name": "Python 3",
   "language": "python",
   "name": "python3"
  },
  "language_info": {
   "codemirror_mode": {
    "name": "ipython",
    "version": 3
   },
   "file_extension": ".py",
   "mimetype": "text/x-python",
   "name": "python",
   "nbconvert_exporter": "python",
   "pygments_lexer": "ipython3",
   "version": "3.7.4"
  }
 },
 "nbformat": 4,
 "nbformat_minor": 2
}
