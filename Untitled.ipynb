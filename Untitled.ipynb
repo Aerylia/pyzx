{
 "cells": [
  {
   "cell_type": "code",
   "execution_count": 1,
   "metadata": {},
   "outputs": [],
   "source": [
    "import pyzx as zx\n",
    "from pyzx.circuit import Circuit, Gate, ZPhase, XPhase, CZ, CX, CNOT, HAD\n",
    "# %config InlineBackend.figure_format = 'svg'"
   ]
  },
  {
   "cell_type": "code",
   "execution_count": 2,
   "metadata": {},
   "outputs": [
    {
     "name": "stdout",
     "output_type": "stream",
     "text": [
      "112\n"
     ]
    }
   ],
   "source": [
    "circ_before = zx.Circuit.load(\"/Users/alexandercowtan/pyzx/circuits/Fast/gf2^4_mult_before\").to_basic_gates()\n",
    "tcount_before = circ_before.tcount()\n",
    "print(tcount_before)"
   ]
  },
  {
   "cell_type": "code",
   "execution_count": 3,
   "metadata": {},
   "outputs": [],
   "source": [
    "# counter = 0\n",
    "# while True:\n",
    "g = circ_before.to_graph()\n",
    "g = zx.simplify.teleport_reduce(g)\n",
    "c_opt = zx.Circuit.from_graph(g).split_phase_gates().to_basic_gates()\n",
    "c_opt = zx.optimize.full_optimize(c_opt)\n",
    "    # print(c_opt.tcount())\n",
    "    # print(c_opt.stats())\n",
    "#     total = 0\n",
    "#     tcount = 0\n",
    "#     twoqubit = 0\n",
    "#     hadamard = 0\n",
    "#     clifford = 0\n",
    "#     other = 0\n",
    "#     for g in c_opt.gates:\n",
    "#         total += 1\n",
    "#         tcount += g.tcount()\n",
    "#         if isinstance(g, (ZPhase, XPhase)):\n",
    "#             if g.phase.denominator <= 2: clifford += 1\n",
    "#         elif isinstance(g, HAD):\n",
    "#             hadamard += 1\n",
    "#             clifford += 1\n",
    "#         elif isinstance(g, (CZ,CX,CNOT)):\n",
    "#             twoqubit += 1\n",
    "#             clifford += 1\n",
    "#         else:\n",
    "#             other += 1\n",
    "#     if other > 0:\n",
    "#         break\n",
    "#     counter+=1\n",
    "#     print(counter)"
   ]
  },
  {
   "cell_type": "code",
   "execution_count": 4,
   "metadata": {},
   "outputs": [],
   "source": [
    "quipper_str = c_opt.to_quipper()\n",
    "qc_str = c_opt.to_qc()\n",
    "qasm_str = c_opt.to_qasm()"
   ]
  },
  {
   "cell_type": "code",
   "execution_count": 5,
   "metadata": {},
   "outputs": [],
   "source": [
    "# fig = zx.draw(c_opt,figsize=(50,8))"
   ]
  },
  {
   "cell_type": "code",
   "execution_count": 6,
   "metadata": {},
   "outputs": [],
   "source": [
    "# from qiskit.circuit.quantumcircuit import QuantumCircuit\n",
    "\n",
    "# def print_via_qiskit(zx_circuit):\n",
    "#     pyzx_str = zx_circuit.to_qasm()\n",
    "#     qiskit_circuit = QuantumCircuit.from_qasm_str(pyzx_str)\n",
    "#     print(qiskit_circuit)"
   ]
  },
  {
   "cell_type": "code",
   "execution_count": 7,
   "metadata": {},
   "outputs": [],
   "source": [
    "# fig.savefig(\"c_opt.png\")"
   ]
  },
  {
   "cell_type": "code",
   "execution_count": 8,
   "metadata": {},
   "outputs": [],
   "source": [
    "with open(\"gf2^4_mult_pyzx_todd2.quip\", \"w\") as text_file:\n",
    "    text_file.write(quipper_str)\n",
    "\n",
    "with open(\"gf2^4_mult_pyzx_todd2.qc\", \"w\") as text_file:\n",
    "    text_file.write(qc_str)\n",
    "    \n",
    "with open(\"gf2^4_mult_pyzx_todd2.qasm\", \"w\") as text_file:\n",
    "    text_file.write(qasm_str)"
   ]
  },
  {
   "cell_type": "code",
   "execution_count": null,
   "metadata": {},
   "outputs": [],
   "source": []
  }
 ],
 "metadata": {
  "kernelspec": {
   "display_name": "Python 3",
   "language": "python",
   "name": "python3"
  },
  "language_info": {
   "codemirror_mode": {
    "name": "ipython",
    "version": 3
   },
   "file_extension": ".py",
   "mimetype": "text/x-python",
   "name": "python",
   "nbconvert_exporter": "python",
   "pygments_lexer": "ipython3",
   "version": "3.7.2"
  }
 },
 "nbformat": 4,
 "nbformat_minor": 2
}
