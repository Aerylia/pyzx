{
 "cells": [
  {
   "cell_type": "markdown",
   "metadata": {},
   "source": [
    "# PermRowCol experimental results"
   ]
  },
  {
   "cell_type": "code",
   "execution_count": 15,
   "metadata": {},
   "outputs": [],
   "source": [
    "import os\n",
    "\n",
    "import numpy as np\n",
    "import pandas as pd\n",
    "import pyzx as zx\n",
    "\n",
    "from pyzx import Circuit, cnot_mapper, architecture"
   ]
  },
  {
   "cell_type": "markdown",
   "metadata": {},
   "source": [
    "First, we specify some code to read the dataset of CNOT circuits that was used in [ArXiv 1904.00633](https://arxiv.org/pdf/1904.00633.pdf)."
   ]
  },
  {
   "cell_type": "code",
   "execution_count": 30,
   "metadata": {},
   "outputs": [],
   "source": [
    "def read_circuit(source):\n",
    "    if not os.path.exists(source):\n",
    "        print(\"File {} does not exist\".format(source))\n",
    "        return\n",
    "    return cnot_mapper.CNOT_tracker.from_qasm_file(source)\n",
    "\n",
    "def read_circuits(n_qubits):\n",
    "    source_folder = \"../circuits/steiner/\"\n",
    "    circuits = []\n",
    "    sources = []\n",
    "    subfolder = os.path.join(source_folder, str(n_qubits)+\"qubits/\")\n",
    "\n",
    "    for folder in os.listdir(subfolder):\n",
    "        for file in os.listdir(os.path.join(subfolder, folder)):\n",
    "            if file.endswith(\".qasm\"):\n",
    "                src = os.path.join(subfolder, folder, file)\n",
    "                circuit = read_circuit(src)\n",
    "                circuits.append(circuit)\n",
    "                sources.append(src)\n",
    "    return circuits, sources"
   ]
  },
  {
   "cell_type": "markdown",
   "metadata": {},
   "source": [
    "Then we run our experiment with the algorithms as they are."
   ]
  },
  {
   "cell_type": "code",
   "execution_count": 56,
   "metadata": {},
   "outputs": [
    {
     "name": "stdout",
     "output_type": "stream",
     "text": [
      "                              SteinerGauss              RowCol               \\\n",
      "                                     count overhead (%)  count overhead (%)   \n",
      "Original Architecture #Qubits                                                 \n",
      "3        9q-square    9              11.50   283.333333  11.45   281.666667   \n",
      "5        9q-square    9              20.30   306.000000  18.75   275.000000   \n",
      "10       9q-square    9              32.80   228.000000  30.25   202.500000   \n",
      "20       9q-square    9              48.25   141.250000  45.25   126.250000   \n",
      "30       9q-square    9              53.65    78.833333  54.65    82.166667   \n",
      "\n",
      "                              PermRowCol               \n",
      "                                   count overhead (%)  \n",
      "Original Architecture #Qubits                          \n",
      "3        9q-square    9             9.25   208.333333  \n",
      "5        9q-square    9            18.05   261.000000  \n",
      "10       9q-square    9            28.60   186.000000  \n",
      "20       9q-square    9            38.80    94.000000  \n",
      "30       9q-square    9            48.65    62.166667  \n"
     ]
    }
   ],
   "source": [
    "def run_steiner_gauss(circuit, arch):\n",
    "    c = cnot_mapper.CNOT_tracker(circuit.n_qubits)\n",
    "    cnot_mapper.gauss(cnot_mapper.STEINER_MODE, circuit.matrix.copy(), architecture=arch, y=c, full_reduce=True)\n",
    "    return c.count_cnots()\n",
    "\n",
    "def run_rowcol(circuit, arch):\n",
    "    c = cnot_mapper.CNOT_tracker(circuit.n_qubits)\n",
    "    cnot_mapper.gauss(cnot_mapper.ROWCOL_MODE, circuit.matrix.copy(), architecture=arch, y=c, full_reduce=True)\n",
    "    return c.count_cnots()\n",
    "\n",
    "def run_perm_rowcol(circuit, arch):\n",
    "    c = cnot_mapper.CNOT_tracker(circuit.n_qubits)\n",
    "    cnot_mapper.permrowcol(circuit.matrix.copy(), architecture=arch, y=c)\n",
    "    return c.count_cnots()\n",
    "\n",
    "def run_experiment(arch):\n",
    "    n_qubits = arch.n_qubits\n",
    "    og_circuits, srcs = read_circuits(n_qubits)\n",
    "    results = pd.DataFrame()\n",
    "\n",
    "    method = {\n",
    "        \"SteinerGauss\": run_steiner_gauss,\n",
    "        \"RowCol\": run_rowcol,\n",
    "        \"PermRowCol\": run_perm_rowcol\n",
    "    }\n",
    "\n",
    "    results[\"Original\"] = np.array([int(src.split(\"/\")[-2]) for src in srcs])\n",
    "    results[\"#Qubits\"] = np.array([n_qubits]*len(og_circuits))\n",
    "    results[\"Architecture\"] = np.array([arch.name]*len(og_circuits))\n",
    "    \n",
    "    for m, func in method.items():\n",
    "        results[(m, \"count\")] = np.array([func(c, arch) for c in og_circuits])\n",
    "        results[(m, \"overhead (%)\")] = (results[(m, \"count\")]/results[\"Original\"] - 1)*100\n",
    "\n",
    "    results = results.groupby([\"Original\", \"Architecture\", \"#Qubits\"]).mean()\n",
    "\n",
    "    results.columns = pd.MultiIndex.from_tuples(results.columns.tolist())    \n",
    "    return results\n",
    "    \n",
    "archs = [\n",
    "    architecture.create_architecture(architecture.SQUARE, n_qubits=9),\n",
    "    architecture.create_architecture(architecture.SQUARE, n_qubits=16),\n",
    "    architecture.create_architecture(architecture.RIGETTI_16Q_ASPEN),\n",
    "    architecture.create_architecture(architecture.IBM_QX5),\n",
    "    architecture.create_architecture(architecture.IBM_Q20_TOKYO)\n",
    "]\n",
    "\n",
    "results = pd.concat([run_experiment(arch) for arch in archs])\n",
    "\n",
    "print(results.head(5))"
   ]
  },
  {
   "cell_type": "markdown",
   "metadata": {},
   "source": [
    "Note that these numbers do not correspond with the original paper for the SteinerGauss algorithm. The reason is that in the paper, we used a genetic algorithm to improve the mapping of the circuit. \n",
    "However, we can see that for the algorithms on their own the new PermRowCol algorithm is consistently finding less CNOTs.\n",
    "\n",
    "Next, we will compare the results with the genetic algorithm for optimizing the initial qubit mapping for the SteinerGauss and RowCol algorithms, and compare that against the PermRowCol combined with a Reverse Traversal strategy for optimizing the mapping."
   ]
  },
  {
   "cell_type": "code",
   "execution_count": 55,
   "metadata": {},
   "outputs": [],
   "source": [
    "# TODO"
   ]
  }
 ],
 "metadata": {
  "interpreter": {
   "hash": "7c55d81be2c2f16b11dc485c915312baeb91d9c46498e454e73f07abf018bec5"
  },
  "kernelspec": {
   "display_name": "Python 3.8.12 ('steiner8')",
   "language": "python",
   "name": "python3"
  },
  "language_info": {
   "codemirror_mode": {
    "name": "ipython",
    "version": 3
   },
   "file_extension": ".py",
   "mimetype": "text/x-python",
   "name": "python",
   "nbconvert_exporter": "python",
   "pygments_lexer": "ipython3",
   "version": "3.8.12"
  },
  "orig_nbformat": 4
 },
 "nbformat": 4,
 "nbformat_minor": 2
}
